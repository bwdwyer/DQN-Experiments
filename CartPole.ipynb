{
 "cells": [
  {
   "cell_type": "markdown",
   "id": "977179fe-1c00-41ab-9071-f9fe959d327b",
   "metadata": {},
   "source": [
    "## Setup"
   ]
  },
  {
   "cell_type": "code",
   "execution_count": 1,
   "id": "935efc63-9809-49bb-9d12-c441a5aebd0f",
   "metadata": {
    "ExecuteTime": {
     "end_time": "2023-07-08T17:12:29.094071Z",
     "start_time": "2023-07-08T17:12:27.132455Z"
    },
    "editable": true,
    "slideshow": {
     "slide_type": ""
    },
    "tags": []
   },
   "outputs": [],
   "source": [
    "from __future__ import absolute_import, division, print_function\n",
    "\n",
    "import base64\n",
    "\n",
    "import IPython\n",
    "import PIL.Image\n",
    "import imageio\n",
    "import matplotlib.pyplot as plt\n",
    "import numpy as np\n",
    "import pyvirtualdisplay\n",
    "import tensorflow as tf\n",
    "from tf_agents.agents.dqn import dqn_agent\n",
    "from tf_agents.drivers import py_driver\n",
    "from tf_agents.environments import suite_gym\n",
    "from tf_agents.environments import tf_py_environment\n",
    "from tf_agents.networks import sequential\n",
    "from tf_agents.policies import py_tf_eager_policy\n",
    "from tf_agents.policies import random_tf_policy\n",
    "from tf_agents.replay_buffers import tf_uniform_replay_buffer\n",
    "from tf_agents.specs import tensor_spec\n",
    "from tf_agents.utils import common\n",
    "from tf_agents.utils.nest_utils import batch_nested_array"
   ]
  },
  {
   "cell_type": "code",
   "execution_count": 2,
   "id": "b017c8d8-63e4-43b1-8a05-0f007651e491",
   "metadata": {
    "ExecuteTime": {
     "end_time": "2023-07-08T17:12:29.147540Z",
     "start_time": "2023-07-08T17:12:29.096636Z"
    }
   },
   "outputs": [],
   "source": [
    "# Set up a virtual display for rendering OpenAI gym environments.\n",
    "display = pyvirtualdisplay.Display(visible=0, size=(1400, 900)).start()"
   ]
  },
  {
   "cell_type": "code",
   "execution_count": 3,
   "id": "3fb0cf33-b435-4e24-896d-bf74cc2d52a5",
   "metadata": {
    "ExecuteTime": {
     "end_time": "2023-07-08T17:12:29.154017Z",
     "start_time": "2023-07-08T17:12:29.143549Z"
    }
   },
   "outputs": [
    {
     "data": {
      "text/plain": [
       "'2.12.0'"
      ]
     },
     "execution_count": 3,
     "metadata": {},
     "output_type": "execute_result"
    }
   ],
   "source": [
    "tf.version.VERSION"
   ]
  },
  {
   "cell_type": "markdown",
   "id": "39c6d48d-ac5e-4549-a913-bc02154c2b0b",
   "metadata": {},
   "source": [
    "## Hyperparameters"
   ]
  },
  {
   "cell_type": "code",
   "execution_count": 4,
   "id": "b962b3b8-1253-4364-accf-f694e67e4ad2",
   "metadata": {
    "ExecuteTime": {
     "end_time": "2023-07-08T17:12:29.164554Z",
     "start_time": "2023-07-08T17:12:29.153613Z"
    }
   },
   "outputs": [],
   "source": [
    "num_iterations = 40_000 # 20_000  # @param {type:\"integer\"}\n",
    "\n",
    "initial_collect_steps = 100  # @param {type:\"integer\"}\n",
    "collect_steps_per_iteration = 1  # @param {type:\"integer\"}\n",
    "replay_buffer_max_length = 100000  # @param {type:\"integer\"}\n",
    "\n",
    "batch_size = 128  # 64  # @param {type:\"integer\"}\n",
    "learning_rate = 5e-4 # 1e-3  # @param {type:\"number\"}\n",
    "log_interval = 1000  # @param {type:\"integer\"}\n",
    "\n",
    "num_eval_episodes = 10  # @param {type:\"integer\"}\n",
    "eval_interval = 5000  # @param {type:\"integer\"}"
   ]
  },
  {
   "cell_type": "markdown",
   "id": "4dc42a3c-09b3-4f2a-bacd-19234cda7621",
   "metadata": {},
   "source": [
    "## Environment"
   ]
  },
  {
   "cell_type": "code",
   "execution_count": 5,
   "id": "3662408e-6b9d-4571-b006-920c3cd22948",
   "metadata": {
    "ExecuteTime": {
     "end_time": "2023-07-08T17:12:29.315286Z",
     "start_time": "2023-07-08T17:12:29.161575Z"
    }
   },
   "outputs": [],
   "source": [
    "env_name = 'CartPole-v0'\n",
    "env = suite_gym.load(env_name)"
   ]
  },
  {
   "cell_type": "code",
   "execution_count": 6,
   "id": "425d9d1c-1462-4829-a3b3-f70d2ec6b081",
   "metadata": {
    "ExecuteTime": {
     "end_time": "2023-07-08T17:12:29.599707Z",
     "start_time": "2023-07-08T17:12:29.336212Z"
    }
   },
   "outputs": [
    {
     "name": "stderr",
     "output_type": "stream",
     "text": [
      "ALSA lib confmisc.c:855:(parse_card) cannot find card '0'\n",
      "ALSA lib conf.c:5178:(_snd_config_evaluate) function snd_func_card_inum returned error: No such file or directory\n",
      "ALSA lib confmisc.c:422:(snd_func_concat) error evaluating strings\n",
      "ALSA lib conf.c:5178:(_snd_config_evaluate) function snd_func_concat returned error: No such file or directory\n",
      "ALSA lib confmisc.c:1334:(snd_func_refer) error evaluating name\n",
      "ALSA lib conf.c:5178:(_snd_config_evaluate) function snd_func_refer returned error: No such file or directory\n",
      "ALSA lib conf.c:5701:(snd_config_expand) Evaluate error: No such file or directory\n",
      "ALSA lib pcm.c:2664:(snd_pcm_open_noupdate) Unknown PCM default\n"
     ]
    },
    {
     "data": {
      "image/jpeg": "[encoded data removed]",
      "image/png": "[encoded data removed]",
      "text/plain": [
       "<PIL.Image.Image image mode=RGB size=600x400>"
      ]
     },
     "execution_count": 6,
     "metadata": {},
     "output_type": "execute_result"
    }
   ],
   "source": [
    "env.reset()\n",
    "PIL.Image.fromarray(env.render())"
   ]
  },
  {
   "cell_type": "code",
   "execution_count": 7,
   "id": "9aca4e10-5a4b-4f9f-bad8-ba7cde4bb149",
   "metadata": {
    "ExecuteTime": {
     "end_time": "2023-07-08T17:12:29.600607Z",
     "start_time": "2023-07-08T17:12:29.598851Z"
    }
   },
   "outputs": [
    {
     "name": "stdout",
     "output_type": "stream",
     "text": [
      "Observation Spec:\n",
      "BoundedArraySpec(shape=(4,), dtype=dtype('float32'), name='observation', minimum=[-4.8000002e+00 -3.4028235e+38 -4.1887903e-01 -3.4028235e+38], maximum=[4.8000002e+00 3.4028235e+38 4.1887903e-01 3.4028235e+38])\n"
     ]
    }
   ],
   "source": [
    "print('Observation Spec:')\n",
    "print(env.time_step_spec().observation)"
   ]
  },
  {
   "cell_type": "code",
   "execution_count": 8,
   "id": "57df30e6-f5dc-482d-95a1-70c9b67d08d2",
   "metadata": {
    "ExecuteTime": {
     "end_time": "2023-07-08T17:12:29.600913Z",
     "start_time": "2023-07-08T17:12:29.599121Z"
    }
   },
   "outputs": [
    {
     "name": "stdout",
     "output_type": "stream",
     "text": [
      "Reward Spec:\n",
      "ArraySpec(shape=(), dtype=dtype('float32'), name='reward')\n"
     ]
    }
   ],
   "source": [
    "print('Reward Spec:')\n",
    "print(env.time_step_spec().reward)"
   ]
  },
  {
   "cell_type": "code",
   "execution_count": 9,
   "id": "90d9450a-6c9b-480b-95ec-1e153fb0077b",
   "metadata": {
    "ExecuteTime": {
     "end_time": "2023-07-08T17:12:29.601103Z",
     "start_time": "2023-07-08T17:12:29.599470Z"
    }
   },
   "outputs": [
    {
     "name": "stdout",
     "output_type": "stream",
     "text": [
      "Action Spec:\n",
      "BoundedArraySpec(shape=(), dtype=dtype('int64'), name='action', minimum=0, maximum=1)\n"
     ]
    }
   ],
   "source": [
    "print('Action Spec:')\n",
    "print(env.action_spec())"
   ]
  },
  {
   "cell_type": "code",
   "execution_count": 10,
   "id": "44f1e238-1308-45bc-ab2a-042eb171fa39",
   "metadata": {
    "ExecuteTime": {
     "end_time": "2023-07-08T17:12:29.689732Z",
     "start_time": "2023-07-08T17:12:29.600168Z"
    }
   },
   "outputs": [
    {
     "name": "stdout",
     "output_type": "stream",
     "text": [
      "Time step:\n",
      "TimeStep(\n",
      "{'discount': array(1., dtype=float32),\n",
      " 'observation': array([0.03714068, 0.04982586, 0.04093312, 0.04780026], dtype=float32),\n",
      " 'reward': array(0., dtype=float32),\n",
      " 'step_type': array(0, dtype=int32)})\n",
      "Next time step:\n",
      "TimeStep(\n",
      "{'discount': array(1., dtype=float32),\n",
      " 'observation': array([ 0.0381372 ,  0.24433768,  0.04188912, -0.2316921 ], dtype=float32),\n",
      " 'reward': array(1., dtype=float32),\n",
      " 'step_type': array(1, dtype=int32)})\n"
     ]
    }
   ],
   "source": [
    "time_step = env.reset()\n",
    "print('Time step:')\n",
    "print(time_step)\n",
    "\n",
    "action = np.array(1, dtype=np.int32)\n",
    "\n",
    "next_time_step = env.step(action)\n",
    "print('Next time step:')\n",
    "print(next_time_step)"
   ]
  },
  {
   "cell_type": "code",
   "execution_count": 11,
   "id": "62783af2-18e3-440d-a8e9-05eb4584917b",
   "metadata": {
    "ExecuteTime": {
     "end_time": "2023-07-08T17:12:29.690059Z",
     "start_time": "2023-07-08T17:12:29.638675Z"
    }
   },
   "outputs": [],
   "source": [
    "train_py_env = suite_gym.load(env_name)\n",
    "eval_py_env = suite_gym.load(env_name)"
   ]
  },
  {
   "cell_type": "code",
   "execution_count": 12,
   "id": "83da1c3e-c049-4d79-abbf-bf235e2492c3",
   "metadata": {
    "ExecuteTime": {
     "end_time": "2023-07-08T17:12:29.690197Z",
     "start_time": "2023-07-08T17:12:29.638871Z"
    }
   },
   "outputs": [],
   "source": [
    "train_env = tf_py_environment.TFPyEnvironment(train_py_env)\n",
    "eval_env = tf_py_environment.TFPyEnvironment(eval_py_env)"
   ]
  },
  {
   "cell_type": "markdown",
   "id": "5fbee03e-0d04-4853-a460-07faa26be99f",
   "metadata": {},
   "source": [
    "## Agent"
   ]
  },
  {
   "cell_type": "code",
   "execution_count": 35,
   "id": "3c44626f-5ed4-4cf8-9665-09630b42b501",
   "metadata": {
    "ExecuteTime": {
     "end_time": "2023-07-11T00:55:34.103918Z",
     "start_time": "2023-07-11T00:55:33.949911Z"
    }
   },
   "outputs": [
    {
     "name": "stdout",
     "output_type": "stream",
     "text": [
      "action tensor spec: BoundedTensorSpec(shape=(), dtype=tf.int64, name='action', minimum=array(0), maximum=array(1))\n",
      "num actions 2\n"
     ]
    }
   ],
   "source": [
    "fc_layer_params = (100, 50)\n",
    "action_tensor_spec = tensor_spec.from_spec(env.action_spec())\n",
    "num_actions = action_tensor_spec.maximum - action_tensor_spec.minimum + 1\n",
    "print(f\"action tensor spec: {action_tensor_spec}\")\n",
    "print(f\"num actions {num_actions}\")\n",
    "\n",
    "# Define a helper function to create Dense layers configured with the right\n",
    "# activation and kernel initializer.\n",
    "def dense_layer(num_units):\n",
    "    return tf.keras.layers.Dense(\n",
    "        num_units,\n",
    "        activation=tf.keras.activations.relu,\n",
    "        kernel_initializer=tf.keras.initializers.VarianceScaling(\n",
    "            scale=2.0, mode='fan_in', distribution='truncated_normal'\n",
    "        )\n",
    "    )\n",
    "\n",
    "\n",
    "# QNetwork consists of a sequence of Dense layers followed by a dense layer\n",
    "# with `num_actions` units to generate one q_value per available action as\n",
    "# its output.\n",
    "dense_layers = [dense_layer(num_units) for num_units in fc_layer_params]\n",
    "q_values_layer = tf.keras.layers.Dense(\n",
    "    num_actions,\n",
    "    activation=None,\n",
    "    kernel_initializer=tf.keras.initializers.RandomUniform(\n",
    "        minval=-0.03, maxval=0.03\n",
    "    ),\n",
    "    bias_initializer=tf.keras.initializers.Constant(-0.2)\n",
    ")\n",
    "q_net = sequential.Sequential(dense_layers + [q_values_layer])"
   ]
  },
  {
   "cell_type": "code",
   "execution_count": 36,
   "id": "b6a21326-51ce-4f3e-97e5-e7e96ae36b2a",
   "metadata": {
    "ExecuteTime": {
     "end_time": "2023-07-11T00:56:01.291917Z",
     "start_time": "2023-07-11T00:56:01.097183Z"
    }
   },
   "outputs": [],
   "source": [
    "optimizer = tf.keras.optimizers.Adam(learning_rate=learning_rate)\n",
    "\n",
    "train_step_counter = tf.Variable(0)\n",
    "\n",
    "agent = dqn_agent.DqnAgent(\n",
    "    train_env.time_step_spec(),\n",
    "    train_env.action_spec(),\n",
    "    q_network=q_net,\n",
    "    optimizer=optimizer,\n",
    "    td_errors_loss_fn=common.element_wise_squared_loss,\n",
    "    train_step_counter=train_step_counter,\n",
    "    target_update_tau=0.1, # soft updates\n",
    "    gamma=1, # discount factor\n",
    ")\n",
    "\n",
    "agent.initialize()"
   ]
  },
  {
   "cell_type": "markdown",
   "id": "b9d5f3e1-58cf-4598-af5d-2c309cbc66e3",
   "metadata": {},
   "source": [
    "## Policies"
   ]
  },
  {
   "cell_type": "code",
   "execution_count": 15,
   "id": "35f6f62a-3088-4d10-b5b7-868f8f7e1e65",
   "metadata": {
    "ExecuteTime": {
     "end_time": "2023-07-08T17:12:29.766242Z",
     "start_time": "2023-07-08T17:12:29.764209Z"
    }
   },
   "outputs": [],
   "source": [
    "eval_policy = agent.policy\n",
    "collect_policy = agent.collect_policy"
   ]
  },
  {
   "cell_type": "code",
   "execution_count": 16,
   "id": "7112a58f-075f-40d3-8bae-c1fa870d6fdb",
   "metadata": {
    "ExecuteTime": {
     "end_time": "2023-07-08T17:12:29.815988Z",
     "start_time": "2023-07-08T17:12:29.767488Z"
    }
   },
   "outputs": [],
   "source": [
    "random_policy = random_tf_policy.RandomTFPolicy(\n",
    "    train_env.time_step_spec(),\n",
    "    train_env.action_spec()\n",
    ")"
   ]
  },
  {
   "cell_type": "code",
   "execution_count": 17,
   "id": "d9afe289-d3d3-4587-a45f-acc37266e906",
   "metadata": {
    "ExecuteTime": {
     "end_time": "2023-07-08T17:12:29.816588Z",
     "start_time": "2023-07-08T17:12:29.809592Z"
    }
   },
   "outputs": [],
   "source": [
    "example_environment = tf_py_environment.TFPyEnvironment(\n",
    "    suite_gym.load('CartPole-v0')\n",
    ")"
   ]
  },
  {
   "cell_type": "code",
   "execution_count": 18,
   "id": "496804b5-a5b3-421d-87a0-173d28cd9286",
   "metadata": {
    "ExecuteTime": {
     "end_time": "2023-07-08T17:12:29.816725Z",
     "start_time": "2023-07-08T17:12:29.809782Z"
    }
   },
   "outputs": [],
   "source": [
    "time_step = example_environment.reset()"
   ]
  },
  {
   "cell_type": "code",
   "execution_count": 19,
   "id": "f5d9181f-b732-464a-860e-086d730061d8",
   "metadata": {
    "ExecuteTime": {
     "end_time": "2023-07-08T17:12:29.850897Z",
     "start_time": "2023-07-08T17:12:29.809933Z"
    }
   },
   "outputs": [
    {
     "data": {
      "text/plain": [
       "PolicyStep(action=<tf.Tensor: shape=(1,), dtype=int64, numpy=array([1])>, state=(), info=())"
      ]
     },
     "execution_count": 19,
     "metadata": {},
     "output_type": "execute_result"
    }
   ],
   "source": [
    "random_policy.action(time_step)"
   ]
  },
  {
   "cell_type": "markdown",
   "id": "1ff9ef29-78a6-4b11-b34e-2c0bdc445b94",
   "metadata": {},
   "source": [
    "## Metrics and Evaluation"
   ]
  },
  {
   "cell_type": "code",
   "execution_count": 20,
   "id": "d230fa5a-8abc-4ae5-8816-b403ba78d03d",
   "metadata": {
    "ExecuteTime": {
     "end_time": "2023-07-08T17:12:29.852609Z",
     "start_time": "2023-07-08T17:12:29.851141Z"
    }
   },
   "outputs": [],
   "source": [
    "def compute_avg_return(environment, policy, num_episodes=10):\n",
    "    total_return = 0.0\n",
    "    for _ in range(num_episodes):\n",
    "\n",
    "        time_step = environment.reset()\n",
    "        episode_return = 0.0\n",
    "\n",
    "        while not time_step.is_last():\n",
    "            action_step = policy.action(time_step)\n",
    "            time_step = environment.step(action_step.action)\n",
    "            episode_return += time_step.reward\n",
    "        total_return += episode_return\n",
    "\n",
    "    avg_return = total_return / num_episodes\n",
    "    return avg_return.numpy()[0]\n",
    "\n",
    "# See also the metrics module for standard implementations of different metrics.\n",
    "# https://github.com/tensorflow/agents/tree/master/tf_agents/metrics"
   ]
  },
  {
   "cell_type": "code",
   "execution_count": 21,
   "id": "f5c5b447-8213-42ef-9ac7-f9191d8488d9",
   "metadata": {
    "ExecuteTime": {
     "end_time": "2023-07-08T17:12:30.103788Z",
     "start_time": "2023-07-08T17:12:29.851395Z"
    }
   },
   "outputs": [
    {
     "data": {
      "text/plain": [
       "24.9"
      ]
     },
     "execution_count": 21,
     "metadata": {},
     "output_type": "execute_result"
    }
   ],
   "source": [
    "compute_avg_return(eval_env, random_policy, num_eval_episodes)"
   ]
  },
  {
   "cell_type": "markdown",
   "id": "851dc0f5-6d7b-492e-bcee-c9c251c92604",
   "metadata": {},
   "source": [
    "## Replay Buffer"
   ]
  },
  {
   "cell_type": "code",
   "execution_count": 22,
   "id": "cb431394-b326-407a-a4f7-28e82f5d8afa",
   "metadata": {
    "ExecuteTime": {
     "end_time": "2023-07-08T17:12:30.145859Z",
     "start_time": "2023-07-08T17:12:30.105140Z"
    }
   },
   "outputs": [],
   "source": [
    "replay_buffer = tf_uniform_replay_buffer.TFUniformReplayBuffer(\n",
    "    agent.collect_data_spec,\n",
    "    # batch_size=batch_size,\n",
    "    batch_size=1,\n",
    "    max_length=replay_buffer_max_length\n",
    ")\n",
    "\n",
    "# rb_observer = replay_buffer.add_batch\n",
    "rb_observer = lambda x: replay_buffer.add_batch(batch_nested_array(x))\n",
    "\n",
    "# rb_observer = reverb_utils.ReverbAddTrajectoryObserver(\n",
    "#   replay_buffer.py_client,\n",
    "#   table_name,\n",
    "#   sequence_length=2)\n"
   ]
  },
  {
   "cell_type": "code",
   "execution_count": 23,
   "id": "0467d60f-84f0-4254-a6e3-9cc7ddad802c",
   "metadata": {
    "ExecuteTime": {
     "end_time": "2023-07-08T17:12:30.146376Z",
     "start_time": "2023-07-08T17:12:30.145664Z"
    }
   },
   "outputs": [
    {
     "data": {
      "text/plain": [
       "Trajectory(\n",
       "{'action': BoundedTensorSpec(shape=(), dtype=tf.int64, name='action', minimum=array(0), maximum=array(1)),\n",
       " 'discount': BoundedTensorSpec(shape=(), dtype=tf.float32, name='discount', minimum=array(0., dtype=float32), maximum=array(1., dtype=float32)),\n",
       " 'next_step_type': TensorSpec(shape=(), dtype=tf.int32, name='step_type'),\n",
       " 'observation': BoundedTensorSpec(shape=(4,), dtype=tf.float32, name='observation', minimum=array([-4.8000002e+00, -3.4028235e+38, -4.1887903e-01, -3.4028235e+38],\n",
       "      dtype=float32), maximum=array([4.8000002e+00, 3.4028235e+38, 4.1887903e-01, 3.4028235e+38],\n",
       "      dtype=float32)),\n",
       " 'policy_info': (),\n",
       " 'reward': TensorSpec(shape=(), dtype=tf.float32, name='reward'),\n",
       " 'step_type': TensorSpec(shape=(), dtype=tf.int32, name='step_type')})"
      ]
     },
     "execution_count": 23,
     "metadata": {},
     "output_type": "execute_result"
    }
   ],
   "source": [
    "agent.collect_data_spec"
   ]
  },
  {
   "cell_type": "code",
   "execution_count": 24,
   "id": "dde2454f",
   "metadata": {
    "ExecuteTime": {
     "end_time": "2023-07-08T17:12:30.190697Z",
     "start_time": "2023-07-08T17:12:30.146078Z"
    },
    "collapsed": false,
    "jupyter": {
     "outputs_hidden": false
    }
   },
   "outputs": [
    {
     "data": {
      "text/plain": [
       "('step_type',\n",
       " 'observation',\n",
       " 'action',\n",
       " 'policy_info',\n",
       " 'next_step_type',\n",
       " 'reward',\n",
       " 'discount')"
      ]
     },
     "execution_count": 24,
     "metadata": {},
     "output_type": "execute_result"
    }
   ],
   "source": [
    "# noinspection PyProtectedMember\n",
    "agent.collect_data_spec._fields"
   ]
  },
  {
   "cell_type": "markdown",
   "id": "641613a8",
   "metadata": {
    "collapsed": false,
    "jupyter": {
     "outputs_hidden": false
    }
   },
   "source": [
    "## Data Collection"
   ]
  },
  {
   "cell_type": "code",
   "execution_count": 25,
   "id": "aa3e2b0e",
   "metadata": {
    "ExecuteTime": {
     "end_time": "2023-07-08T17:12:30.394708Z",
     "start_time": "2023-07-08T17:12:30.186627Z"
    },
    "collapsed": false,
    "jupyter": {
     "outputs_hidden": false
    }
   },
   "outputs": [
    {
     "data": {
      "text/plain": [
       "(TimeStep(\n",
       " {'discount': array(0., dtype=float32),\n",
       "  'observation': array([ 0.06147327, -0.13622561, -0.2256791 , -0.6348212 ], dtype=float32),\n",
       "  'reward': array(1., dtype=float32),\n",
       "  'step_type': array(2, dtype=int32)}),\n",
       " ())"
      ]
     },
     "execution_count": 25,
     "metadata": {},
     "output_type": "execute_result"
    }
   ],
   "source": [
    "py_driver.PyDriver(\n",
    "    env,\n",
    "    py_tf_eager_policy.PyTFEagerPolicy(\n",
    "        random_policy, use_tf_function=True),\n",
    "    [rb_observer],\n",
    "    max_steps=initial_collect_steps\n",
    ").run(train_py_env.reset())"
   ]
  },
  {
   "cell_type": "code",
   "execution_count": 26,
   "id": "15f1058a",
   "metadata": {
    "ExecuteTime": {
     "end_time": "2023-07-08T17:12:30.396873Z",
     "start_time": "2023-07-08T17:12:30.393870Z"
    },
    "collapsed": false,
    "jupyter": {
     "outputs_hidden": false
    }
   },
   "outputs": [],
   "source": [
    "# For the curious:\n",
    "# Uncomment to peel one of these off and inspect it.\n",
    "# iter(replay_buffer.as_dataset()).next()"
   ]
  },
  {
   "cell_type": "code",
   "execution_count": 27,
   "id": "2d8ea2e9",
   "metadata": {
    "ExecuteTime": {
     "end_time": "2023-07-08T17:12:30.789239Z",
     "start_time": "2023-07-08T17:12:30.397626Z"
    },
    "collapsed": false,
    "jupyter": {
     "outputs_hidden": false
    }
   },
   "outputs": [
    {
     "name": "stdout",
     "output_type": "stream",
     "text": [
      "WARNING:tensorflow:From /opt/conda/lib/python3.11/site-packages/tf_agents/replay_buffers/tf_uniform_replay_buffer.py:342: CounterV2 (from tensorflow.python.data.experimental.ops.counter) is deprecated and will be removed in a future version.\n",
      "Instructions for updating:\n",
      "Use `tf.data.Dataset.counter(...)` instead.\n",
      "WARNING:tensorflow:From /opt/conda/lib/python3.11/site-packages/tensorflow/python/autograph/impl/api.py:377: ReplayBuffer.get_next (from tf_agents.replay_buffers.replay_buffer) is deprecated and will be removed in a future version.\n",
      "Instructions for updating:\n",
      "Use `as_dataset(..., single_deterministic_pass=False) instead.\n"
     ]
    },
    {
     "data": {
      "text/plain": [
       "<_PrefetchDataset element_spec=(Trajectory(\n",
       "{'action': TensorSpec(shape=(128, 2), dtype=tf.int64, name=None),\n",
       " 'discount': TensorSpec(shape=(128, 2), dtype=tf.float32, name=None),\n",
       " 'next_step_type': TensorSpec(shape=(128, 2), dtype=tf.int32, name=None),\n",
       " 'observation': TensorSpec(shape=(128, 2, 4), dtype=tf.float32, name=None),\n",
       " 'policy_info': (),\n",
       " 'reward': TensorSpec(shape=(128, 2), dtype=tf.float32, name=None),\n",
       " 'step_type': TensorSpec(shape=(128, 2), dtype=tf.int32, name=None)}), BufferInfo(ids=TensorSpec(shape=(128, 2), dtype=tf.int64, name=None), probabilities=TensorSpec(shape=(128,), dtype=tf.float32, name=None)))>"
      ]
     },
     "execution_count": 27,
     "metadata": {},
     "output_type": "execute_result"
    }
   ],
   "source": [
    "# Dataset generates trajectories with shape [Bx2x...]\n",
    "replayBufferDataset = replay_buffer.as_dataset(\n",
    "    num_parallel_calls=3,\n",
    "    sample_batch_size=batch_size,\n",
    "    num_steps=2\n",
    ").prefetch(3)\n",
    "\n",
    "replayBufferDataset"
   ]
  },
  {
   "cell_type": "code",
   "execution_count": 28,
   "id": "71179752",
   "metadata": {
    "ExecuteTime": {
     "end_time": "2023-07-08T17:12:30.834276Z",
     "start_time": "2023-07-08T17:12:30.790974Z"
    },
    "collapsed": false,
    "jupyter": {
     "outputs_hidden": false
    }
   },
   "outputs": [
    {
     "name": "stdout",
     "output_type": "stream",
     "text": [
      "<tensorflow.python.data.ops.iterator_ops.OwnedIterator object at 0xfffeec679190>\n"
     ]
    }
   ],
   "source": [
    "replayBufferIterator = iter(replayBufferDataset)\n",
    "print(replayBufferIterator)"
   ]
  },
  {
   "cell_type": "code",
   "execution_count": 29,
   "id": "1efcd921",
   "metadata": {
    "ExecuteTime": {
     "end_time": "2023-07-08T17:12:30.836215Z",
     "start_time": "2023-07-08T17:12:30.831553Z"
    },
    "collapsed": false,
    "jupyter": {
     "outputs_hidden": false
    }
   },
   "outputs": [],
   "source": [
    "# For the curious:\n",
    "# Uncomment to see what the dataset iterator is feeding to the agent.\n",
    "# Compare this representation of replay data\n",
    "# to the collection of individual trajectories shown earlier.\n",
    "\n",
    "# iterator.next()"
   ]
  },
  {
   "cell_type": "markdown",
   "id": "4966228f",
   "metadata": {
    "collapsed": false,
    "jupyter": {
     "outputs_hidden": false
    }
   },
   "source": [
    "## Training the Agent"
   ]
  },
  {
   "cell_type": "code",
   "execution_count": 30,
   "id": "6d9ec862",
   "metadata": {
    "ExecuteTime": {
     "start_time": "2023-07-08T17:12:30.836895Z"
    },
    "collapsed": false,
    "is_executing": true,
    "jupyter": {
     "outputs_hidden": false
    }
   },
   "outputs": [
    {
     "name": "stdout",
     "output_type": "stream",
     "text": [
      "WARNING:tensorflow:From /opt/conda/lib/python3.11/site-packages/tensorflow/python/util/dispatch.py:1176: calling foldr_v2 (from tensorflow.python.ops.functional_ops) with back_prop=False is deprecated and will be removed in a future version.\n",
      "Instructions for updating:\n",
      "back_prop=False is deprecated. Consider using tf.stop_gradient instead.\n",
      "Instead of:\n",
      "results = tf.foldr(fn, elems, back_prop=False)\n",
      "Use:\n",
      "results = tf.nest.map_structure(tf.stop_gradient, tf.foldr(fn, elems))\n",
      "step = 1000: loss = 21.05264663696289\n",
      "step = 2000: loss = 36.67373275756836\n",
      "step = 3000: loss = 128.76296997070312\n",
      "step = 4000: loss = 314.067626953125\n",
      "step = 5000: loss = 653.3212890625\n",
      "step = 5000: Average Return = 174.5\n",
      "step = 6000: loss = 545.0098266601562\n",
      "step = 7000: loss = 242.69772338867188\n",
      "step = 8000: loss = 100.13143157958984\n",
      "step = 9000: loss = 72.05540466308594\n",
      "step = 10000: loss = 111.98416137695312\n",
      "step = 10000: Average Return = 192.1999969482422\n",
      "step = 11000: loss = 458.72869873046875\n",
      "step = 12000: loss = 783.6792602539062\n",
      "step = 13000: loss = 66.0392074584961\n",
      "step = 14000: loss = 1100.00830078125\n",
      "step = 15000: loss = 473.8790588378906\n",
      "step = 15000: Average Return = 200.0\n",
      "step = 16000: loss = 338.798828125\n",
      "step = 17000: loss = 2550.635986328125\n",
      "step = 18000: loss = 148.550048828125\n",
      "step = 19000: loss = 302.5549011230469\n",
      "step = 20000: loss = 539.6627807617188\n",
      "step = 20000: Average Return = 200.0\n",
      "step = 21000: loss = 221.47781372070312\n",
      "step = 22000: loss = 22650.580078125\n",
      "step = 23000: loss = 1289.10888671875\n",
      "step = 24000: loss = 799945.9375\n",
      "step = 25000: loss = 52777.96484375\n",
      "step = 25000: Average Return = 200.0\n",
      "step = 26000: loss = 146864.875\n",
      "step = 27000: loss = 887482.25\n",
      "step = 28000: loss = 1724697.625\n",
      "step = 29000: loss = 66238.0\n",
      "step = 30000: loss = 2726028.75\n",
      "step = 30000: Average Return = 200.0\n",
      "step = 31000: loss = 1816223.25\n",
      "step = 32000: loss = 2372649.25\n",
      "step = 33000: loss = 3150879.0\n",
      "step = 34000: loss = 36558480.0\n",
      "step = 35000: loss = 6246829.5\n",
      "step = 35000: Average Return = 200.0\n",
      "step = 36000: loss = 674544.25\n",
      "step = 37000: loss = 506406.9375\n",
      "step = 38000: loss = 422154.03125\n",
      "step = 39000: loss = 621261.0\n",
      "step = 40000: loss = 941309.125\n",
      "step = 40000: Average Return = 200.0\n"
     ]
    }
   ],
   "source": [
    "try:\n",
    "    %%time\n",
    "except:\n",
    "    pass\n",
    "\n",
    "# (Optional) Optimize by wrapping some of the code in a graph using TF function.\n",
    "agent.train = common.function(agent.train)\n",
    "\n",
    "# Reset the train step.\n",
    "agent.train_step_counter.assign(0)\n",
    "\n",
    "# Evaluate the agent's policy once before training.\n",
    "avg_return = compute_avg_return(eval_env, agent.policy, num_eval_episodes)\n",
    "returns = [avg_return]\n",
    "\n",
    "# Reset the environment.\n",
    "time_step = train_py_env.reset()\n",
    "\n",
    "# Create a driver to collect experience.\n",
    "collect_driver = py_driver.PyDriver(\n",
    "    env,\n",
    "    py_tf_eager_policy.PyTFEagerPolicy(\n",
    "        agent.collect_policy, use_tf_function=True),\n",
    "    [rb_observer],\n",
    "    max_steps=collect_steps_per_iteration)\n",
    "\n",
    "for _ in range(num_iterations):\n",
    "\n",
    "    # Collect a few steps and save to the replay buffer.\n",
    "    time_step, _ = collect_driver.run(time_step)\n",
    "\n",
    "    # Sample a batch of data from the buffer and update the agent's network.\n",
    "    experience, unused_info = next(replayBufferIterator)\n",
    "    train_loss = agent.train(experience).loss\n",
    "\n",
    "    step = agent.train_step_counter.numpy()\n",
    "\n",
    "    if step % log_interval == 0:\n",
    "        print('step = {0}: loss = {1}'.format(step, train_loss))\n",
    "\n",
    "    if step % eval_interval == 0:\n",
    "        avg_return = compute_avg_return(eval_env, agent.policy, num_eval_episodes)\n",
    "        print('step = {0}: Average Return = {1}'.format(step, avg_return))\n",
    "        returns.append(avg_return)"
   ]
  },
  {
   "cell_type": "markdown",
   "id": "8d997f0f",
   "metadata": {
    "collapsed": false,
    "jupyter": {
     "outputs_hidden": false
    }
   },
   "source": [
    "## Visualization"
   ]
  },
  {
   "cell_type": "code",
   "execution_count": 31,
   "id": "d7985ceb",
   "metadata": {
    "collapsed": false,
    "is_executing": true,
    "jupyter": {
     "outputs_hidden": false
    }
   },
   "outputs": [
    {
     "data": {
      "text/plain": [
       "(2.1800004005432125, 250.0)"
      ]
     },
     "execution_count": 31,
     "metadata": {},
     "output_type": "execute_result"
    },
    {
     "data": {
      "image/png": "[encoded data removed]",
      "text/plain": [
       "<Figure size 640x480 with 1 Axes>"
      ]
     },
     "metadata": {},
     "output_type": "display_data"
    }
   ],
   "source": [
    "iterations = range(0, num_iterations + 1, eval_interval)\n",
    "plt.plot(iterations, returns)\n",
    "plt.ylabel('Average Return')\n",
    "plt.xlabel('Iterations')\n",
    "plt.ylim(top=250)"
   ]
  },
  {
   "cell_type": "code",
   "execution_count": 32,
   "id": "beacf51d",
   "metadata": {
    "collapsed": false,
    "is_executing": true,
    "jupyter": {
     "outputs_hidden": false
    }
   },
   "outputs": [],
   "source": [
    "def embed_mp4(filename):\n",
    "    \"\"\"Embeds an mp4 file in the notebook.\"\"\"\n",
    "    video = open(filename, 'rb').read()\n",
    "    b64 = base64.b64encode(video)\n",
    "    tag = '''\n",
    "  <video width=\"640\" height=\"480\" controls>\n",
    "    <source src=\"data:video/mp4;base64,{0}\" type=\"video/mp4\">\n",
    "  Your browser does not support the video tag.\n",
    "  </video>'''.format(b64.decode())\n",
    "\n",
    "    return IPython.display.HTML(tag)"
   ]
  },
  {
   "cell_type": "code",
   "execution_count": 33,
   "id": "8760fa6e",
   "metadata": {
    "collapsed": false,
    "is_executing": true,
    "jupyter": {
     "outputs_hidden": false
    }
   },
   "outputs": [
    {
     "name": "stderr",
     "output_type": "stream",
     "text": [
      "ALSA lib confmisc.c:855:(parse_card) cannot find card '0'\n",
      "ALSA lib conf.c:5178:(_snd_config_evaluate) function snd_func_card_inum returned error: No such file or directory\n",
      "ALSA lib confmisc.c:422:(snd_func_concat) error evaluating strings\n",
      "ALSA lib conf.c:5178:(_snd_config_evaluate) function snd_func_concat returned error: No such file or directory\n",
      "ALSA lib confmisc.c:1334:(snd_func_refer) error evaluating name\n",
      "ALSA lib conf.c:5178:(_snd_config_evaluate) function snd_func_refer returned error: No such file or directory\n",
      "ALSA lib conf.c:5701:(snd_config_expand) Evaluate error: No such file or directory\n",
      "ALSA lib pcm.c:2664:(snd_pcm_open_noupdate) Unknown PCM default\n",
      "WARNING:root:IMAGEIO FFMPEG_WRITER WARNING: input image is not divisible by macro_block_size=16, resizing from (400, 600) to (400, 608) to ensure video compatibility with most codecs and players. To prevent resizing, make your input image divisible by the macro_block_size or set the macro_block_size to None (risking incompatibility). You may also see a FFMPEG warning concerning speedloss due to data not being aligned.\n"
     ]
    },
    {
     "data": {
      "text/html": [
       "\n",
       "  <video width=\"640\" height=\"480\" controls>\n",
       "    <source src=\"data:video/mp4;base64,AAAAIGZ0eXBpc29tAAACAGlzb21pc28yYXZjMW1wNDEAAAAIZnJlZQABDlJtZGF0AAACrgYF//+q3EXpvebZSLeWLNgg2SPu73gyNjQgLSBjb3JlIDE2MyByMzA2MCA1ZGI2YWE2IC0gSC4yNjQvTVBFRy00IEFWQyBjb2RlYyAtIENvcHlsZWZ0IDIwMDMtMjAyMSAtIGh0dHA6Ly93d3cudmlkZW9sYW4ub3JnL3gyNjQuaHRtbCAtIG9wdGlvbnM6IGNhYmFjPTEgcmVmPTMgZGVibG9jaz0xOjA6MCBhbmFseXNlPTB4MzoweDExMyBtZT1oZXggc3VibWU9NyBwc3k9MSBwc3lfcmQ9MS4wMDowLjAwIG1peGVkX3JlZj0xIG1lX3JhbmdlPTE2IGNocm9tYV9tZT0xIHRyZWxsaXM9MSA4eDhkY3Q9MSBjcW09MCBkZWFkem9uZT0yMSwxMSBmYXN0X3Bza2lwPTEgY2hyb21hX3FwX29mZnNldD0tMiB0aHJlYWRzPTcgbG9va2FoZWFkX3RocmVhZHM9MSBzbGljZWRfdGhyZWFkcz0wIG5yPTAgZGVjaW1hdGU9MSBpbnRlcmxhY2VkPTAgYmx1cmF5X2NvbXBhdD0wIGNvbnN0cmFpbmVkX2ludHJhPTAgYmZyYW1lcz0zIGJfcHlyYW1pZD0yIGJfYWRhcHQ9MSBiX2JpYXM9MCBkaXJlY3Q9MSB3ZWlnaHRiPTEgb3Blbl9nb3A9MCB3ZWlnaHRwPTIga2V5aW50PTI1MCBrZXlpbnRfbWluPTI1IHNjZW5lY3V0PTQwIGludHJhX3JlZnJlc2g9MCByY19sb29rYWhlYWQ9NDAgcmM9Y3JmIG1idHJlZT0xIGNyZj0yNS4wIHFjb21wPTAuNjAgcXBtaW49MCBxcG1heD02OSBxcHN0ZXA9NCBpcF9yYXRpbz0xLjQwIGFxPTE6MS4wMACAAAAB72WIhAA3//72rvzLK0cLlS4dWXuzUfLoSXL9iDB9aAAAAwAAAwAAJuKiZ0WFMeJsgAAALmAIWElDyDzETFWKgSvGXwTjAgAohy/1mepf9phAT58cvlJPQ4PlhFLWQRwqosMonqkkjbdadXBR3rkLb/ILwvKdwvtHiwdhk5FM5VtflVkZzn7ydxK4kvCi0Cgws1NmLvwwzCtsP5SIzPUqLsQmJsRECXWAE19i2d/isfAPk01vtYKMJQQscTJ2H8Kx5X3Y6ljCS9hH9f/pl89YNlYaohv1xo3Rni11kj+8RJuAPx5flP5M3CA473tSuhFG7BuyqMsQSd81/fLkshmac+rrpxcLYMnsbjnnWZYTSK2BecM5qDUlEYkBwP0qud0vgu/Wsc3PSNk9q3Z4LSRzy7WD/yaZnr/kEqeHVUNr5qlTE5aDa8uViwnkIJ9OgllBcBRzccF3ffU6UZ8dTVADsXQNUQ3l/ux3ICfM27XKdQziewaH63AiTwG9Hw1ollDXHEsBQtD3NImG+nHO1L33tP1BIpQ4POikFheYQGkSQbpLSHFpEigAAs9Zq5ErJDOS57jYw4RNfz5OyR/Le5tuytyeVpDKul4cIoETI2sNG4k42UHkf7YUJ0Dt4GAAICAACF+YAAADAAADAAADAAAS0QAAAGpBmiNsQ3/+jLAAAAoX4rwH7v6yI2vyJw4RG87/rQrSgj6u24EJBkpICDtmcJU3o/B3oonu6MBFTOZhzDL+6GTDwELxaa+JWGAPRoy9YUqLstIWrQbRfSHLZpti6MuqqgJCjvJnG/sx72TVAAAAJkGeQXiFfwAAAwM3bsqzMA33gU3wSkzXaDq/IDfYpIl8G2X3OmzBAAAAHAGeYmpCfwAAAwC6ZhLPcSWm3umfHpJd7u5Us2YAAACfQZpnSahBaJlMCG///oywAAAah2ZAC0bgNh9bWZnLvbyjZ1y6YxcVg+3XJtDx/dj5T5xx1TyBXxUzB+np+UEt+c1N3TPgHoiC/tgqYj26GwqGE19i6rtL+mGY85ABWHdBJBE8jBOa8CH5H33gsWWUkbxO1zbrIL9teEW9IJVXs4GEOvxVjr34YNOiJMsjjEjHDFe2hgQ8GoB80EURBymBAAAAO0GehUURLCv/AAAIbyc450ALbuVjHi9SHa6h2t5s+SuFwIKP/yu0cUOzDU9FIUJVlKVS7BeHoN9CfykhAAAAJAGepHRCfwAABR/QwbdLd45wChJnigTNxM9zgx+Ad00UvWQJywAAACwBnqZqQn8AAA2ElS6IsNTGFSVNWtRQYkOZ/f8J3LjPvjg57kZcdaaFvnNT4QAAAIZBmqtJqEFsmUwIb//+jLAAABqJLBpf01B8fX95GEUWmiU7amEW8XUhakAjrmpnzi2uVKHmHqYzlWjBwcS5Pwnx/NLQsWDwMG955ikccIxNDlJfmaQy9OQNqkvYVlV40tJy6XfK6FWxd0u1K53l2KkANg63/ARL+yLB9CakFXCAVjUYN90azAAAAC5BnslFFSwr/wAACCwMtMoXUHflBTPaAj/HKpPd8kgAcGCPMwo14zIoty+eOMFgAAAAGQGe6HRCfwAADTXtPxwjWw3XgNLsnrrjtq0AAAAbAZ7qakJ/AAADAAo6m+flH9JON/M7FoDeSWufAAAA4EGa70moQWyZTAhv//6MsAAARgLwo3cBQzv7Tdsb+imLZ4Sq1XIuAMme5wFORCqXUv3YetB58QJWU5aPrmU4RX4AbgafuPhHnSpsFYUe0hgRQ5zbi0RI4ER3aEXQgZgiqNyrUnJzauToen32Sx6XYTJrQUNU4+HGV0jFxogVz+ShTpADTDbdIu6GUDXQ5VgYbvddP8p8RBPJieRqIDEc5AihFDOadTYEAfk6zf3jaTZlkonNkO/Z7MsbOav2JDUw8EB5dekLGxFruzkfcueg6b2IOyvQiVKErrpLJekvUUAgAAAAMUGfDUUVLCv/AAAWvEPNzLSRa2f8WqCa1owdo6a2JidlE8M6gsrFDRKy6g1TlPQaMEEAAAAdAZ8sdEJ/AAANLhXCdASMSUKFU6ab9VAr6t20GPkAAAAeAZ8uakJ/AAAjvYOByXT/9rvBfZHreTOidGVfOOOBAAAAWEGbM0moQWyZTAhv//6MsAAAAwFkZkk3qjIDYrgCgoa6iy4dz7DTGSxgPlD74lz54Q/xbpgLyUMUbqH/sKPqXbEh6xuGqGf/9p0KLi+1wlSgYMFAp4zGB24AAAA0QZ9RRRUsK/8AAAgxLJS3PEskoYoQrJXLXlhstuIhEs2zx3Jzf18BOcA6HsoM2QxcHjeGUAAAAB8Bn3B0Qn8AAAUgannlC/pvhVFca/oPbLzmwf9hPfnxAAAAFgGfcmpCfwAABR4e/UNXAiZb+EK6464AAABBQZt3SahBbJlMCG///oywAABGKZPytyI9NZXtLe32TyYy3CM0aVGpxIzQ6m/pXK4AUK79F9X3zD8nc5JP88BZL6QAAAAbQZ+VRRUsK/8AABa1KzdrWl64ooPCLTQQH+RZAAAAGAGftHRCfwAAI8MXaKmn2ZCEdzkil2AK2AAAABoBn7ZqQn8AAAMACjlIhDDasXUxtxrbJWQmwQAAAEJBm7tJqEFsmUwIb//+jLAAAEYB8ajv24c2Vv+ABYX8eX0dJPAHd1p7N7DpKyPjEZWvTxkjmOBz/cj0TVWwwGSBzxkAAABCQZ/ZRRUsK/8AABazR7cNuRzbFE9jbFChZezfk/Pj5y+AUOyWTuQE9+CAreQfGTpn5NAAnVhtRaBOz2mZDlUEw3PgAAAAIQGf+HRCfwAAI8MXaKmlU9T7wgmKKqIQ4KPa8JkemhVT4QAAACEBn/pqQn8AACO/BCcSzES2Wr1NAUTuVYwyNkwjm6l7BYAAAABXQZv/SahBbJlMCG///oywAABGAtUxAG8uhH6s5Z+L4yN5KpomfOXzDmON01O1YADZcbDYh2sbdgVhM1VxAp2J9Kqym7c6f/D143jFviLylg2IaXJJUAprAAAAJUGeHUUVLCv/AAAWvEPNz93wIyUuZGnYfpTnNKmy6X2GB9GIX8sAAAAcAZ48dEJ/AAAE+9HjgGmqmAJqA4ZgSgO/94+W9AAAACQBnj5qQn8AACOxzA24NPWPA7XsBXf3hntwi0ABKljKp6zKvJAAAABcQZojSahBbJlMCG///oywAABGEI9FCZdJz4Vq7WgBY853ib3+rLho98ansl6M6UbtGS515iiwR1+TBtdXqtc0Dl0fbIJLme07qVahehC5ZSd7qAQ1IXSvABIS/qEAAAArQZ5BRRUsK/8AABayrEX26FDZRAAFLRQosMqKcnsQiKQYDK5/pBDtfXUW0AAAAC8BnmB0Qn8AACOr+FxClAx68gL8CWiBvkAgA0fpF6TGgAFgRsHL6t1cL9/TX78TYQAAACgBnmJqQn8AACOuXmkeBTLIcyUeXLyTYAQMLHbJAA/m7BYoS9zR3yBAAAAAeEGaZ0moQWyZTAhn//44QAABFPGdg3Oh5loJoUI3CsMb48wFHhyqd0dbMn+nL5AsypdEOMGGR1iuCMGvS7YVyfpKrraleb1qrlDhfFokYULFLv/OqmUyXWudwKuOEp28InptF9bHMzJZ8B2RpC1ZKgLQ/bm0z3yYwQAAACpBnoVFFSwr/wAAF0w8w2AgW1YZPj3ryJmbI8/UefQPFw7+HMyqhRaV9ScAAAAtAZ6kdEJ/AAAjrDkGKcSJD9zYQTRb7god67JR/svZitksvxUzRDU0dol5wWbNAAAANgGepmpCfwAAJLqbfuAFWFpGeyKPk91U4jyoHSoRU96ikz26iCUcKr8I0P2qN9YlDW11tjVswQAAAHxBmqhJqEFsmUwIb//+jLAAABsn7VgoWKl9msmw5LY8kKcMhJGIxENDAy1e/qheJ5Xd71knwYMhgEdqwwy2f81w3p7YAUzbXnVc/YS3bnolBKtx5yAMpT0YsTjimPNtNFbTXD0IY8oltA0wMalj5bQTn7ysHquELNjA08Q4AAAAj0GazEnhClJlMCG//oywAABIAUUa5sA0a/9maD5+ae6YqD9o0KV34YmGht02qoMONvDER1tSmGBTLmTs85CFv+lcYhBN/n5a5AOMnoGP9p6IeMfYNzKbULFXBJyLOz7txDcKqG1aBRCVTqJiabUnfO+MEziju6xM+Bsod3rIvrUjCFxunjyzENnfWg3aHczgAAAAN0Ge6kU0TCv/AAAXS1tupuYC2ubWAGQi+Gs/kSHLWnz7gBBTv4W0p8ZSlB9s32whWHOFlOFXNmEAAAAxAZ8JdEJ/AAAkwJkivnrD3JbGkvmP7Ag03TjMkZopYOT/iz71vItEfJeySYkVJxlrZgAAACYBnwtqQn8AACS9g4CV65snBO5G9yBrtt72gRJ5UqxU0gz+wKvMCAAAAH5BmxBJqEFomUwIZ//+OEAAARTzTuRANSVXb9Fu6GRt7EWFlteHUqt6Epwdzq1E61a5GYWiYFWlfjSLibvqi4uwIabQO/ex1gXNDBm06eHwlwg2I+uMdvd/lkr8gVYSlLL2thjjLnj5O+OdT5KxuJUofbUCe0v35/uCJjRRa6EAAAAzQZ8uRREsK/8AABdLW0/ys+D4oQ+qVS7YcpBIhewH1wOQZr2yt+eIS6S/N+QgHL8a3WzBAAAAKgGfTXRCfwAAJMCyrd+NuDyO88qXjT5P/7AH+Y0xZ5RPVL/OlrUY5wGJUQAAACMBn09qQn8AACSuXjOBeUOzzbZAZScgzxcN8pSaFTAnm6k3oAAAAGVBm1FJqEFsmUwIZ//+OEAAART6OGQCUvgF2K6wYfZbucseTsGvUWsS9rCMxB6L/nOO+zWQP8JdnZWIq9MmZUvNsOHJ5i1eytQ+xF+Zg++prdeTpVd2t5WikEBdI9VGF4fvO47/gAAAAEdBm3JJ4QpSZTAhv/6MsAAASBC8aAtYrr9R/SQdRRhFeb7/rACIGRY52FdPOJl6HqVhRf9jmPjLJJb4i4o0yKdYRJOd8NEzLwAAAIFBm5NJ4Q6JlMCG//6MsAAASnpvPKGGhwYIA3mp0gc8k/ysOHMVKSJChpZix3y10BmWsDeOt4l95nqXSHkvTxzrn0WzzvXcJ74Qw5a6XZuUYOOUUiQ+hOa5d0eq3Rx6JcoKSq0IaxducZSI3tl6I6dPUH4BDxcAHhIRpwC3wopMsLgAAACRQZu3SeEPJlMCG//+jLAAAEoHult8AaPcBlKt6uYTAnhzvkptnhR+uYeXDnE/+abLZJLl435tGT/ULv7oAymz28RJ8ThEoCRytqxiJhHhOpupVY600IQ6mPvpSDaDuPUAaMFJnhog1TLu5vECPjyFGURIo2ziAwNqi+um5WwTLJf/2hls+bL9+bJlDIWK73AIzgAAAEtBn9VFETwr/wAAF+l8wxGrS7N7rJYZKAFi8IprguEvp5SgXI6oVie73E84BaiG845IUrBMRXVWy3B53I35LHUzyFytW94TN3bB17kAAAAuAZ/0dEJ/AAAkqer3mTQU/mKQAIKBHjgl3Rc3Jk/guzfB6pY4zsFKy0tERxVupAAAACoBn/ZqQn8AACW+9T5BgYNchHMQxUiz0JqzI+a59WSg6QA2KfYRQUEaLpkAAACGQZv7SahBaJlMCG///oywAABKVhLMeVGiwbH/OH08joUr+spMl+IAa9u7nEF+Ay9otdGllWFkqFDBOu/67PLwHGUT9JhLfTOhhkjIqQwb1op1UWJv60OVm0afgruK1Zt2DGhPRggjrRF7Ii9AFMR6NIwlAVqZ2sgwIBvgK+tPkJd7rcHPwiEAAAA3QZ4ZRREsK/8AABff7B6jG0cL+V719bPN2x8vWds5AvQBQnYBCa30D1MPhOXtfGNLJT59201JwAAAADYBnjh0Qn8AACXAmd3lfxPVHOmntwz42hACzNAmTu5Yw5jruBL+mrTNDN0XzVOe7iVDel9GsakAAAAnAZ46akJ/AAAlrl4zgXlDs8xUhh1KnHTzbJZBGSKICLEDzJE3wj78AAAAfEGaP0moQWyZTAhv//6MsAAASlYZehdxzSGAzP8ABySIRwBdhPn8hL1bR41KRkLFJOplhmKDTq4pOOmMNfEYn1Qcn1Hf04N/qc8CuUT4JeT2ZxWf2ClHVhJSN6hIWGoOp001TduEpn6yN+lIY0NDPy1yGqwIArLj5xrg5aEAAAAsQZ5dRRUsK/8AABffUBNmJ9gbJ6HWEr+7NS+6nI0fMpxrncjczThCHF7OzukAAAAqAZ58dEJ/AAAlwJna9So9vjQrdFTTKIbcn64F7ucKO7T6ECViGXQ30A24AAAALQGefmpCfwAAJa4M9CYRVHZpsZmCI35f/3uxnvAX2NZd3sfrC31fRcO2qoFJwAAAAMlBmmNJqEFsmUwIb//+jLAAAEoBPLR+VorqpiSAKgU5igPnnOiO2xLIn3NijvX9YUPPUsO6OwBcNq1Q0MaMY6GjkdGDxmMPU74Yl0ZLhhL/zJvYwl1xtQvrVL4G6LTnarU3cL+dZv5d+O6jTRJTrMLPLyCBHrRbDfXZA2SBwi9j9ygjUvVzcwR44Pha0t8XUbssAkvSL04LzZiTVAvQdn4v0HmX2gnlCMWKjPXgwCQ6j/DSStfm/TOZhLsVENoOc3oQwLPEG1709dEAAABMQZ6BRRUsK/8AABff6+i0PNRrfy1abkSof3aSE+8odiUkGZd0wUgBa8cc1vnJRjBbRSMuFPUE55wSfWGZWd13OZu9/8KvJosrS+moDAAAAC0BnqB0Qn8AACXAmd3pXpVMWg2sPDgo/P13ic+FfRYtafljNsD+z6w8MnlmS9MAAAAqAZ6iakJ/AAAlrl3hHZrjEFF1OEALM76dqrPKrGW/HsbwCFgqx07S2DKgAAAAukGap0moQWyZTAhv//6MsAAATAE+YMFBtQQ5FZBTFO13EpLSirO/1reOV1H8y6BXUiUHf8lqJ2mlj6vWlZHSrrFszTufpaztqyVwjy6HlDIdjkIKM/qXGvlPvbBhmaMeVe1s5FoEcOCABgfHqH9HnLvrSp7PuA5v/W42XJjZzcAkgPquC3f8DQJEXHQ2NhmzGgFv767U1IhWuy3PRDS3Xf/y2+lsIsXamhI6j48MIUFEZ7Kct0i6/pjesQAAADhBnsVFFSwr/wAAGImC7ahSRiXhnnFdgko0A2wL10Wn79DBjxwzYTcQ4QEiQeAY2netZLt3Cd2baQAAACwBnuR0Qn8AACWp6xx08198r9nT+krWJ0PXooWCY05Cb1QavkFztp7+H2UXtQAAAC4BnuZqQn8AACa99u5Jjsr5AgbzuHhu2HJ2OyIlH1DcqIwM9cR6t8vBszKSDsqBAAAAb0Ga60moQWyZTAhv//6MsAAATAE8tBla9BbYBIjauVa27VJRbhAS6j1/hxsn6MyuCeOzmbFUbIAA5ACkY8lUI489I23e+WWzg9eUW9w5Vr84TJp3I6N5dxKnhVyChlDcNgFKhDpYTjMDKEklK4JfgAAAACdBnwlFFSwr/wAAGH/sHqMbRwv5dDXsZLve3XUutOrOQqzyztN/I9wAAAAwAZ8odEJ/AAAmwJnd6C4sYMWhRUO8s4eO6Wi8Gcx1wIw1D69FLBk0/UM0CmnI4aXdAAAAOAGfKmpCfwAAJq5eM4Ix6v3CeBKK64e0BiLKx20GfgngJPy72qh5U1Va6Q1AAIflyGt/770iisqAAAAA3UGbL0moQWyZTAhv//6MsAAATAE8zv7nDW8AXY5O/xF533Sz31W49wUiVHVWdJKNjnB5QHcCgACyqUawt0s2PMlreBgCRBqu6esyZvLZYjEHKGFLHVIMOyb7MOsi7TLYzBgG8Q2fI8sZdWCsL70bmsQscsTmnhk/g3y57jH9NmHD43xeSget680OIHMia6aD6wKiOVGI9QcsFbQRzC/Fxx/bhdZ25/7RB8K41mf4Uo82Z2Zqy6gpViNtaoJOAl8QT0836HK8HRFTq98uL3/HarEdSnBP47eQnNCU4jZAAAAAOkGfTUUVLCv/AAAYf+votDz+V1OOUnSe9qv7oQx1fqx3kJCVjfpcqlqTo71jUYA/476YUhl+y5ope4EAAAA5AZ9sdEJ/AAAmwJna9UQUoXk9Za4vFu6u533XZNHD1KlJQyglqBzV1xFxsGC45OHxroqfpEmYoh3BAAAAPAGfbmpCfwAAJp5GdzZ9KH2ADY1fxNCN7+fyLA7mVOnbVybxslGB9nRjlXzJ4DKdrQyXfYAHckHK/OB7gQAAAM5Bm3NJqEFsmUwIb//+jLAAAEwUUtkxjESg79aosIof+2oPdv5wjFDPbN+c7oPLnz/lqemSzHr1pQ01qjLUv35xniNERUE/I3zj97X1KjpzdrNf/EA8iaOevspJe7yM3kbHe4JcdgZ2G2ZUsKZzNNpFAymfWvTQffAP1nuoXYkJj7JQ6VoADso6XqOD4uC32g/OU8LQa46G2ObnAv+InM10MDkqMsCZJAOXugG/h5FdDrDL/9kETG6szJ8i6RpUB7ra9kuc3w9XGjx0uDh0QAAAAC5Bn5FFFSwr/wAAGH/sHqMbRwoPhuAqq4He/0Q596L1BH5aopGMZd+Zx0NkItlAAAAALAGfsHRCfwAAJqnpxxOFdDbkt8mIgQE1QphTryhqlnGAMgGBDwJEJWJrsXuBAAAAJgGfsmpCfwAAJq5d4R2cQ3T+O7uBUJf00j56JDYhBrymetQ3W+ncAAAAwEGbt0moQWyZTAhv//6MsAAATge5aPGiC533kVB4weKoqBJY3Mn8pCklxue/ppZ/IrZI4XRfvIWPTZcoLUrG3ZCZQKbdX3qa68KS12iQZc1uN/mb1w/fr/5Bs2W7IAVmi4iTb2Dc52a8sn6+ZihBzYjMXZ0DMKakfCTsNEmO7LySKWmiPByqG7YMPpxxUsc1QI0oAD4HAC4Lu4ZHEtrxnI88UPVeNultZ4KzbK7CsaCtrJrdx2CyZ0iUs5JTQqLJsAAAADdBn9VFFSwr/wAAGSl8w2AgW0h3YQAPB7ihAMySoAW2JQ8oVZWwBHyHNtb97g0pDs35fkL1F3+BAAAAKQGf9HRCfwAAJqw5baYRtJx0WkCU2SHs0x0t4elUD6F5QCyi/8l9JAe4AAAAIQGf9mpCfwAAJ9luOJhp8yCUjaCEgsK4zxQ2ypbfRP6kgQAAAFVBm/lJqEFsmUwUTDf//oywAABOAs8RSCcHheL0NjaMmoqIgQAGy9NfpLdP308nmCrTsrfBYrA9X4vu3/WVnf13GcU5MGFFNJha5bP8t70vuVNEVBqRAAAALAGeGGpCfwAAJ8mAcNzllFKKJdc/oUHjwo5sV3TFCRwQC6T43g61kIEc0kQsAAAAk0GaG0nhClJlMFLDf/6MsAAATfKUhOvQCMuKdSppkLQ+gkyA11UW98H4hs2XotEy0zxoPmqAh5KtdQNbGQM8Po4104TZ5F/W6z/mKoui2KHWAdpJICYhQFJQ9juy5lbwZNycSvgY0pBQc7r5gtqPsEdwdNt7zPOWy7DvndsPwZX/xvWb3aYOjP7ots9+KPt5Ll/5ewAAACUBnjpqQn8AACfFUpH7lvkbGNKZP16uvWs0rBNhADCbC1U1TqkgAAAAokGaP0nhDomUwIb//oywAABN9IT82duAavo2Yjd3ijmGY6q+EKoLr91SK+/8wUUg/v0FNp/iyOOYnDvAr7LJf58W+f8RpJQz8+uPIjH4IYjv1Hb2OiT258HiXon3isX2j55sAqzDSNBFefWHEq+1MuoYz6SIE4d5goP1e61bEIbjxlGyP+C/Vq32PridSfAqPl5I61FXhxqbXp2zY2fXe6DUgQAAACRBnl1FFTwr/wAAGSCHSC15p4MXzYVPXdOQbinq7h+lYkbZNOEAAAAyAZ58dEJ/AAAnwpNNh7iDdMzJ7sFxxYFfuh0eIr++0xSjikN5Kzk363BX/jOoA0e8rYAAAAAmAZ5+akJ/AAAnyYBw3KDXFx6ZZyFTwkcnrvz11xACE1O4LyEE4sAAAACxQZpjSahBaJlMCG///oywAABONDjDMYDpcRTkEiYYwMVQV5b6Ykg5Uzc9r/xwAFBl3kMGUBhIEFRoD8skvBBojxm1+59e+T1IusmR+bNlaj+G2RVy4abwHYdfLYcDyNGwgwYNw6zSmlcYycH+CIKhZ2hKvTOiN+DZ3BPSXs1iTB4Z4vKwAAW7R1X17WVv/vi3kLCejeVmFV6jMvlIAZiZQv0Og0ClF0hNYRUpjlz9/DG5AAAAK0GegUURLCv/AAAZIIe3DbkbQPzmrQjsjRmFI1um3LbLNH7ZMNoxcOVTMWAAAAAiAZ6gdEJ/AAAn21cmK382SAa2dnsxYHCg701r/r7bEESQ4QAAACcBnqJqQn8AACfJgHbfYv6OQ+khAgc1OkWlatWiHCGN3Vo2SsJVNbAAAACEQZqnSahBbJlMCG///oywAABOKV1gCAoMeAAz+TX45ePjkvqo2R1+i1t8nY7U89kJjBQzwIrz99hSR3aEM0pPI4d1GCKtE7DXtS4Pr6j6yBj0kzRJoTuNOEMJzCbNp38NZqiYV7i37JfUKOh/jbmGsQg3Lg94Mru+KdJIt/0j0nnv/p3pAAAALEGexUUVLCv/AAAZKYPNzvhok4B8a55wQGTEGuPQndxKGBzN1cbCNI6Qx0iXAAAAIwGe5HRCfwAABa/L7RU0qnqfliZH2BV/r9qEwH/tMURCPoHXAAAAGQGe5mpCfwAAJ8mAcNyjmQbIODlzLmdmCHkAAABgQZrrSahBbJlMCG///oywAABOJcE62lj0BiT88L69JO45AQKtrslznzUO4bIuvQVuvqgsw1Wg1DZIlgb18pp2Ufa+vjrBbtouKFAhY3kWy0ZZCTE9QgSBuqKVdyHBTyvgAAAALkGfCUUVLCv/AAAZIms46yCb/QWcbqvMaIzMMJqiEs6DZzMPLOQJIIQL6hCtQi4AAAAsAZ8odEJ/AAAn3jThd5ABDF0h34PqCIFqB7XNwvelaBgGbgGKIKPAUNGUmYEAAAAbAZ8qakJ/AAAFph7a13qOVhl2nBH2dQcWsumAAAAAYUGbL0moQWyZTAhv//6MsAAATkLkyBObvQNd6qKC9k9jrjTstNp70m7O5v7DJwDEXvisu25odIOQpmcq720nSN2RHhW1WCbE+mNj6n7KsZ1hv8WkJ4fDePREeu0CB0ZhPHUAAAAnQZ9NRRUsK/8AABjWdMw86hjf0PzMV0Ms2QoBll8ua3SsGcLemuLBAAAAIwGfbHRCfwAAJ95faKmlrHF3fpXJISsJeaJa4v2MUX9kjtlBAAAAHAGfbmpCfwAAJ+P+T2QM1yxtawfJBlurvvWz8lcAAABGQZtzSahBbJlMCG///oywAABOMgfPKgEHfRbI6K20V+z89byq5IwXrp5YWrBima7TH1ozEM8wwz0yDcuD+za5lFQP3S34fAAAACBBn5FFFSwr/wAAGSmDz4c/zM99oaEZhnPKdowPDBnplQAAACABn7B0Qn8AACfbfQpSR/uZK+llaXONksDb2+u0Ag8lYQAAABwBn7JqQn8AACfJgJ5EfNLQxmZ+FI1sH7IN9zaAAAAAg0Gbt0moQWyZTAhv//6MsAAAHS8SidfY4r+X+gCD8iBUN14ELTVwW823jehzL832mbGr16GzoiK6SxA4jtFo9jbykXlwv3yqTLA/6Kl1raVDAM0ispmowoN9l421nvPCtg3ZptfIUk4aOmsLuVOGv3oPDsYUnARfz+PPiKTphTLD+1CwAAAAMEGf1UUVLCv/AAAJLYsqNf/j9Yy3RGJhp+xpqOUdYyilZldY/0aX3HIbUUQu3LZXqwAAABoBn/R0Qn8AAA58U8KHnzo5gvzeVTrcR/3UgAAAACIBn/ZqQn8AAA5+b4dem7SOq3Q8Yp6sTDkrhno2K4N6jcWBAAAAV0Gb+0moQWyZTAhv//6MsAAATgL3egZAUpzzdjLZgi7OFz8UUtj/iJ9f+qU6vCG8z/hrweRhDXnhLCxrJahdmpGVqirrmmd+fcNjmacgf5ewVurf+ZfFvwAAACFBnhlFFSwr/wAAGSJrN2taXriin6Ax7mvObjCS4cHMfWAAAAAtAZ44dEJ/AAAn3l9oqaVT1PvJWbM2DFZZX+wy3LSqeAEEx7ed+9Sj8TEgEMG5AAAAEAGeOmpCfwAAAwBPs1CgoIAAAACOQZo/SahBbJlMCG///oywAABOFF1FI2t419gAnEv6NlkR7fwGI9NhgQ7PnKwrFBna+pjwwCVkjut0i4Ew1giFD1hHpaFuWDfs58XTd7A5XKnrj8Xh+L72+xBg1nRu6dg/cVZLbWaNAJplO69WUeiuKvaeUDbr4jvT2wXZv80Le9LZCwYrCtTdM0hGGZBxowAAAC5Bnl1FFSwr/wAAGSJrOXZa3hFMQ7Sr+yleHVCDl3tIhIiMtGwKXy3QyxNs7IxZAAAAJAGefHRCfwAAJ95fZbCWNClX6oekA+C3rLWmiKnl0RqYq6RdoAAAAB0Bnn5qQn8AAA7WbSwmEhLDbVEd7S1FbnAvGwW+LAAAAERBmmFJqEFsmUwUTDf//oywAABOAvby1oBnTBr41M3nuBu0yaungFGyKORxUqU6z3ZLVecSvz8/unoZ6CuQit63UMiQeQAAACABnoBqQn8AACfZhLPcSWmauFZ7+kwKINPCHG8LwVPStgAAAHRBmoVJ4QpSZTAhv/6MsAAAHU9HA03CGlBdZq31Nl9+JYwPOKb/5x7ZUszK5jOZAFOfbMqM513koXAMQoy3pT93J1VTRc47fXeDm9bviLJ6jYDegI31PkEAelfLqBjI90bAllfteygkQyYhTOiBK0BxKqVAIQAAAC9BnqNFNEwr/wAACSwJoopAVD9AQrd2DIRffL+qXgpmpR4nLMx7HyyPOGsY/b3qgAAAAC4BnsJ0Qn8AAA7UPtexgL4UGMckL0Xd/l5Ch0L2HKmCYzCCd4tU+OYmz51hpwfXAAAAIAGexGpCfwAAAwILIZJ5du9wc1yfZBn0y3ViljVimOXBAAAANUGayUmoQWiZTAhv//6MsAAATgIFeWtAIqf5MnMvKhTbsQae7J16jxtOO+Ore10Kv0GNeJYXAAAAI0Ge50URLCv/AAAZIGu1BbkcL+XQ2OWDBjRVPpnAB2GMLSbRAAAAIAGfBnRCfwAAJ8KTTYQr4W2Ggl6qVMV1Gzx1ss5EKRtgAAAAIAGfCGpCfwAAJ9mEs9xJeHlwO9BBveCuccRQNfnqFhQYAAAAUEGbDUmoQWyZTAhv//6MsAAATgIFvOZZe2nsqeVOMGeGYrsQc2pZPlbRsADllYYmt55PKhNj2FrRkVV4bnXFKkPek2xnrC2/F4fyzcpp1ilBAAAAMEGfK0UVLCv/AAAZIGu1BblBaAD+1bhQdr45zgrCGmqcZKL5zxe/K+3SOa1LlAsNsAAAACUBn0p0Qn8AACfeX2ippXk9uv616CXGG/KAEsoypekNcImRNybQAAAAGAGfTGpCfwAAJ9mEs9xJaZq4Vms/lSOsCQAAAFhBm1FJqEFsmUwIb//+jLAAAE4C9ljj0datsbGY5VDBMwAH83IBIclkV2YRAokgHY8ZPeha4SRucuVl5acQCiY2F/crASBSfT1jL5t+hbcZU7lpDxFF5AyFAAAAKEGfb0UVLCv/AAAZKYPNtxXNgbogSDg/LaOT9M9Qp5mezvoF+jwz0dcAAAApAZ+OdEJ/AAAFi9HhFEZB9PpOkzpMkAH9eApALAeMPddaHUIjZCq07FgAAAAjAZ+QakJ/AAAn2YSz3ZsGXhfnLG9yVpm/nEkLAD1hyZiJGy4AAACOQZuVSahBbJlMCG///oywAABOex6XTR2aOKt74YBaKHSqZw93OnFDW0xE9Cg3qYnTR4H8Y5q3E6UJ57k01UtXnHAW5Ffqoi8CO5LH/yvw6ZtU3MbezPiXFZIRtm4/A3rKaB6jvUdEGuQrEqbd5puqZU1yBJJ3frLYPpL+jKgwW3fyz5SIm95YjRoIbhW4gQAAACRBn7NFFSwr/wAAGSBrtQW5HC/l0NfCF7crxzc9onzQZSiyQLAAAAAdAZ/SdEJ/AAAn3l9ir13N83fog6EVvTGYH5gqABgAAAAgAZ/UakJ/AAAn2YSz3El7lGc3j8ZKx7JK8gjUlTetsoEAAABhQZvZSahBbJlMCG///oywAABOAUa2z2AAmlQETqz6wubtVGZMB58tuSqyUEYDCQpOWLkbWtGlilZvywiGUoM6GN06lzgyXLjbB8A3/f0c+owjf3D6iXfu/HAqRYnFllZ9mwAAADNBn/dFFSwr/wAAGSmDzbU2Hvas4YAbmqAE9fyV7Cf33Nj1/pW6raggYGxNoIZ6a6ch2ykAAAAvAZ4WdEJ/AAADAgMSkbDFQC089Jhsn+0mk6t/aAAGqJeeRPOF93rdmwgcp7vhncEAAAAYAZ4YakJ/AAAmvx+MHvmkvOG6NQcPBQqYAAAAiEGaHUmoQWyZTAhv//6MsAAAS/a84OmXeAf0Gnuvn/9YHiGdF1ROrjte+iwm9FyggWNs7UTL84PYhYJR8GYwbQNclBUd4TMpq+nSBh9ZgL9I65OGJZ5UuhbDTsBK5OGZnaTLqEu9siBbmOFJ8Z/W98HZuHF9K/0EGkdHrshxGvzPwp5EHOyhQxEAAAAqQZ47RRUsK/8AABiCmFRBBnt9OPR7SX5/8q9jm9KWScZGn2hY1HIlDPlQAAAAJAGeWnRCfwAAJsM7Y0bTY9ACS7r2c7DJPUVOWf2IAF0L4lCygQAAACgBnlxqQn8AAAWJPmDiZxyG2Tz97MxFEfR7QAAzyc2HN+KZSLbcDG73AAAAfUGaQUmoQWyZTAhv//6MsAAATAIIviAaLebOc45hPnyR1Mx483NaL1PyjgaUOYY+BQblOlX+K7RNF5otJtREEN1JM8d1cmxApEgnkgFfFszv81ykZSuIlxGV2ejyKGAZwdAmBshS7GrR0OLtxLChDbPNJD17aY3Hyz1Hft5oAAAAMEGef0UVLCv/AAAYgGwDnj7kU5d0ZLhQABulTOd1WnY7J2JzABh25WUu0K5B9dUeSAAAABkBnp50Qn8AACasOQWuTx5yROHrN9DXcY+BAAAALAGegGpCfwAAJr8EJxgtCXvngwoZplgdXQdrXVWH6nAFCl9plSSrvr5PgnfCAAAAPEGahUmoQWyZTAhv//6MsAAATAKvkQDMhBX6XaqUQjTgndS7bWXZDV1JrFrsbcdyE/tELmPhjSHakx1pMQAAAB1BnqNFFSwr/wAAGIJrN2taXriig8IwsDncx5qGvAAAADABnsJ0Qn8AACbDF2iNH1egSnIUnvXLDn1uCMTAdIPaZbfMl7ABCo93Y/SFQixLPZUAAAAOAZ7EakJ/AAADAAADAakAAACJQZrJSahBbJlMCG///oywAABMFDscB2KbCX0pGRAF/l2C7OhYQpTRoqJUhw2tj/5wpZ08F5lY65t4umemv7O1qfgUMfabGE58sTXBFJYBDtz/7TJvox2WRHqSCM/yVZFffOinFgv4DSll7P0GloGOZ+dF2/vSGYpulcorQSGmxR6Er4gC6WHKkdkAAAAqQZ7nRRUsK/8AABiCazdrPjlBfKuftXrc7EP8XTHrcmsVHEnePAYK3QmBAAAAIQGfBnRCfwAAJsMXaKmzkVZmg9NEYV+RFk+pgkedpOKp3AAAACsBnwhqQn8AAAWJMA4blBxmXWG1+awAp92sDmwAJrjzNNuWGt7U6hOPB7s+AAAAS0GbDUmoQWyZTAhv//6MsAAATAL2m8++yA6gEAbf7MiNeuxMBMjx/uuXN7M46nTqkTAyqnaKYz2NcJClLdjd3XTJzum94UIa7PICywAAACZBnytFFSwr/wAAGIJrN2tf0PI4Pn5wgwFjCdQf7+gEb4114nQj3AAAABgBn0p0Qn8AACar+Ft4Ep2+6qHokdEZHzAAAAAZAZ9MakJ/AAAFiTAOG5Qa76HbhlSChDfjnwAAAEJBm1FJqEFsmUwIb//+jLAAAEvzga6Hs/D+H9hk+1c0AHP3H4MOojf3OmxLX0++j5lbPZQp3jKAomK8riHEtjj18mEAAAAhQZ9vRRUsK/8AABiCazdrWl664AAN0/6KV73bchAkwqa9AAAAHAGfjnRCfwAAJqv4W3gSnWgjiBGeuRoD3QvzKyoAAAAOAZ+QakJ/AAADAAADAakAAACXQZuVSahBbJlMCG///oywAABMAvbyegSdOBXgCI/swJ1qq+2F8Cm2h6wxP+w9HxwlYKHg2YsHiFExdKIbx229M9RukyQJWBuFnu3my+01d4sWslEE6zoCbiw0JcQHJI0fHeCtOuqrU8dEpnXgBJVYtPOUr5VaK+4uKbjgHRGhDkDLg/HRZR1Oc//MhxYTlixTY6cQFSv+UQAAAChBn7NFFSwr/wAAGIJrN2ttWmOeM61BGVzbyHCEMRoNy6YmLaAF9F7hAAAAIQGf0nRCfwAAJsMXaKmzkVnQh/+OeLoI+KYgBR8Kx2sWfAAAABwBn9RqQn8AAAWJNdopRRJpIZhF7TLNixG0Uf7hAAAAa0Gb2UmoQWyZTAhv//6MsAAATBRdRSNxcQHISIMBAZSJENcmXi93GFk2SkDUeV5yYqIlrJrguyk3sAGTNSMi3rOlTEI8hOFAPpqtLYzVA1CplUUhroaYcCgNqV7rEduJc6OcgYro3HsavyZAAAAAJUGf90UVLCv/AAAYiYPNHLISAqHP8BWSIoZgr4pvRF/dRipyM+EAAAAOAZ4WdEJ/AAADAAADAakAAAAvAZ4YakJ/AAAmvwQfakydUOlheQW+T5JpDoPAl8zb0m1hgJVZPlmGRyhLEax29oAAAACVQZodSahBbJlMCG///oywAAAccr2xJr2UQAIZi0dCzngR93yzyo72Q0bR4WLNeWNx7kkQUp9tcgjsL8aZasceBFo4pvCiOEZ69cjXMbvO3Lnnn7tQOc+j9g/drkb1jJ6DVqbCKUMMr273gfHPdOVVcoKtNz1tadr50ryPbp/EBNRqpckDwEvYZ/E4dr9Hls9/33ZMZREAAAAuQZ47RRUsK/8AAAMDdFMV82Ct3VNBZB5VJeqvqwEAqeaerhKq+U+tTqQJhhFz4AAAAB0Bnlp0Qn8AAAMCCr+Ft4EoxOuO4fCtD2bu5FwIMQAAABcBnlxqQn8AAA5+bSwmEhKXxNz8KdaJOQAAADtBmkFJqEFsmUwIb//+jLAAAAMAFbr88BeOLEHv5na3gBNhOU2WMZs1RQHMblOOQiiTuiIqvYUz4v9KoAAAABhBnn9FFSwr/wAAAwAG6LKOLG9gCDzCvbQAAAAWAZ6edEJ/AAADAAsQygafJM9kTtD1fwAAAA4BnoBqQn8AAAMAAAMBqQAAAClBmoVJqEFsmUwIb//+jLAAAAMAFcDTV14m9D7kIggCmZ3f/Qor1fLHwQAAABlBnqNFFSwr/wAAAwAG6mgfffDw6SzNoadqAAAADgGewnRCfwAAAwAAAwGpAAAAJwGexGpCfwAAAwILlvItmRZu9Xi6buQcfu3Gr+LOIGE2ZZCUOGodlQAAARdBmslJqEFsmUwIb//+jLAAAEx+Jyc8swWIkXMA+Nvcx3bh/1+3yWaaGY1Wz8krWnaF5PHdluDgSnHk7RdvKMH0R2yLTvy0R6h51YEc78R2z4h0F1+UV7KvEj+0tLNuuEc/B2+Ibzxve10YUZgi1uR7VfsCFxOR3OZT4KflsvMQpzZGkSgzBnZ38pQ1ClL2oaVrRuviQhEYR7+EjUd7pfqBwLBrsMZLa0856RhmxhUV8JY5px4zroXjTcJhVrSEn5ARiwV/L0Rj2SlIUJkGxdraragpV7G/w6gUlIcCeSN7BouHUgpL25wKPWnepbXvi0ukG39+pvzUEvkFg24uCXlYtoFlToYeXKoSxb3SKyWNSdg7kRYukbMAAABDQZ7nRRUsK/8AABiJg+OHfZ5z+VTSQ1mZH2HSAVFMK0kjPDbH2oONjv9G7Gm2r9RcnVa01mowDzaCl1gET2/J3ijCfQAAABoBnwZ0Qn8AAAMCCr+Ft4Ed21S5PJhBdXupOAAAACgBnwhqQn8AACa/BFy1K/L+vswHIm6GbJuKIh6mPB1SBPMydPZIv2PgAAAAvkGbDUmoQWyZTAhv//6MsAAARgLP5lAtEtQMb7+dwACpNlh4B3XBb0KiCx296B3tA8JLn2tv4+LDfATUz5xlM2vy0MS373zWjP3E3xwn7XoAkNaxi1+847blOn38EH3qpBg1mps5RRpLDVdodIQNpPiLEzFhvDWk3oByZRklO08Q1T0dMFCe5A7trp6gcLwNizNPx3H3BjKocIy4y95EwmdjvBKNCwEp9P673AP4ZTbt2n7BFXst2faLsHvy/vcAAAAgQZ8rRRUsK/8AABa1KzdrWl64ooPCMLA4SH07Eny5QWAAAAA3AZ9KdEJ/AAAjwxdoqahDGABvsQmbCkDr9Ycee9oAIqgVFVOAJf31c8jNTCvbLz2wvNTqy5KE2AAAAA4Bn0xqQn8AAAMAAAMBqQAAAJNBm1FJqEFsmUwIb//+jLAAAEYUW0UjcNkns2tWh1QEsi9JdnQf2gmwuzlYJrHHYe/pb1ikl5a1uNmYs/Yl6kvbP4u1fxnjR3rrJWtRroTUG9cFqhmKVbHMOGwH1V0yNu2sUUcEGU+nTZudH/9dX88srcCDjpg1hOTMeqTn7V2bZ5jZok8S/qwjd58xtHT+GUfBDJ8AAAAjQZ9vRRUsK/8AABa8Q823FcysmUreK+K3dU6FpINZATzAMWEAAAAOAZ+OdEJ/AAADAAADAakAAAAtAZ+QakJ/AAAjscwNYQ2Ups7wMhyTNyGZcEcKCwPnxlcojeO+QQSYAMYqsvygAAAAWEGblUmoQWyZTAhv//6MsAAARhDAlG7gKGBmYmYWfDSF4T2zpV8lWkZqeflZqmyfUxo/ZJ2Z0niIamjJFc6zBP51NKK8eZgcxlpC88eeJnU7T4DvhY5u1U0AAAAiQZ+zRRUsK/8AABa7iqdTd8uHrgpg6C9sL4/U2CVk0ve/wAAAADIBn9J0Qn8AACPDF2ippVPU+/5CKIVQ0prGzEsvaxmJ03izACF/XEKnsKCguUdH150BNgAAABYBn9RqQn8AACO/BCxc+HcoIyQWws+BAAAAXUGb2EmoQWyZTAhv//6MsAAARimUKBqB+Ju9HFHfkMCaN+v95YtVVekOq5IIX6EHkTrvvACuGBPdDrknvIqjCqLnyv/+7pYfYjUNqRLoYef1TL1D764M5EmJkdH0ggAAACNBn/ZFFSwr/wAAFrUrN2taXriig8IwvB5czuCizVx8IyuFYQAAABcBnhdqQn8AAAMACjqZSZIMBpa8RUHefQAAAEJBmhxJqEFsmUwIb//+jLAAAEYmgwyQANJ5BN6f8KUf1/Usf+wniV/NysluiYVdZrDVzgY7oz7wDjdTG+cWRB5dRLwAAAAjQZ46RRUsK/8AABazR7cNuRwv5dDXsZLuWgpGBJJUWA983oEAAAAZAZ5ZdEJ/AAAjq/hbeBKdaCOIEZ6T8pVYMAAAAC8BnltqQn8AACO/BCduKsB3Xuw1rropt2YGKZr1OyS9SmSXvQxAcokKcon96zWBgwAAAFZBml5JqEFsmUwUTDf//oywAABGAs/yeelPJ0/rts6xvWf6hOkyTwLc7Q+jSeoQbWCkDnPqAFBx3bdS/UU9WYlmKTGlpF/+Wy57rjnK3x01Yf26FADIkwAAACABnn1qQn8AACO/BCcSyWmauFZTHyo7lxGQDigaFuregAAAAFBBmmJJ4QpSZTAhv/6MsAAARiURVdIA4kwG1F12ZYqh4I62pPqDUADU2AuwBB3xHdagq6WJJaNrr7jKjjEAp3msS36RNoYHiAdrL/jBHsKVwAAAAC1BnoBFNEwr/wAAFrNHtw25HE5AAOMykYIm1C3XfDOhwcNG0uwP0fw6zLLVMoEAAAAmAZ6/dEJ/AAAjq/hcQtdsy1U/PRB54QSqc/uQ922Ff8Zh10TDbMAAAAAmAZ6hakJ/AAAjsdeW5jUhmwVwmblxOaubZ6hhBVAPTKBb3LvpP8EAAACVQZqmSahBaJlMCGf//jhAAAEM8X8ska2uMIOYAhLQcy1e9KA16lKsrpxH5xRUzp25Vi//6j4889SlYrgThz1F0LU2TEwz2qXwDydj9TROHYSygqdLQcfm3WhtvlPLKMJpYkI8Ygxp62Sm4QPnJPrdJOkJVr8Xn91uFD2yuZJkJYxH3d3cDdcw56RrBwHwmpf0wYsHxd4AAAA1QZ7ERREsK/8AABa7W2YGX1e9LcFyzYAzEAYbOIfzrVaQcni5FHiJ4zpt67VjoiRdPhzidsEAAAAmAZ7jdEJ/AAAjwJkyfLM+Dxmq0hnk3/+KaBEE0+6BM2+qI1vBybUAAAAiAZ7lakJ/AAAjvxr9+f19z0uHje2Y5K7aFD5U+qeI7s5JgQAAAFBBmudJqEFsmUwIb//+jLAAAEh/vgUD261JwndTXma76hyTZdceiKjCBFbj+oYxn0naG+Xs7+RZkjonTe8yvbqBhGJ50SWIY3Dzn3IlU8CXgQAAAKRBmwtJ4QpSZTAhn/44QAABFTdmsG2AcTCRl63EItZNRatvDiTgRzxsNJSY2p/A0NFKhWd40e4mqGh3h3C7D2U1weodWmt9Ix21soyuMwEf3lQI+G++KfxgqLi9UCh3CA6iW2asJ49jlATcIitDe/1z66UvUSWouMjY7bbrrvmmg+Hp9gUzXRVfZkz1kIaUX4WE8xhPR83jv0EJm/BwaY8cP0X7ggAAADpBnylFNEwr/wAAF0tbbqbmDtRIDmF2gTRjm4WaTfrbN6nQdgyk4ni21nv1G2HjKLzOxlWwEPdpOtwIAAAAJQGfSHRCfwAAJKm4tE7yQ0AK42uMoV8k0dB9UzgDUineIIw+EqEAAAAnAZ9KakJ/AAAkvYOByt/KRTWe9HHFLJNacpK/IDp3MBn/a0e9PUtmAAAAXkGbTEmoQWiZTAhv//6MsAAASALP759rIBKgMI/T8krh+eY2yz+oHbYhW3LYIG7dRw+lnq9oPV9BDGRm8v7WD/1XrGrXRh8YfELU4+v/MR+KfWNTY8DVasNtXNgOxAgAAACRQZtvSeEKUmUwIb/+jLAAAEgQjyxBoG5ogSc2WM4z66AEehe3iNNxkQBd/nQECTCtzseY7GaVJvk/3vtojLgBhpkX/bJ16U0l1GGT/RLI74fFEkFlgO+olhUGTQWIHd6zxlofcxDfcMjHgYLYqkwWjKiLDvnNWKWz0yt4bWGnfqVVAUF7IXI+6Ad1MXbtZnRYwQAAAD9Bn41FNEwr/wAAF0Kr6LQ8cHUgy+7leWzqmy1xvUbR1NMTnqtj4VtuKcKWBsYAHrNr6PDjDop9xBYatXpluBkAAAAsAZ+uakJ/AAAkrl7QtD6RDUy+xb9ZB0jBVPhXDGD6rQotOt7XNhzyLfsGJMEAAABhQZuzSahBaJlMCG///oywAABIVhLQbINoQETgADdWDa5uqNsYfAbOomS09FQpYiuOjW94Vu4LCtvnZf++HQgZJ1ep0fN+bAXtLx5zP/RfgDwi8egIXCZ1L9ZEMIMoISU94AAAADFBn9FFESwr/wAAF0Kr75SfrqxEPagvFjqg6Gr8vHvYrBqlRfIx4PgLyIXAfosK/tFAAAAAKQGf8HRCfwAAJKnqU7tco3ZyZ28UVKyvZDYA5rcqlz7z2ERUata/Gq7BAAAAJQGf8mpCfwAAJK5eM4F5Q7PNtkFW6tOKfoG6V65Tqb9OAiLg/LAAAABTQZv0SahBbJlMCG///oywAABH8o6Y6gAHC2+MHTyRo6QCd0PSB69wFiyhn0GTjccILotP1u6FfIHMkktfTEkcxIDF+If6IHlh+WWBprRYgjZMK8AAAACbQZoYSeEKUmUwIb/+jLAAAEoqofMLeGj1YDRrbq5J+m4ov/ABQHiFmwOLKRYR0/5J+BYO8ipUOZlz5T/YsOkGUAKQWd0zmXgVRHWyH0bht5jmOuFpgicFJ9H9XoQkSiCKU9Q5JmYP2pG7E667UDODZfzxn9wnfXcOChlk1hblDnZ8A4bgzmGdnJzbmkbllFoMXHs4OcuYFxGBkekAAABbQZ42RTRMK/8AABfpfMMRnzsz8veoqQSusDRWFEj21P83LaPpIihnVrs7BaexenkqvdUmmviMp8EYSxSHCrupAIa0oTiQQI/FTWWXkJShgVD0Nj1w8cNminREFgAAACgBnlV0Qn8AACSpuXtH28AsjxBTVbCyc5zZp4c/INrfuzwqdyiQ9OvBAAAAKwGeV2pCfwAAJb71Phqfcdk2wpy99P5bE4KB96j6gONqptnnMFzmKj5wfuEAAABFQZpZSahBaJlMCE///IQAABDMKfUM5RNZdFIjj1eiAFt1mGn9ylAYO/Y1E85AIUuvlG6E2RI2PoqjC4Kqgbhn4dItilSAAAAB9mWIggAEP/73Tr8Cm0WXagOSVwr2yqQmWblSawHypgAAAwAAAwAAAwLa9HiTO+TU8TYAAAMBBwAoYVMRISAUsbwqBL74/A6zyAoNwwugS47cRqaN48cOjFu1bab7H/ec8LEEG/k6/7f3tK/vQC/vjLoE3UGb3TljS5vn43fRfdz5T/4MQ7itP8oi1L6TR/NuMzSGFGfK0Lm35scXN3WqZ+QkQ8o4rRtiQESgXwcn4W+6S0s5Tq8xEA/tcw40tQKFJektE703P78Rqq7L93hDZ8VLbZRR+CKflYOvpt713u6hJGXpcAD6JjSsmhdfzf7/8SvqZZ1KVw/sn9oXf9x7DNqVvBIWA3W990BBfq9mMQIbd/uIGMB6GLmtafJm15fXcZRMpranV0Bv/nF4Cf4D0L7OCrm7SI/ZBjYNJ1A892yDC89W3pecVHD2tMERPFriUNAPD4hVh7fgWjlonw96N4CGnwMbLfKJDds9vIZ6SvVycZP6wkNv3xpAKRNnnQOZSvS/VDro1wJg6XiC+fPPo+ybNr3tEJDsfLVhNzq7B084i/SNjMs94VSQfriHkgrABlSJM7Bs0OC0gLI6HNZDInwtjS5J6wHu0/DStjFjuFf/RHm6IH0Q6Ps6EW3BEgLLSBFVCl9zBbCXSKehqRgAAAMAAAMABNUAAABVQZokbEN//oywAABKB36FxoRShUjVnrE5TcfWLoAV3rYa/gS3rW6IiPFJ8MCrh4E9OIrNhjnkqeYKChYxUroIYdRw6ggRmM/j35hiyZD7irOUzn1NbgAAACxBnkJ4hX8AABfpvuHEag0AQo5x2VebUlHu0mfZ50XrL1sfDRU9OdGXbLqekQAAACMBnmF0Qn8AACXAmd3pXpFlEfqB6rFs/Sle5HbZUbZaEOv7rQAAACsBnmNqQn8AACWtW2Zw3zvpK5Ccv0O12VDy0sd359/zTCF3B6whneSp6yVsAAAAukGaZ0moQWiZTAhv//6MsAAASjtovEEkfmfPx5AEOkrjddOMpq99NCd+fcveo+s0qGAf6wqSFq93ewkqZb9WNJaQjdLjmavrN/t6dQqUjPimPIcOY+n0lD2pQV3t8VhXReBS6SJedujqIv5sHhdZVplLhQ1VMz+PoI/NQBj4pfn5QA6J53fsjs1sBbhCVlNjexEWFDbjyekJZ67u0Hp3vs9wA/pUtwW77C/rsAow2eiqB+iQ5yVKCQC6xAAAADVBnoVFESwr/wAAF98e4fYe38lqe7bqVWWl1qW6m7qECVT6aJKHYVfJP5PrfRpGyUCzuW74sQAAAC4BnqZqQn8AACWuXjOBeTyhsFHkhLJ0pD0MofgY2GBX21eQeYngvbyk7loQuDkgAAAAlUGaq0moQWyZTAhv//6MsAAASgFfRQmXTosK6f7VRzUvPVI02Idco4UBgCLZYwYK0azwwAEfNICXvC5c2rsuRWV9zJvRgQYctJ3UH1A1T1ZGdOa9nITHC7OY1g2xmfFWSoDNItVvA+B4UhcfD6ttQEf1d+7jTMG4KTGHqrxhb8IC69MBiOJwOThc4pTSv2JsITFFbG+hAAAAREGeyUUVLCv/AAAX6JtnrJFFceJdj8/zMD7KoEZqifvtxPjaGaracCh1x8YCyEq5cbtebCrpqa2YDJntA8UhQodUoN7QAAAALQGe6HRCfwAAJanpxxOFdDbkoXh/eH0rNsUCYGpKgMw47z2X9FS5nozkVUK7bwAAADEBnupqQn8AACWuXmkzx5XzT071kg7bUENEpUmv3W8rJzMPNpJRVWBsBDz4HmkCHcz5AAAAhkGa70moQWyZTAhv//6MsAAATAE8+nMnytc2QnGNAbVnGeOYS7UEyISp11HUcYbeZKHzQLDrXuDRGF5CnZI77E88CLkQfBlmaokRyhC6ZWCXAq+Cb/2irFCqJeeKThcu28HSNn1VMCUwfCegtR9tDVZTVFSSajFJOMvr49R0j7UgQ0s5qqNBAAAAOUGfDUUVLCv/AAAYf+weovMO5te+639vUHCQBQsFEgAEckPqgHLKtILQUurAygF/NZH/9nQEuHMigQAAACsBnyx0Qn8AACbBWlFsKjXuPjxvYL66H1RuDxS7SRvtVIjABqxHs0z9HHKAAAAAKAGfLmpCfwAAJq5eM4IvlM1WiF+hRB9e7cfwXF+oBisBaW/6VfTgGTYAAACRQZszSahBbJlMCG///oywAABMKTkKqmcTfYC0ZoAj5/uv8Cbv+vgMnPVYQyFltBlzKAJngHJ/d18II9/SHqunhapuU8rKurls2goOZC3wstS51UFTAAxHTSih+KPd/cPlxGuc5+NaVtwPc1opFdkZbJjcrKk133TDbWxKfgrMJQHevkAh7QckaQtutHMs1Z2/oQAAADZBn1FFFSwr/wAAGH/r6LOiR/USDh23DqBbNEbJeTyxj7MAOMbCjqgyXvcBFMM2ardwEnkGYFsAAAAiAZ9wdEJ/AAAmqenHE4V0NuStf6SIQtzsMpA00L7nsnULgQAAACwBn3JqQn8AACauXjOBeUUcVeGRos3CZihACaMKmaTNNSjAtTLfldQSrQR7gQAAAN9Bm3dJqEFsmUwIb//+jLAAAEwBPmDADoo9kWwOSngtyFrf/E8Qa6Mv6IIG3W9yWmsjIVLLBScgnnSii0u8+QeX6bhDxbJpoUXZCi+SSnjQOyleEiF1L37aW6UaM2soCRu9gSMtF6BtUlqmqf/49HSEIYTxACh+eFruNzJ1TRuK+I0YMYBqO69Chqs0yNbxcEn1+sueFvcNB3P3/gIsjuSRlDnL8QbseRPyU0BGR5IdzkC/MWsbMZVGJ6E9QwF5E/8Es92wpTQCaHI0zScNegPGYzg41eU3sGv0niijc6etAAAANkGflUUVLCv/AAAYiJth9LLIobdlwp4fgG97jgNxy7YR6HS8d0f2d1c4VEsBGXTfB21wqWKdwQAAAC8Bn7R0Qn8AACbAmR/PZaArcQtu6Yht7tU1dlt7h0BznxuCbEyBbJVHen/fJK214AAAACoBn7ZqQn8AACauXjOCL7QXyGImhKAAWxfAzC7mYhUu2C0xcyMiNgFHMT4AAACoQZu7SahBbJlMCG///oywAABOfXNpz11/jzmJaFv0OE0zmNgH9wMhPwaAPt9ZZZ7vZHSlB/STdVIPf0wiR4JzduaOasjFm2A7jhUTCtuU9KJ4swuOMVH2bCl+9LakjOIePbxgwSKV0hA2vrXIf+cL9OHTajWPVXbtU3c3p0aJXtP5VXjlJRA7b0PxohMwEfuV6uDjfi3hnK76zSN5NfdA9zrvY6WlDuBBAAAAMkGf2UUVLCv/AAAZKYLthVBM2Hf/gHUvTqlUaIflVgHzeGsgwLPlajColTR54wawkHKgAAAAKAGf+HRCfwAAJsCZMnyzPWoBH06cd/c+T+/J6JqVylUzL6QXmHdc0yoAAAAoAZ/6akJ/AAAn2W44pQxIUlOTSe+G8y93lF9DajSbJAbZvk5dzNi7FwAAALpBm/9JqEFsmUwIb//+jLAAAE4A7NwUD8Fu3/GDwAXhLKBroRfjoRchngOA45amUZKsGa6k3ielQj2FQ3uAsZCLUANgM866KmzWpN8ReFrx8d8MK+fFH5AqQ/cKF8eBvcDLO1fyWs2JBsAnn/kfFtqbTzbHqub8/L8FUTrQIjOyPGOgDSkPovD6ccQSuxpDkDIrv8CteEsn+Bzv6D8NJ7DVvO4Jdn5JkPk30+kHCX+4UCS4D69InD1/fyAAAABJQZ4dRRUsK/8AABkgh7cN+6g+W6+UOLZhDb0lLX/CZUzWFEGEOFKr+Tg26Ch4QImJbsgp61uoAK8g/0K5jDudgmv4Jy6b0HnVgQAAACYBnjx0Qn8AACfbVjjUDua73vfq/cEMtVXbGjJ1FOxADrWVmCQPcQAAAC4Bnj5qQn8AACfJgHFN1ZaJWchc6+dBSimFKvhCeqnryYS+qDuIVssl7kiP2RvKAAAA2kGaI0moQWyZTAhv//6MsAAAThROP3cBPsqYTFmLsonlDiGhDmT7KF/QH4pXq14vKPB86iDxFHww6IkVKfGGwoovWQEM35TUH1ET7llEAerTbpk92PsU+LdMMMM4HqTcgl9K6YewdXDV2jJ+yLfLsbuSrrrW7ktsZSifW4J0GDibq0HOW+jDxxl2YIINbPyLV3aA5n8LjQHYH944X5eZrjnLcG/s9ceqUo7rJM829GauKl7ZQJMoGeriI1fxZLbQAUlLmHQEbNY8eXsl9z7/LZWmCKqsDvJZmvdrAAAAVUGeQUUVLCv/AAAZIIdILYgAggUTkXtRc4NGJZC2ut1G/f1NCmaDyRhxqJtg3z/6ILfyWy71VDqXBnb3B0YAH87aP01mkcxAm6n6+eHTiSeNv7ZqZ8AAAAAjAZ5gdEJ/AAAn21cmKFbJq7JPs6BmLgIcAQTtn38u2qWwPrEAAAAwAZ5iakJ/AAAnyYB247Cy7OpPrxPxjbY4vDAzKB2lwbagKMqLnYjo8Ektk3K0T4ptAAAAeUGaZ0moQWyZTAhv//6MsAAATgDs2J6ByeqASQuXu/dOPB1JB+vmMWVTG7bN+RssLt0wk9mW6ly19x580nqOLqWijNz+1Jxa4KVPK9cl8PuTGX2JwPhJuIq/BvoTllN+YwP9XMG7n7yWyMne3hbbpeebulaFgSCgJIIAAAA8QZ6FRRUsK/8AABkgh7cNuRwwCxRapAjH90XQNRnVYjdUiXYvPPY48+josL6AKevnbZZnykkywrToE3ukAAAALAGepHRCfwAAJ9tXJihRg3AJPkDW0JBmVkbgXA/QQke745NMcLFzqP4q3eqBAAAAJwGepmpCfwAAJ8mAcNyg1xkMT4a7ocH/mn8VM1O9Ci6TCG02oBaNwAAAALpBmqtJqEFsmUwIb//+jLAAAE4UTjbeH4ITtCeEss5eF2iQLixbYAqTkT1V8FIrT4A2/Vl9DExDkPu9lcM7mkJoF4G7JkOI3J4xpU3Cy8/ThCEx/VMTAYbujFij0tqoWiw2kbmreST16b/3nzft+YbsHYwY06aJp+UoxceZzuDpBgZbTUap4KIyCHpXsS90uXoxsu7vsuQoPtRE3KkkfepCxGlD66cT9QqlA3dVVaMuw1T6CIbgp+8NrQUAAAA1QZ7JRRUsK/8AABkgh/fbZJbv8ZqlOvfUd61m0zjH3Q/jsaRDlkOvMYmwicHBtsNB5hYvUkgAAAAoAZ7odEJ/AAAn21T5hDAs5HqHbIODZ/L2gdxSYLFa3sbveElKv1aC4QAAACYBnupqQn8AACfZhLHgITtpJnuRYwdR0kn87VDupGg9/B9fme5VNwAAAGtBmu9JqEFsmUwIb//+jLAAAE3y15mudbj3KMmDHzV+wmT6cmyXdRXMW1AEG4y0axA1yDKnvGUcAKeeAhExTW8ffg0eSWLmJhyc2eeb0hBOAV4Sd8eAbUVB88p4RFZqWH8T+/+6v7P5Fgh6YQAAAC5Bnw1FFSwr/wAAGRpwQ8q7oiebKOjv3KCii9dZOQ13YeFjyAYurc+nm/SELRlBAAAAIgGfLHRCfwAAJ8LbzJc3zwUEb76yidr6TWcHggs482oKmwIAAAAhAZ8uakJ/AAAnyfbeyLYLojCfzVDkcPBa3tQhxrURJ+R4AAAAiEGbM0moQWyZTAhv//6MsAAATgHygIPzEDWFmxaAFjuzbxcYReWwPo0LjmvfXHn6xuqrEBTdlkFQlwGA4ctx+3ALlpaIQgYaPqJzKHQRC9HYC68z3i6F6C0RO4Zia76AFUytEzP4OfNHKHZvsoTPmhXbYXa2FNoKfZpHSBp1IO6+6oVvBchR1OMAAAAuQZ9RRRUsK/8AABkgiK43ervA9ubdSFBDeY3lk01KllTTiINk8WZ+mqCkTTHVBAAAACABn3B0Qn8AACfC3PkW3C3dOgI1tQmjl80M8Gvi/eoamAAAACUBn3JqQn8AACfKBK9P8x6hn6JTPWfYpFMISFwACE0QNeVavqghAAAAWUGbd0moQWyZTAhv//6MsAAAUCvokf+c8OMJZ4WZtDX0ZhU1a/Tl2GCTT1gBW+Nfdg8qiWPwc1VCX+GTYU/Jp/w/+Dlw2OpAXm/UBC5FhhirLLO/9LQbMUSRAAAAJEGflUUVLCv/AAAZyX0uY1vvkWHPpNKKk0GbYYLNjiOi9suq2QAAABkBn7R0Qn8AAAMAC+4KYJL6BLOVJA8yes+AAAAAIQGftmpCfwAAKPmEs9xJaZq4VlMfKkpavTh6SCsCZ7JwIAAAAFtBm7tJqEFsmUwIb//+jLAAAB3TFF98vEi2/wIAUQLFSuQSLkN8ChZBh7DgtZ1z9EEM/7yi7ODcRIAwtO+VOZ7P9TtjOLAc6mGER4+QJYB6uk5f4TpYXShWpDxdAAAAG0Gf2UUVLCv/AAAJrPkGgOL0Qr13FNDfKLa8jwAAAB4Bn/h0Qn8AAA83BagVkl2Ux8DS5B70PH7UXKRLRBAAAAAQAZ/6akJ/AAADAAGwk8L0wQAAADZBm/9JqEFsmUwIb//+jLAAAFC9y4XnGfHwF6uIJzGT67mgBba8CL7q2iBtRw7D4frLdPGrSsAAAAAqQZ4dRRUsK/8AABkpkLQSwqhW4z3zLmjeEDBKIjcz1QAayQRFDYg/mQnvAAAAGQGePHRCfwAAAwALp7Q9g3oK5R8sOqCfVBEAAAAjAZ4+akJ/AAApBRX+9mo++S58z9Ym7AP/DloAG39dOS8+fuAAAAB3QZojSahBbJlMCG///oywAABOLAAH9AJmcxtP+dBCpn7JY0/EEhmrIjH4YVX3c/0Z+V/MSHHj+tU08Rs6j9yU/g2rWNePDlOHa9KFgSaTEnyem2jKsR1Akl+GzqWgG+WNGFVH3o+APyE82gV0A518NeAt6NYsW4EAAAA2QZ5BRRUsK/8AABkimUAxDPJOc5/bsYIZHgMvRi9rPGaBPtd1fYzMz9M8shbzh87RSrF6bbAgAAAAOgGeYHRCfwAAKOBKCry+zK3ilKK02HjnrAAC6Gd7hIigdNrgD5jXejuSCfq3A9NZ3Kj9chekoz6CqCEAAAAeAZ5iakJ/AAAO2Nfh4LMkAN9gCilTbMHIu+yt1HHhAAAAhEGaZ0moQWyZTAhv//6MsAAATgL3+rkU3b/rlvkBkZYMALFjhiNV5uP5YwEgLaTtaomp+1cNUemeH4ZK6TTG1gph/3Jk9CFVKg5mH9lU+emGOCtgsu7D9QHuH9ugYqDfq9U97Vyvb/fo13j/EEQLSMk/JE73r+HumVe6I1+6U/YSREBhoAAAADRBnoVFFSwr/wAAGSmOgWL9m3l3RSpGUALFw6RO9AjHmYzAeodGr8IjdNo+/7+T5NYQsSOEAAAAHgGepHRCfwAADtWH8gQgz86+m2qWskyJaSTixTmx4QAAACYBnqZqQn8AACfJ9Tq8tXuRCFcoz9nIx8h8Lo7KRS/R6u3Ilykz4AAAAJ9BmqtJqEFsmUwIb//+jLAAAE4QwYAh8TaybdctyjUARXEkbQ8s1ubDy+l/7r62K576/rbpWlvgi0l13Je5WIW7vDmNPwM7BsZOIfxafTigdbgKSWxkqenVDb0u8qmQoEdF6W8XrtDW29rOt/DOZoehhYOzqxJePE1uUoW3VEFWbbYg0ilyf/kWbXlsKKbK0MjVV00kZE37wRHFn5qR2WkAAAA5QZ7JRRUsK/8AABkin0cq0JggA1MWu3tLk5HvjzW6XZmgZBnxdl9OjKqOeZtZyvzRD8G7H/CnEpu2AAAAKgGe6HRCfwAAJ96DY0IEav3zEU3KkOyUI2Y01wRR6z/bW2tQZHJCGchLHwAAABwBnupqQn8AAA7WajCT0WrS1pI7GG6AW4Mor7WxAAAAZUGa70moQWyZTAhv//6MsAAATgIFMYTK7DGib1Nupo4dnY1bQUdDeDS1O2yjnFxhcQA3c9FL3UCX+vaAVfEcB+06OoBZ4+38r0rnqvabwQTF31wVKIjMxdUeaHD+IGr8FA9pEmV1AAAALEGfDUUVLCv/AAAZIGwDnj5u52FF3Eq327gpDS/EFYFWBDa3jEvT5oJs8w9VAAAAHAGfLHRCfwAAJ8LbzJY+0Qk+Gd7oBRxoU/reXFgAAAA2AZ8uakJ/AAAn2YSpZVaAEsmRUgnGdQRBAFbxVq2+fK6rxRXuJu2ZEw1Ow+wERmuyQX6IqLtgAAAAr0GbM0moQWyZTAhv//6MsAAATgIFvQMgGxCKfmWUYdXP90mPeImNju8c782Ba3veLLS0PwJxr5jhN7Rzl05n7kgEM1qJx39DXwydus3+UeCsOI8Q9MDR5dMGt9Tw98SOmWKYTZfzOHMWYM63bZgschjCfEdkbWjS+Zac657nNesdl3e+1nmkquRfckRgNfeDD9bv2MEUMsN13rHm6MDRf1nfAky4Gi9Uh1GOqS9EP1kAAAA+QZ9RRRUsK/8AABkga7UFuRyvy2WGlLe7lM05k3/OI8Rzp/CtcAYrBUovp88nlcwAdZRHcJMwLnMT5f/BVIAAAAAoAZ9wdEJ/AAAn3l9ir13XfrNHSrO0MnNOKmKrLEIlKaOUkOloE4vbgAAAACoBn3JqQn8AACfZhLPcTEFVbyOJUhwmvA6Q7/4suCcvNRWtgMp3Be4pEd0AAABCQZt3SahBbJlMCG///oywAABOAgV5PQJOqykSGBmW5agt8myxM5P0MRkpt/UNp5L6nML/RFjUqCxzyOwzEyw6f3VBAAAAJUGflUUVLCv/AAAY1XbCkzB4x6oi4uhO8HzFHnzJ4qBjFg53bE0AAAAyAZ+0dEJ/AAAnwDn3g+fEMVhQClmQvD2SfzImzigA2iJfrz6bziX0pNL3jBmKO2J+1YAAAAAdAZ+2akJ/AAAnyYBw3KDXFx6ZZx+uqqhu430AAtMAAABuQZu7SahBbJlMCG///oywAABOEH258ykA6QZapvJJXmyN86pPT+cIA5PSQxU8nzsD+PoX1PexRYwEPIF6gh+kI+Hig7Pf3mtBhx3muSCQZk+ZRKyuVQH6EeaHhEH2+X/1oR2wyidUg2koVsj9c+EAAAAtQZ/ZRRUsK/8AABkgbCkYJ/86VeTOZ5KXQ0wueXaiSGSaMI5XvJQVWV5nrxVgAAAAKQGf+HRCfwAAJ8KTS5/Wkul3Vr6FRAPYaWu7QJm7ux7d69He7BJ8ekHcAAAAJAGf+mpCfwAAJ9mEs9xMQXbgO4dGB3vdxa0nEyNsa9bO8Gu6YQAAAFFBm/9JqEFsmUwIb//+jLAAAE4CBSk5192rE+EXfh96hCB0AKeV+/Deo2p+fF/46SveISB3sDyoNErWW08r7KwXgO7fsre+80KAkub8B1qnP+IAAAAxQZ4dRRUsK/8AABkga7lJ52WLXmUJVJyNaYGTIAcjUOx6p4x1J/yH+5oLBfZI6lngWQAAACIBnjx0Qn8AACfeX2iyOl09ShicKWnWyMOD2AIjjQIXUA9xAAAAJgGePmpCfwAAJ9mEs9xJbOjUy/OuEsPz2C5boVPlghkFmVqeYhBAAAAAj0GaI0moQWyZTAhv//6MsAAATgIIkYB8+5EEZgCRrr2frmnMiYAq24DO6ws1UaywxDElvh4LlL836X0IqLElkLiQm0nqkJqHA6pUef/TLQCJutWDTWgMCMpwv2gApFTIpvUJc3qhkFc7CugRxB+/sVRHxQDH3AAT1VeA/+RB7KxXcw/tusWazUx7kF91RGNJAAAAJ0GeQUUVLCv/AAAZIGuxxWDgL+XQ0LZoGZVANc2Un6JKKIFj5vSgsAAAACcBnmB0Qn8AACfCk02EKcvGTaakkK04DpKh5gJsm4SgiW3X/GMAKYEAAAAdAZ5iakJ/AAAnyYBw3KDXFx6Zabi6EAH71BXsWUEAAABsQZpnSahBbJlMCG///oywAABOem89w2Vg9ln6eTEcVOFlN52otgBMHG7rF64YPokUNp7ryw8g6013TUwadEz7yDx8gVjAEAtf/5moXWrdlGGYrR7LqLGfg0nqE/pBGZynQPrW6rA+KYCE/DKiAAAALUGehUUVLCv/AAAZInc/XlsbBqW9QKCANHGINy2C/XcJHBAUDjZA3wF2cFI+EAAAACsBnqR0Qn8AACe6t2OSTxHBbFaYH3ODmMpE8eXpwqCftHMo7YAFXSOTn9NlAAAAJAGepmpCfwAAJr8azgN5XzyH4j/JOpznpnf/y0SpciFER7aTdwAAAJRBmqtJqEFsmUwIb//+jLAAAEwCBfCehvL4DawVb689GBG8FzBdgjE2hkKRX1UIWxx3Laiv4URDcKihJO2Hl/+hg1tPuaN1j+upUKnTSbD+flnRWCgd1v7YnHdnLBC99Qw6GL6xa2khj+Y9QK6j9crs/Xw5udhYvz1AL33tj47xvKd9apOkPFMQ3BA19zGBv59MMzKhAAAAMUGeyUUVLCv/AAAYgGwDnj7NGk02Vdda20s0+lhLsKfwNwSukJWV+Wmjyk2RIJtCH7gAAAAhAZ7odEJ/AAAmwz4ICKg8+m8wUwVTlgIR2evf8+fYWlE3AAAAKwGe6mpCfwAAJr8EJxgiRbSwWr2eRmGlh7MkdYyjWwXGrLepaRludKO1t8MAAAA5QZrvSahBbJlMCG///oywAABMAgV5PQJOqwbz3OwzteL7Bfir11oDzxIm7DtNACt74+xtPx+pquK5AAAAKUGfDUUVLCv/AAAYgKZAeOdkT45Ula7p5c11oppOsydsWZp5Ay3N8DlBAAAAIQGfLHRCfwAAJsMXaLA4Df7z8e8k4dFPLSApfYgpxQZDuAAAACcBny5qQn8AACa/BCcLuTVoSIwOZg3JZ9/egvB0Mf1VpzI1H9xxocoAAABUQZszSahBbJlMCG///oywAABMALwkQDUJZS1KfrHLGtNv8Um6VNg/jOoD+iKZ1v7gj4V++olIqBqhuvBIgBYgTu3i0NpOwsRzoP9OjbHbsLJUlTyFAAAALUGfUUUVLCv/AAAYgGu1BRZH7XTilMfQTU33vEAAuonB2GpMewaij1Rl67AS1QAAACABn3B0Qn8AACar+Ft4Ep1oLXH8vaEmYn/jpWkilogdwAAAACABn3JqQn8AACaxzA91t3BhJ1LLvPMXRhjdHuQxeBPLgQAAAH1Bm3dJqEFsmUwIb//+jLAAAEwCBXk9B5OnOuL+ACWNgEi7imca2LNv+h+y66zxvlrMAlbQygJ2FgVb7lWjERzTjUe89Yt44jJ2sRMnnJ+ExJ1r1MstTuePJUFKvBNFxPZq5wlDItomtvrD5zH29Z0PzpSXoJOHi0Vz3kP9dQAAACtBn5VFFSwr/wAAGIBrtQW5GeOhiHTxfQntI11NKGDNsRNKdt5J2S0rLwTBAAAAHAGftHRCfwAAJqv4W3gSnWgjiBGeuRoD3QvzKyoAAAApAZ+2akJ/AAAmscwJb+cp06IRycO2vdgr8loOVisfVYucBzz6hmDuoEAAAABWQZu5SahBbJlMFEw3//6MsAAATAL2WOPR1rASzoAQAXjLf2qKNzIKVT+wgu1iwQhZbMzIG1Ndimr2DYcQrCkgNY9RfvZuqb36QwdfWyh1vkO4wOMIRy0AAAAnAZ/YakJ/AAAmscwJbz+1CxUEWDdiBVnD1onB2Wg3t/SuYkIRamDAAAAASUGb20nhClJlMFLDf/6MsAAATBDBZgaPIAD2ZEjMGqucNFrJmm2V3hW/D97Q/OTcDwwfesSQj0/kpmjskqRpLs75XxqdeVhCDZYAAAAlAZ/6akJ/AAAmvwQnEs8GA1+U8RL3JAA4PT/tDhN2g9yG2W92VQAAAHRBm/9J4Q6JlMCG//6MsAAATAIFKTnX3awC0NNRIAdjjCPg55yvhdGyTpY8nF3ZW2Uyr/LJwXYkOnygKo4Cw1FSzHhsy1zOP6eWOYnQb3hcNDxJvsfDW9jwLZzbgXE01l8TFN67u6A8ZCZrdjxtdk6gVrIrRQAAACNBnh1FFTwr/wAAGIBrtQW5HC/l0Nexku5Rb0fmZJP/p8yoEQAAACEBnjx0Qn8AACbDF2ipyNaoONkwxIqjKt8NbtpndQdN7PkAAAAoAZ4+akJ/AAAmvwQm+ogALGhuAlnh0dkRFdJd/scxgY4iIGALk4y5nwAAAOBBmiNJqEFomUwIb//+jLAAAEwC9gtLUfUicwv8X1ACwrTecZiz1SjWBzV9vvclsFBarYWuY0hQ6h3hQir3xsTQ1UqjpVt/SlK7vF80qqfq1rJJMz4OgvUlLPMtFnbccfSzM3wcUGqZzfC6baXSwt6BlRIuvTq8D4I1jDHqjrwwCmCo+SXPtN0/CoYbt9PuezB3qbmSzyL6J1eTzKSAIQdGEQEIC57rzfIFtmohQQ7fD4Wq+e9UB1lqXdbk/urwoXh+vh4wENINyUDOXBk3/y7WIjK9aEOt3qOW7lHS7kJ+FQAAADtBnkFFESwr/wAAGImDzRymlbC0wXLQcOcJufbLws4pdf80OzVdzvfMAC5VPpvRKy23kN+lqRRJgeeW0AAAACwBnmB0Qn8AAAWI9Y5lqMImBoMe9ZYKjI/cu7ogW9gjcoUjvlcMEYEt0rGQpwAAADABnmJqQn8AACaxy+jCLhwsVlKx+7tujaboraQ9ooBE01lTnDUZgCym328ykp8Z0tsAAACYQZpmSahBbJlMCG///oywAABMeN/gaf3t8AYnZhOalalN5dfQJlIcyFc46lZM6mrZFXLmjzoOy5YVsA/vyILLMpK7/EPGPXJFleyTuSwRLAebqkR1Gd/4IYuosttWxyCf28uNYvGE9Bl8hMIZ5V5C0lbKaLwoUe0CpDn3K9x0C5z21cyQmeR6I94vYDCgO3zF22U3hbk6tcAAAAAqQZ6ERRUsK/8AABiJg80cppWKNPQzmnh7Lf+TvO3Z3qBEXgGZIGFuk9IDAAAAKQGepWpCfwAAJrHMCdI+WFRgb+3M2kaRbaHpDUcpiCurQHDBQmHx3JnxAAAAjUGaqkmoQWyZTAhv//6MsAAAG8kzHoCAFcyJvGpuQCqpQ/t0PIXujyi6JvZLqUTV6btxMZOWlaae+piuw/TGzjC3glKHcNW/g+QUiHxj/6T5FAUa7mLQC20+NgCb6EK3Gu6SPFnd5/FoILktjGB8IJnW/XLWcs9yW2Sj6QHAv2fwA+W75zic0pGEf7uQ3QAAADdBnshFFSwr/wAAAwNhYPD+f7CZz2iFl4bAH9ZXMKyH2GOTOz5o9O1fbv8490ZpXPVHi0LXuSWfAAAAHQGe53RCfwAABWfR4RHFY871MiF5j8o/BqvNQvBAAAAAHwGe6WpCfwAABWcwl61X0MpCQrq53mvSbZwNe/5g6k0AAAByQZruSahBbJlMCG///oywAABMfiqA2P44oITn0/E78Jpvq7IoiPFVCxMdvWKJa//Db5PlwYX/iJiLwzm3CqYKfPzJkO+FUd93692DgjtqKqtn/iSTQgFaCo7W+a/xKhfTKzrcBhP9yxhsEE/amnV1TQoZAAAALUGfDEUVLCv/AAAYgms3az5lJzc5BEG4kXvG56OPUlFsjsIiNQxopvnX29pJOQAAACIBnyt0Qn8AACar+Ft4ErsbQ/IV4NcQgAAmb0W650Lha3FxAAAAJQGfLWpCfwAABYs9TiJ5C6uCHLR2vnZcRATRdhrzuynX8YnOrPgAAABpQZsySahBbJlMCG///oywAABKFF1YekV2EVSgzUjzJlLEXc4/itXcYqla6d42tOwna++L1t9kgBebrz0K33rjez1Ac7QYDi5FQIZF2GUex54TqNOnuB1PjOU1hDy0ajtWank6FOm3t07AAAAAI0GfUEUVLCv/AAAX4phXMcsuxXyUVMOLPU8cYAz0t16dfaetAAAAHgGfb3RCfwAAJaw5B24arEdI35hivQfimurxYpeufAAAABMBn3FqQn8AAAWLNSPIVcjQ1HqXAAAAXUGbdkmoQWyZTAhv//6MsAAAG8lB+Jx0QUlbVJGUR6cIR1/H2GdvuWZQd3q02wAk3VojdGSt77oPjzSrTjSCF90RDuzBBW+qTada69WKVMHid9jv/+vMcj61cnovgQAAACdBn5RFFSwr/wAACOwMuFAgqpU9KIjHA/Eg4ElgXFnb8ed2sjC1itkAAAAdAZ+zdEJ/AAAOJFPCdAxndNWZ4VuvlxDjZkIHkL0AAAAaAZ+1akJ/AAAFizUjyFXHixKZQMgM1tnxacAAAADEQZu4SahBbJlMFEw3//6MsAAASn4nWt8/zoJmBnAKPAPll3KTnYWBB+GsXWBrE8mv2LvhPzHNBlv2Jnux6GMGPv4WRpkdW5FcPqkP1uQVhORXCoujiMqtI2tcf70Ml6+GsYswERZ7dV0VDd6/sj3eTlOBUuQhxqo/hVUNM3fXSyOFYyBxHbwXOzBcj/llZIA45AN3dfwiDSpEMLg47SzugKeAzRL9XJlTLK7GVKk0iH0/IUtJR9EcydUz4nzGNplV3nvDgAAAADcBn9dqQn8AACWeFbanXLRd8QvkaZ6m/2C1527Q3HMZ6CMw31s6SrRcj03u21v1uIncLTZXeFpBAAAAiEGb3EnhClJlMCG//oywAAAah1QQDG3GKu3O/9+PYRffAGib8aQeSHXTgaVyDB0zWZuK+/h9cYkjNHibHGWUdpajsKFR55tmmB90AlphHu7KZDFPUKxNqPw0pwAHfygKfgrRrc8R5FzkyIxxOaRL3jyChvxrO/YCpOoeWH4+4N01njP6ophefIAAAAAxQZ/6RTRMK/8AAAgvKGuZlD49EPymRvgBab/fJFFGn/BCJ/Y+xgISxSdMTyJ0G6RTBAAAAC8Bnhl0Qn8AAAMB5SvEZAx9o+OWWwxQbiy13UfmwANGVHMsbEuJ61XEOFoEqIJlQQAAACUBnhtqQn8AAAUfNNVOZgxogyFJWjm95Y6v5+SezYhPju/a2XGzAAAAo0GaAEmoQWiZTAhv//6MsAAARiXBNTpgEeOaBv84BSRbz9s+tHwe99CnoTzg9Gi9Q1qcIZvSJzVz/fDXmuOvdg4Akq667o+Fwg0nWaAaAkXa8unTx1D2rh/3HMKIQOfDd1gvzOtxQrFm0QA1b2jdUtnsl3nx6oNItsxv1xXAFSUbas+uDlR70ffzSsnFwm4N7Ct0zBM5lFxloAMsIICUF02/8BkAAAA/QZ4+RREsK/8AABa8Q823F7+IO+E9cuowgihrVt352uUTDeO35NcFyY6jimXxcDIAEAgE8DCwCHtP96LdZdeDAAAAGwGeXXRCfwAABR/L7RfpbtBFMbD9C07I4JRz4AAAACABnl9qQn8AACO/BCcLSOrzGHS80/t55YxW/CE30IPdkwAAAJ5BmkRJqEFsmUwIb//+jLAAABqSlybcAATpJQDgF/VuBUrt/UwZ/Fwac36zqiIav1KDthA1r2rNDxbrMqlhlpOelXKPusAn7IuYr0i8GC7wbVSj5U1iPCFYBDpPINFstTIwT4vtQQNjpcOgfBng5sC7AMmkfYhCcbuDg56beALcDoPUWirSMT6j30002u9lFz8+2Aui/K/1XT5Fq8oSkAAAAC9BnmJFFSwr/wAACC/f1ncUc/+7RYFcaPVCB492TMNq3e1L0gHc32worFmuOOl9swAAAB8BnoF0Qn8AAA3V3RPvDcD47nXPnU1IYyhnktJCCEgJAAAAGwGeg2pCfwAADdeQZ23kJkShFMpot0YqpkxQQAAAAJ9BmohJqEFsmUwIb//+jLAAAEYlwXPhUd/IyA1XkMIiBTAOgzKYDlyl2miQxan9/J6NXoIGyyJzv8HUoVivgYQhcK8Kb0rUbPpuQE76Jab5aeFL8UlFrVqSMMW+DCtEJXANEhyq8ptv/ypN8UYvrX48VSsCalyHjfeLNgiCmFga4Ip0OOzFxdS8EJ+G26BONXENcPKUww/EDD7Rtp96esAAAAAiQZ6mRRUsK/8AABa1K0dsQhU8Bxj65c6i8+lwC+OT0P0VgQAAACIBnsV0Qn8AACPDF3q3dmnofHGyDIqBGWZSewYTq2eeuttwAAAAOwGex2pCfwAAI5paZTQNre+X5YePCs8wPs5Fdqir2kIhv/0+oboEREcLON+6AB+FbuRrlM8oKgRNag9JAAAAZkGazEmoQWyZTAhv//6MsAAARgLT3gDPgINgg+rIpiJGQ/Ckzd0rZ/IA8yV9RzigzCSNB2ExxyaG5jA+5XPOcvSaKUOePlPhUQx4Y8Z1u1QgqkyoevgeSTNwfpUkwQ8iD30QP3LtNgAAACVBnupFFSwr/wAAFrxDzbbemF/5ojUJqWb4EEVI2soZYqK7PqKxAAAAGgGfCXRCfwAAI5/6ZTjsdRfK3CSXXt8Wc2Y3AAAAJgGfC2pCfwAAI56E9RzBHlq0vXUe5OdAIFyDPo+iDtYkT1XRMep9AAAASkGbEEmoQWyZTAhv//6MsAAARjEsc8Rq5QURR7t0PeWaPdIrsk1A270ijFHHsuWLAwUffkHFqAHHcPWgfKf6SfJl6rxcVoK+Pc2ZAAAAKEGfLkUVLCv/AAAWs0iL80rQeaJNT2M108dmq3epRJEUAMYO4pI5GCsAAAAfAZ9NdEJ/AAAjrD5mWCMRehtIdphQO6M8vUvB118oIAAAACkBn09qQn8AACOyLHtkzm4+bP4pfnbWaaesgVO3UjemRZRkbWtvISJnwQAAAGVBm1RJqEFsmUwIb//+jLAAAEgUind3EBX36LztLHLGG5EBzTiPaQnKokYy3OKfzfqs2tdD7TkSiz8/QS1lBo3V3Jpq7mSzoCvNo3Gs9aGyQlYiNtq6EZJp1h5MZmLkYbNgmdGzYAAAAC9Bn3JFFSwr/wAAF0w9LnM5bgcxUB2fYNTbkr3GgABxg5IvJM4UI9Q6iQVBF2UE2AAAABwBn5F0Qn8AACOsOQWr9JJK0UGPD/qeyoDo/svRAAAAKQGfk2pCfwAAJL8EK4bY2rnOhovZxugDtX/CGyIoZ+amkR8EJaF3AJyRAAAAakGbl0moQWyZTAhv//6MsAAASFZVurvUnpLsbtx7sAHMQNahSF260ibUztAAOK2XQSoWIQwSSWUWNUo5Wh6RQ4wx2xn+4ITL5ylfOblGiIlVW7hRvqymo8u2Y3E1+7/chYKdpQgJ1Gm44OEAAAAoQZ+1RRUsK/8AABdMQ80eJtawtMHG7ocNqaNm0Bo9SezPL0Mmq/YJsAAAACsBn9ZqQn8AACSxzAmLkvqG0TiXcredt5gLRAFFAo+bAag0fmUDpCW6lwlQAAAAVkGb2EmoQWyZTAhv//6MsAAASALqT1HzYlMlg+jMnEYyOgp9urYYoiXYkrtTDwjbiLzEn4oGHV/aRfGYKl+Pfj+nZhRntKsGBZTvX3YlQSXhxQfU3vYtAAAAiUGb/EnhClJlMCG//oywAABIEI8sQZ/39LGGtV2zH8eaBd7yXGweKmUU+r9ZsmVr6TT+9hHREBifNe5ca7cOs5eU3BiQUkPXkTyIPTNfHIZu5D2tQztO6hSDWVkxOygJn83RQe+w7eVfnteQQHTApSZ7NE1+S66Y4XN28bHjprvSI3DrUganm4a6AAAANkGeGkU0TCv/AAAXS1tN9RS87HDdRQiMwztpkRZWUDJBNBi+1UqcFyerLTHPfHmpOzxkILrZgAAAACsBnjl0Qn8AACTAmd3oLzbf0SQsv0X6PjaMePQT95NG8Hi6P+tYe4ax2iWzAAAAJwGeO2pCfwAAJL8EJ1YmHUPO709fiJlbwI2LR8Ki/DDRwiXGVEgbFQAAAJxBmiBJqEFomUwIb//+jLAAAEgpHU/xwCYbZXVh5qfIOHycuxSau4CptJ3HA2kB78d24sO2pCKnSEuHrbmY4+Am8nkIr/0/wQNvOqFmpe4gEjrxbP0PBodJbhb2PZe77kngtTRZHPQEPrFjwozR9U+oOUJeO7mBVFlWmmWfnTKyjeXv0PeauRyBugFOJY8vwtBFkQiSVmK6TvC1nf0AAAAzQZ5eRREsK/8AABdCq+i0PNPBi+bCnDVcDy5uvUvtVM6RRoJ8WTShPoaPfBxgPAOWNdmBAAAALQGefXRCfwAAJMMR5wDWH7A2RKpCLxbyko6GYPI6PECive10wdgmo71WwZq+2AAAACMBnn9qQn8AACSuXjOBeUOzzbZAZScgzxcMTfMHGo+JQlwQGQAAAI5BmmRJqEFsmUwIb//+jLAAAEgA7ncQBygAkM9DzugLVxmt3bwDrGV2icEg9mpN//Pcy6WPalYxdeOKjgfR63UGr1YlEys4WKEbv3kwPzlEXtb7CDSzFo3jYRIb02gN3hl3IMDoPf5P9SCWBfQLyNlKmNfaVgj2qObo0BJ1YaESvO/8LQ9ZGh6fDp6O8RfgAAAAJkGegkUVLCv/AAAXQqvotDzTwQl7tU051QENb8gBy0ExWKv3taabAAAAIwGeoXRCfwAAJKv4XsmWYkh96c2a5Bg6LF7TV/ORFUNvtTlRAAAAKgGeo2pCfwAAJHpG6V9glpEYuJJjploCSdAgt/Eto0WPxAAJm6CwnTdqQAAAAIVBmqhJqEFsmUwIb//+jLAAAEgBPRQnjDjs2dx4kfZSNQAa0eUKBzIeCLiNbdd9EOpGtny52SjzcEXVlUbFn9BpAAS8AXUw8CUhppLOL+gIJkb1rwzRaeg0+gse80mki/MvVy9cy1R7y/3/xbt/l/Nmbgr1k43Gto6ud6tuhJFUCKoqPNWPAAAANEGexkUVLCv/AAAXQqwvV+XFAAN0W9MsrJBxxsKehGv4eo8qi+XLM0f0hBYTtqklJV+ZPBEAAAAoAZ7ldEJ/AAAkwJkyaTWjWAcKuqHeo2Ehva7zleE0j1KNxsz3Skm1IAAAAD0BnudqQn8AACSuX/tfbFszfQy+WcCgdHtCCUNNBFsfp+jezo2MzONU1omjRU5cxPdPqGvEuOGYEgMlG2WvAAAAskGa60moQWyZTAhv//6MsAAASgECo0gN+meJ2SybbXTuajQ90jCIawoRPijKPZFm89mcvI6KzHtf+Zq/aLWMXEUasYC6qreo/gnvietWETn3vNNdBOrRbpng/qfIQIuXvFoIN2I7r+xaE1KXMVzQzv0nkUz2eVkxAvjMUg7WyfK10a+6RiwJvBGvId/TlNbyCl1Hlup9UrAYddq1tn5SSLbYWJYcNjgxpGjxOf4Inwz2AX0AAAAyQZ8JRRUsK/8AABfpfMNf+T4fnKkyY8nq/dfjOGdjBTIhXmiOYX6SI8YyM943TcyK1qUAAAA9AZ8qakJ/AAAlvYMuzuQxjPjQSJqp9F127pXBX058dSVZcs7FN0PE2Fk/+OnTNjCx5tooDRqgrbpHQY/sLQAAAJlBmy9JqEFsmUwIb//+jLAAAEpn9KjUn9VBAJfpQUmGBRvvHOikmaRmlX5T4v5DD8oLYcetT75Mj7tIQ8LBQwAE304KJKeyYMjp25lgKkXEH1xw9cMzUbM3WUIlH0srTUwTF2RcLyvq/+C3CqCC0m1aB2nj+nT8ESkd6JS0UUBj1ljvJkBF/v8247FM8+a6HyB0+xOvR59bo4EAAAA2QZ9NRRUsK/8AABff7B6jLQykItCbCp1WhSxl0ZGNKSAABb4G+u5JPnfs9mRABuqRh9/DKzbhAAAAKgGfbHRCfwAAJav4W4klXIsIrDrspEXok6KUN+MoCuNtrqDH9dguHifz4AAAACoBn25qQn8AACWxzAlvok8rfNMUQaKCPbmxM112oQg9MI5nryxNemxSbcAAAACDQZtzSahBbJlMCG///oywAABKVhLOVdjEuJtTsl0C1E4wbMHhu2ZtsbsNmtO+41gp7Mhwv/AetsZsZssO7+7twUAVqmvV/fC7ReBzsIVG3DLKtzODtAYTbWbuycOXJ/mKsfL9wm419JphVkSRKm/delH3yIkRck6oHCHjJzHHDbGl9YsAAAA3QZ+RRRUsK/8AABff6+i0O1gQgpHpvtbSpaoywHN6c1Jo/solAZQPklGt2OzVtPKZkItaN9H23AAAACgBn7B0Qn8AACWp6ccTUO6qHYV40eSzn2fFMlN3JdTOUShyfdhA0LPgAAAAKAGfsmpCfwAAJa5eM4F0YgYs7xU8DEcG6qgLbz4x0IydPcLKPLy+X1kAAACsQZu3SahBbJlMCG///oywAABKAWRFCZdLrK/0kAJe+YPpWmzkDFNjamXM+yzoQTuVOPucR9E3cqmkjYMur5b8RGzco7HvgjKiDhN3L6hFZOElTmEYP8V2eA9JJ1Ms/eebMLYcFWi2ReYqGWFTj96Se4+Dp632xtEAgnwy2FPPUmRyt8kYwjjBEVExz9PqL2WT2DIhc5wKtdeZWE1L5vD+wiPVa27iaLguaq1zbQAAADNBn9VFFSwr/wAAF9/sL1Om6pHF2mF0f8vPcDB3Cl47HuMUcI+/mdUrLLDZu/NtIv3A20EAAAAvAZ/0dEJ/AAAlqGPYEt0eRLIYiliQr3WDyPekJGd/UiBY51SsWtAhwI7y+fS1iZ8AAAApAZ/2akJ/AAAlvYP+ymKo1qAh47VpTekphuoRvKxw5mIE+0HJcPTCWZ8AAABRQZv7SahBbJlMCG///oywAABMAT6XwCEul0NiaGm7h9p3bXwj3zLsvfwDHffZC1oSDWUL7uUEi1deY2HjylErMUoqEktl4FjGmubJQ8br6tyBAAAAKEGeGUUVLCv/AAAYfzd/GgeOq1Ghe850zQJVDWdw5EJ/9mgvtaEXWAgAAAAnAZ44dEJ/AAAmwxHm6TGG9yKvLxcGI8dK5xd7o/PQsCYv9X0wrlgIAAAAIQGeOmpCfwAAJr2EA/vt+a01PsQSaNMTSBSXuHgOnQozXwAAAFdBmj9JqEFsmUwIb//+jLAAAEwQnMsQZ4eQtfW98AlFnzwBkdkwow6LZUNEhBb1kjNDUfJDpHOf2cHSVx2mcVmZld7OXN0TjZ4KaQJNe5QcLND/J+PbZogAAAAjQZ5dRRUsK/8AABh/6+i0PNPBi+bCp67pvSaUgTN05sGVQIEAAAAoAZ58dEJ/AAAmwJnd6VsMK6KX8oASymuakPWeZPn71rGGj8dJiObCSQAAAEABnn5qQn8AACauX+7oC/6jNHctTV5qssOqDVuC2SpjBIASlh0eRDBLgzjdJ32hQOVXt0dEBi7IR4Kd9XTIb22fAAAAr0GaY0moQWyZTAhv//6MsAAATCSRecU1/KUyIABuwHBCspXkk0rruysNtYfBF39Qlk7JZYrUEAFc8n3ZY3F1XO/IFxHU3wHQ53vQ7hX4J9Hw8HGmcyk7/aXaytbhwEykmqPHhMiOFamHp9Lyos4g5O3TcGm8dSLi6paNF86bVYu9DHlnygb+luNGOGGUj8Vi9/SKR8J9/CS6AI7N55iYB9tOPHHPyhpbyu/ZTgJAZuEAAAA9QZ6BRRUsK/8AABh/6+i0PNMwkxMpxSqd72yqaEX1ADUlzM0wMMiJyrbL7gxgVTDpK0uEklwJ2eOgTSMQ8AAAAC0BnqB0Qn8AACbAmRm7WyLRx9J0xAVfPKuWgoW4X139lvL8MSljCDAhngT8eysAAAAzAZ6iakJ/AAAmvwQk3+Wv82O3VdKCrxzWodioAZrQVkUckjSWS9Mrozxvh54uyaXwfb8rAAAAq0Gap0moQWyZTAhv//6MsAAATCRESKYvLqetUHgroVPtXD+PrnuBn14Yurg1HRkQAs52rt73kGLJE/Vm4Yl5h+WF2t+TVZgY8o8lw69cc1eZb5ll99F35aoEL8PPsFOgDoIFFdyjzcAvVkPh4mK71L6xmrC/2jbopIs2DyETO1xyILgvxVymUFvSIQnwy1TP4W+WUqyvlUsRFimYWu5bqdgp6jfR9h13PhN8wAAAADZBnsVFFSwr/wAAGH/sRXHTqW3UPDdkxFC18Il3nelJfbOlY43sLeLQm81rGYhT//w+kXzjTKgAAAAqAZ7kdEJ/AAAmwxdQsOT5oegrpY2ifWKvW1QB2wltlTSiDA2PPgg8fk+BAAAAKAGe5mpCfwAAJq5eaR4MBhynNnBFxNXgWOeMM7hKPVct3g7Mwz+giJ8AAACGQZrrSahBbJlMCG///oywAABOAT5gwCjv8yn1kFJkTBtExYeaWCP4HIPMxUK54GfrpzitVWE+W9ECbh+jBKiYX4ICwMGf9rsQPEmA83kZ03QVcZILAi9hJHgrPeyB0jwi3T8xkv02LgzojxsJK8aynUAdqedLXEebyTkaOihHyJ/jG6WdoVEAAAAkQZ8JRRUsK/8AABkpfMNdoyqYPM/mrrLIpFxp42MrsSsapincAAAAKQGfKHRCfwAAJsCazEVmIy756Lgtyw9du5xRXPTC2MurLJGakZS9R5hBAAAAIAGfKmpCfwAAJ9eohZN+bMIBH1aBI0FibRttXbj0zjrBAAAAqEGbL0moQWyZTAhv//6MsAAATgDtz4BeW5hV4rv8WChxamjFG/oMNY3gTsOzEMV/W9jIYwFMr3RcwAddVBz9VcgIs3FwKV263DGGnHpokLpebP6ApFtoMyVLfLG47XfLlN8MmW5g8sW5cLdAKxWjOGMSYmi+VqIx+nupPr1qXLBWM/hLITSe82mDS+UaEXWYSrYajvFPabj7y5qf00iDjoa59ro2r5MpgQAAACxBn01FFSwr/wAAGSCHtw37qDyov0uk8jNVDe2YOPnFAN8YAbrB/zr9gGFXdQAAACMBn2x0Qn8AACfAWDUAdQSPb9dz6mHa+mlmNkTehkBbEvikgAAAACcBn25qQn8AACfZhLQvQhhzAFTIL0wABh8T1UfSASNndWr2GdU/p0wAAADbQZtzSahBbJlMCG///oywAABOKSAtcBrGEUAhHg/18a4H0oPuTYq8kneKYART+0botqPno3kt+9Tm79P6+YIMVRYNs02dYoLCueZeP3IPKSf+KFxRBfyIzFObZFL3zERu8Dul+MDZvWNUDa+OE23vq3HuO31SbbNXFzacVpcrJChuaMPhDyDj3vgD168p17BAvZVmKq2M5RE2KAIvhQzFWC88KCbbUsuPPKSBU8yqTV5S9kRHQGpMwV2dl3jWjvHaWRUuH0ABtbb0eZvXOdOjTH0Ms/+NXFO0pyJNAAAAPkGfkUUVLCv/AAAZIIe8OabNqREzQAj5u41j0SYvhjLh+T1HbifbZiZmJAN//BEz6CpdgA3rAMiJ6tFYhB1gAAAAOQGfsHRCfwAAJ8BYNQCOkGxusm8SscBa8QirLJiGQT+kJ/ltahs7QMo7dVXu819kWANke3zuBazO4AAAACYBn7JqQn8AACfZhLHfzBcdookxhwOJHuzLP1SaGIwkE1nPPI5doQAAAKtBm7VJqEFsmUwUTDf//oywAABOVlR+C7xgEzfYfl09OTN16feX8EdJIuT9/14A/zN8NP7MdVq1ZunF4ttOawTs94XmFr1LNzUMbgV772Kzjjfxx4vT8mmyuI8tEbYKVkriPlmpkaXz9iiQuxR05CVHOhNrKcyPXm7nwEs18dyQBopjPr6dfwws2JToMFuD7fmaRVzI9fsTM0eoAK2ZEIIL9vGI7wDC5Wi3yFkAAAAsAZ/UakJ/AAAnyYB5TMzunQrZURJVHsyh5J2mzA7Y1LvYu7TvY8YxsKp327cAAAD3QZvZSeEKUmUwIb/+jLAAAE4lDOaTzCAQiEPx2W7uoY/pMAJxx32OkNGVLFEF/mpVIduNeLapHu2G6QMUeYi7o+qAzgBLIeSy4gzyq+4ZeMpeT69qTXbxjx/2WNgMoIQveSJ+Mfz281Lqk7mE5HI3T9DE5iJrM0OGsELxT4zfvDV1tp4xkR3OK1bxoXkUhfMy6r10dAfZD0JqCoMBwEsRoidIUn08yaZRTp2GOuyq26jhFy+ut5tkcHg1kXKd8064M4MJaczoW+DeM4OsLTGSjrdNNZY+Nr6aEO8tGE4r9qAyeKcAoZO6Lm9jiGgdxxUXW6RFfZZtigAAAERBn/dFNEwr/wAAGSCHtw3kMZkM57pvUvgGGZp3cXPP21N+OR6mIu0i/jNQOeuG4Dz1XwIXJFm26LZo2XLrE0eTv0VYlwAAACoBnhZ0Qn8AACfbVyYoVsmxIX+my3uEWnF3czjx3B5gW94yW1vQQQfBiXEAAAAqAZ4YakJ/AAAmvx9gQxAGZa5KGOsHkIglxLar7J3G1poxBnCtTHqhdywIAAAC7mWIhAAQ//73Tr8Cm0WXagOSVwr2yqQmWblSawHypgAAAwAAAwAAAwLa9HiTO+TU8TYAAAMBBwAoYVMRISAUsbwqBNXH+YY1KlgGw2ZelYYDK+wAjzae+0wJ0aOYLOtbQcyRYGBFon5N4dwHIc/l3uGXrbHmCX4hd9WMmNioKNcUGPF9cH7MiOplh9jd338pez9NrIBzSLWqmOpVmKSTblCjg23Vgj0Q9zKWFuvoL9RE4yazfzfZL7CcvJP+gplbmgm3+UoqiUoq8PYWHfOnubRdPdLxWsGXzCUfmgpqj6IYP2pHJJZJvcfQLpFlCRlsW6V/WK5cp5ZE3pQ9Knr1kG6MVB5flJEJ67+9g13urCVSRJ2+ZybYHtMsilK/Lg5EybTjr14j3CBWMee58z/8b7W7U2zGLcdiCHb9pa/L2t2ZuFJtSDe7u7oBj+UpbBXEs1oTZ16w+L6I74caoTdrPgcQoJOknyulsMe+t1C9fCLlOQuToYCYVCwLEPqdiL10+KMyQkfIHMy1qM5FZx/3+eoXY+WpPGgdIEWsr5YxjC4Mypc3JPbiUMCh0xbFeY6kMtvZrQ153UwXuyjuzn8JC4BgqifsXVIOhAEfLpImXAjcgnvnhNZLwGoSOHTekEOINBI9oZm+7Iv67PVMQ73upBffpyz4NGIPECBAj/bDSIY/vNNpL1zeIaftsDI/U1Lq/vxZcTBxNbH47hy45izTLTBqaUyAzqQNfCTFDfNExr0+clszXu+4bX4/EEC1d3oOR7jwsZWJ6bg5Yob7d5KKmHftqXH+WfpBosuWPTR2xyoCQ5hgazQcjb1kiup1krOb1zCfAjLINZ4J5Lm7AldusikUmsVnA7Si/1gdUdRrBHAPXHBOVQCpgV+Q3C/WPGr6t5odv5nnMARJSV0iGnDUZvCzLQB0ZXNfCHAgri1WBBW27bx2hP4jppEzbr9qbnAfF6EVwMFdEHGM9jso7lUjrJ8JwNePnAAAAwAAAwA2YAAAAHBBmiRsQ3/+jLAAAE4IpOCZdT2wwF1fzkMcfraPcYIjxl7nMUNES09hmFPKWuFXxMSEgFGlOW6URH7K8SHpE1dV1Fv1i+hlaU9o1lB3faEE3WpyH6qZ1JiHksG7xhVylD7HZlwlJCTb2N8hxRTNfsxBAAAAIEGeQniE/wAAJ8VV4fS8RjUEkcZsxwc4p8PVDtvsRUz4AAAAIQGeYXRCfwAAJ8Ld2irTAbsT5gdu9MnsDsGGUDYrWCnHgQAAACEBnmNqQn8AACfJ9tj2OR2ABwi88Yo8Q5iSEcDV3buvYEEAAABTQZpoSahBaJlMCG///oywAABQKt3/K9HadcuyP+ufqk7IW4fDWgAHRqp89gdPulIdYb/B3dsWDq+YbGW5ql5HE/AiCyTi2eUOoTB34b+iwJD4y/QAAAAkQZ6GRREsK/8AABnJgxabdDXCI6DQuovKkhnshaFkMJPAoxwhAAAAIgGepXRCfwAAJ8LnCdASMSUKEGuQ5BnXOu7BfXYGo37pE48AAAAwAZ6nakJ/AAAo+YS0LO5H43j6XF9ceoJqXMAsopD7vlwO6FiS1/ShuEo9WhWHsdgRAAAASEGarEmoQWyZTAhv//6MsAAAUD0dEeAiAatWjZMYaiuqGFkFCSmAVN0bcB7wydotPGm6mLnU3eWq1wZwFG/izYVZmusENFXu4QAAAB9BnspFFSwr/wAAGcl9LmNb75Fhz6TSipKREvduT5HgAAAADgGe6XRCfwAAAwAAAwGpAAAAKQGe62pCfwAAKOmAduDQD9wWhBdyour2mVDhu642awK2wxUCuVUpz8qBAAAAMkGa8EmoQWyZTAhv//6MsAAAAwAW2vDwF008vifRCuU9tGKwKrrst3Z9zYLLlY0VDmvQAAAAGkGfDkUVLCv/AAADAAdAFXR4aWAdxYAilvgRAAAAFgGfLXRCfwAAAwALp7Q9gzo4iZjcFTYAAAAYAZ8vakJ/AAADAAupCJHoID4acda74VdJAAAAJUGbNEmoQWyZTAhv//6MsAAAAwAW4NNXXich7vD55rB4qnK5YeEAAAA0QZ9SRRUsK/8AAAMDn7XS6oXQxeK8J4MNnKGHUF5I0MRBuZh5Yn/u+aPG+jdZk3RP/L65QQAAABcBn3F0Qn8AAAXTy+0VNKp6n3hBMc2IuQAAABwBn3NqQn8AAAXRMA4blBri4+yIg+CnB56M4lsCAAAAZEGbeEmoQWyZTAhv//6MsAAAHdLMFEBAH85obbp/qyYAITbLZQ+2KrAW+xkcF0iQBbhkBpgCvRTMVZoHmnkTavrVvGP/R9uhZGEXU0WI27mRHUbppagH4dcXlQwzLBGfg+sSAfIAAAA0QZ+WRRUsK/8AAAmnivRq1Y04mjK1X5afqg61j4/zxLzqXsCN5hjf4iS1rfp1beFMKsKQcQAAABgBn7V0Qn8AAA81jYSlSidvgTeslO+UqoAAAAAbAZ+3akJ/AAAF0zCWe4ktM1cKz3oaHwCClTHCAAAATkGbvEmoQWyZTAhv//6MsAAAUCvySAiDOMAmlGSLd5PYpgOhu50oAJTvaLui5e+DnFBiyOnPo9c5pclUQzXX5KAadTZkUU42EeAPs776UQAAACxBn9pFFSwr/wAAGcl2FUuvs+VFiF3iciZL6bxLJ6MUYJAAJp3u9w9jcoGmvQAAABcBn/l0Qn8AACfeh7V336VH+K4xCGZ4EQAAACwBn/tqQn8AACjpvf8K+XRyywWoPnGGAziMPdZQOC0VUYk5Dj2G88MwmLFEXAAAAGZBm+BJqEFsmUwIb//+jLAAAFA9JRFmErsnJYYsghZ0UeDafNWU1HZRgWI2rrTuoeHjn8YABNXMtCiqXJ0qzpu1nqv3zYSjxNGWEwA6J7WBadk2o+2W56bgiXPZrqH+ga+RMRqIQYAAAAAwQZ4eRRUsK/8AABnCazeHqGtlBftJWLaXvFAol3/vxhNuImLppt9UD6P1Md6CTLwhAAAAIQGePXRCfwAAKP4mHFmo3Epq/njwTSh8YuD+j6YA+SQlgQAAABoBnj9qQn8AAAXRMA4blp38a1FzPilhkbyZ8AAAAIlBmiRJqEFsmUwIb//+jLAAAE4CBgCHxL6/psDs42nhIvHNcT7LD0j694Ju66WiGhjxjAC2pjYYmT1hxfYBFUSQlx4m4RGCI3IP+io2xAkltkPeBc2fAsdqe6/gWV5515PjEdmlimzv6nkRR6YkuMZp//c7/OcZohzLPRMpNsqUKHWsbBGXi6wKsQAAADFBnkJFFSwr/wAAGSBsrh0DjyB12urUFwGY419Q4bw+1WBDM6kIUz6x4uyqP9sLH27YAAAAIQGeYXRCfwAAJ96PB4hjzfyQ1ixRUp4igxheRXWQ6RlHCQAAADABnmNqQn8AACfZpAh0XAb8to/khFedfyORCF4Dvc2ou/m6+gE/NTUyl7s9ksZhu2EAAACoQZpoSahBbJlMCG///oywAABOAgW93g1rrwBttXrrIxsrgTUikANvVVALq1JHp9LlhaBzLh6JabCHx4VsF71tH1Hgi5GOdzR28OPcTHs2rXvG1apvtnPO7i9nfErk9RqWblND+z75stQfOwkHHrHSmVm6GccqcR5bkfHT0J3L//909uRgLAASTGHo5CJV8nCX4iFL62zx8cJUNvSVExGrJcQdn2bv5BeEAAAAOkGehkUVLCv/AAAZIGwDmCWPX/HJK+02T141gaxZc8RpasejiMEOq1L6RZn3ju3BIPw+Nsf3RRBtYsEAAAApAZ6ldEJ/AAAn3oNjSIt3a9iF6+1KRH4eMmePSU4aYUkKPqtRaHhv6NwAAAAtAZ6nakJ/AAAn2YSx21LNamtPtzOgJBlUQUpyNFYHJk5rZw4kzCbs54BeD74tAAAAlUGarEmoQWyZTAhv//6MsAAATgIIGIBNJ6A/0lCC+7GjX+gw0liEZcpSQR4GUOJ2FUuHSOwoHisEA3Zu7CdbBv6k9Ij7yofWHKal6Mc9aGnXa77BhB6HgqHrBPIdKVa19mUPYVbo0byRyyqE8iAjfU8qaxIW+WeswFqgBAi89HDcZdqN3zmVygysKQurQwEzlEt8hEURAAAANEGeykUVLCv/AAAZE+g8vRvNoH8CGY8cmt0iBzE/043xwKovSRbPGwwEeCsSHRFBQYVNB9YAAAAjAZ7pdEJ/AAAn3l9oqbN/PIeQob0si1HJuNR7F2TFVyCnbFgAAAAnAZ7rakJ/AAAn2YSz3ExBVXKnU4ABmKAAWxvEYRdXA+ZgUcL5SK2BAAAAaEGa8EmoQWyZTAhv//6MsAAATgIFRE89AIr/31/hJ+UEp+3U0hRz6jOtEiPDpn/gJ4NyKLNbFHzzi/6XV9+i7z7M2TWguRxvub6GYe4oBAATSBIVs9yHOk5gN8u4fTc2CmcbZhoHgx+gAAAAMEGfDkUVLCv/AAAY1XbCihQR1Jdr8RwkxjP7WcM8LXD9RRiKqwQa9vDUybKR6NbmWQAAACYBny10Qn8AACfAOTMrPi8hFMpb6oLDbONh7ct/5b2w2jdY6jc/iwAAACcBny9qQn8AACfZhLBCldy4xCnoQpw28xD6xopiwnUdD5Qf/Ni2m0EAAABPQZs0SahBbJlMCG///oywAABOEJG5yTuegFJFwolqNo3UKDntDJuTu51B2/zDzw3wYcgNtNMHKZCwMEMXEm6BoWYAyWhb+o6+mfyqWSyCkQAAAC9Bn1JFFSwr/wAAGR/eqLQ80zCTVeNbdCBXveb6eBER5eQi2TL+hYrUwETGAsSOsQAAACMBn3F0Qn8AACfCk02EKS2sPU648u1h8suoNoaxBSvEsXo04QAAACEBn3NqQn8AACfFHc7seohGSnYUptYrORSEg7NgU1l1NOAAAABhQZt4SahBbJlMCG///oywAABOAgUpOdf76AC7wdO9/mdVbkkTIHXvwYf0xsoUi/dmbbCAKTK9gd0n/fOSS9Gc5V7Opvy+DfzusiHybb7DgjmqXzNuUx+aPdC6BLF5PAjzAQAAAChBn5ZFFSwr/wAAGSBrtQW5G0D8/gU70N9OQNvpmCxLNDgFkL6oxhBBAAAAKgGftXRCfwAAJ95fYRZq1Z0NpYd863Iy2p7FjwJ05pg9hrrWK5V5wAZHWAAAACQBn7dqQn8AACfZhLCNtRWfycq9JAhlGUHqhrUPjIZBRv4m8oAAAACZQZu8SahBbJlMCG///oywAABOf7BAd07WmvRrltumYQhufE5MabISvfo/8ej7ri9L8fmhof1X15WtnplNm4dne0ZDVyN3Spra0KZuoD9eJ4EK0ttQyenNZKc7Xz4RQzmkLATMaUi4sAxnEvt/IhUczLeBmJkLuHBY3RVs7hZ2il8/FFWLbZu+iQlSqhMigVEFIfkJn/h6QS2hAAAAOkGf2kUVLCv/AAAZGkWp2dmZXl9joOQrMjigR8aPEnud8/AJFhyS/sNpxK70RA2Y5UINmRI9qnlrLykAAAAvAZ/5dEJ/AAAnwpM+3JwARg70zdkH+2n8pqzpOR4BBm1B9VY5qOh/ALI0pqCLRPkAAAAqAZ/7akJ/AAAnuvci6nNGQbfBy1L9vDWjZzVbRJWxqaq+bUeMId99ViygAAAAnEGb4EmoQWyZTAhv//6MsAAATnptn31rWDTG8vZ5YXT7gAi/cAXXtS2IR2+ni8Fy+IkHrip5JGZml5YCANMpwQJPr+JXTex2v0LOLTP1TNApW8EYksJL9tesc4r6cNgwTRETlc4qQeI41ieWvgFw3Io7nualOGrTO30yAzzSFFx801EDGyJDBKciawPXbpXW5rpE1Euun+NUmnl4oAAAADJBnh5FFSwr/wAAGIBsiHu8+DldlYJ0oTJ7isFmPjDW1nAFfcwef5LU1TIdomueS70LywAAADQBnj10Qn8AACbDOmdnwpve5r0ZlWvne8iZPeHUWaJvbAAGqJT+jZ4NFhHMHQ2cNyt9piNCAAAAJgGeP2pCfwAAJr8azlhn7ATtidAjFDyfq9PLjBDxr1Fr/ODViHagAAAAk0GaJEmoQWyZTAhv//6MsAAATAIFebvG2qvNfE3pFGkxvdRXhrdgDAp67jLLtxIT7MCBNxpDk/2G+Hn5P7SVdncEeg6CsjPHB5lUpGDxv3cugSDtpjv/pKx/7o7/KTYR2X96yQCcIT0GOcH37NdAIaQ6QjbgXQAEHYGsvvhKy4R4AY5QgbJr8jxko4SXDsi7pyDPowAAACtBnkJFFSwr/wAAGIBrtQW8MX0o+feOntJ897tOi3b9Eucb+B894eCPyg14AAAAIwGeYXRCfwAAJsMXZaebXRwQ9LuFoZNbrhhm8AJFr/QJIOfBAAAAIQGeY2pCfwAAJr8EJxHV0xnB1sghqbPxa2ihhUDiaNeHcQAAAHhBmmhJqEFsmUwIb//+jLAAAEwCBXk9BY7P5/d5GoVs4AEa20jR8/2UIEgPKsWmVlsgaW2caT1wcwULeE5r3M2G2rx6ns5ZgaRjqwRmwBWd2dseY/njXKDyU9gGDEI1qpCiRABj9yn8aXm/WTy9qXtY2lG2dS63Q3gAAAAuQZ6GRRUsK/8AABiAa7UGANZFa8XtgcTUABDk47bWjENZrmKgtOFW2X0togbXgQAAABwBnqV0Qn8AACar+Ft4Ep1oI4gRnrkaA90L8ysqAAAAJgGep2pCfwAAJrHMD3cOmId/On2sAelZr7LpM9KgZyR+RFTtjVHdAAAAeEGarEmoQWyZTAhv//6MsAAATAIFeT0Fjsr5znAcszuRx9MAH7Z2jKDW5+12zJy3Wu98KTMgvDxYgVw8NSkSirdxPDzx1u1bDBlOCOFVWZfWsDUypIFqgXaseDRuVN0aKFqsT2CPng7/eqk6qP6p3/u8xJAkHeugoQAAAEJBnspFFSwr/wAAGIjUNyMJxNMH9ADY1Kh4KBxlB+rifFpdUWXPdz+uAFjvl33jmjYGsRuDwCXgmN99jR5MOxqCcEAAAAAmAZ7pdEJ/AAAmwxdp9QQVJNd16Y7zK5Kd5kIIy0Qm4d8x4d2/k+AAAAAzAZ7rakJ/AAAmvwQna1kxwuF2JROKYDgqtOjReJlH9W/NlbA3PcSc6lQMfhT46gTMvH7hAAAAvUGa8EmoQWyZTAhv//6MsAAATAL21kuRiESAAiFq6iUI6USYFsNgAvF5vMROew10yOynAPgQvJMJPITTlrP1+y0nbwlGxTgswi4muO/4UXHeMZzWLqvyTJ8AdPGGI7foKAUU8cQ2aTtaLLJGA33uI6fuCZbvsJtiT7h3SbNJEdGcvZJYnUVfXMz29huz9vVkjnNQTEyvJ+h3hJbxCTSWZVmp/hMGIkjQQpsqoqkukU/sM88UAQmmEFDvXDeU9wAAADFBnw5FFSwr/wAAGImDzcwHNPBVqYsc009F8dJqlgAN4dqN1zrSTh1unvPtYnGCHLbbAAAALwGfLXRCfwAAAwII7OcaioW078nYOuYBjrIypo4lGZ8UbpDDKZuBc5lvIYffot7QAAAAKAGfL2pCfwAAJrHMCW/gUACX2mJ/BVidGiKMhAba00jDzW0ECvGyiTkAAACSQZs0SahBbJlMCG///oywAABMEIKsQaTuVEABpH3n6r1fkF0AHOBboFBllOzSx9Xq/IzYruVgW94ui6hHOexyXPJkYOp6LHEcbwqVJzy/jQ0VPEcvEr1kZOS7s0LdhrWb+F1H+EG0Rin1/UuScWx3zC4bdZS2yOJlWzAW9l4aEGgJbFPhQFV8Y8RS4B+AneWN7rEAAAArQZ9SRRUsK/8AABiAa7UFuRwv5dDXzRJKpZZi5BgL524n2YDC2gaPgXhBgQAAACEBn3F0Qn8AACar+Ft4Ep1oI4gRnrlXZC0reSzsG60awPEAAAAeAZ9zakJ/AAAmvwQnEslpmrhWUx8qO4BSCdlsquz4AAAAa0GbeEmoQWyZTAhv//6MsAAATAL63gNNy+6sNYGh7NcKOChGPo+cbAwTmgHxEAHSygN73356SSNzqhSiimgOm8wEAzWw/AUneAJjNPXhdRHU5zvHAJXgLhXVPTci9zi7SzygWdN+Hah2OdWwAAAAJ0GflkUVLCv/AAAYiYPNtxXMrJlmC53nDGsCTy8FSpoaWBVBS1Yy2wAAAA4Bn7V0Qn8AAAMAAAMBqQAAADEBn7dqQn8AACa/BCcTqTK9dC9easN5cz3PUTj+eOf2f0DCTLpI96MrAAIYkrlimvkgAAAAh0GbvEmoQWyZTAhv//6MsAAATA5mE0+gBBy5eEiUR0mfdjAtQSWX6t+6rEH2iH31x3zKTo2NnnednrCHq65nQnx8oKbfekwK90RNuWZTvEBEh0ENWHGOvBgnxchj1LvvSbJGqrOgIg19ANfg3vMkUSXhxlcwlBHwYOcxUliVmaI4dFI9bhlZwQAAACRBn9pFFSwr/wAAGImDz75djqfg3+E9Ua6bgH6AUbB5gPfT3yUAAAAdAZ/5dEJ/AAAFi9DBARLNW1ALDT9RjnZgCwgLIz8AAAAWAZ/7akJ/AAAmvwQr+qacOVyKsdWEvAAAACpBm+BJqEFsmUwIb//+jLAAAEwRrBDvknbNKKjeyHACc8MvtPh8mpSsGBAAAAAXQZ4eRRUsK/8AABiCa0OgrHdQWzhQDLkAAAAnAZ49dEJ/AAAmwxdzxET40bZvTJfannpPSlEC7OHvHHEZmScowrIuAAAAEQGeP2pCfwAAAwAcWB7yBSJOAAAAW0GaJEmoQWyZTAhv//6MsAAAHHW1Fal0EjhGQczWCdNDtU8M7sN0vDHwWYM3XgAAcVlZrj6ReD5DNQ0nNwmbBSioNM0oHrO4YoCV3oSdYYrWKJ1UWyeIWl6+/hcAAAAqQZ5CRRUsK/8AAAMDdTCbx1uT3g5fYpN5xyBBrS6jLPM6gA/oe8v5oKIEAAAAGQGeYXRCfwAAAwAcSKeOahGdzWscJeYGCnEAAAAYAZ5jakJ/AAAFizCWe4ktM1ch03B1cC4hAAAAwUGaaEmoQWyZTAhv//6MsAAATH4nJzyrHY2S5AfCrfGKYOv5xTNzLA642dnM5Xr3zaswEs7fFCMwlLS92DnCtrEFf6dlLBDMcRXoCKGe3NtP373Zvvwk3QAMHIeOygOTgNQzolyZB752lGGim5+ricIb+gt6/5Ha7GTFcgIjLYlnhR3mtiNzs0T/xcDXQtxAwLfXfspnA/9B3XhXgWohcl+HeVfWxwKmrf9UTgCtMBeEbeWXJEPQYsNusCzj3YZqCkAAAAAmQZ6GRRUsK/8AABiJg+OHfZ6TLjq+A/2QlD5inJhK0oTR38RU4BUAAAARAZ6ldEJ/AAADAEdYcgyYW0AAAAAhAZ6nakJ/AAAmsc1HT8p9CvhR/ZQxRDWU/WAUkPFFqJsxAAAAVUGaq0moQWyZTAhv//6MsAAAChb4mFz0oAhJvPkHYqiCfQHwkxxy+w4NMb7lqhAAI0pQO3PC2902Bn41Ak4ap2sN2sE7yAc7P/x/U0ZpXN0hetXhYpEAAAAjQZ7JRRUsK/8AAAhpliHYjBbY2xvMPWNTBAclAzvwBU72OSAAAAAgAZ7qakJ/AAAFG2Hkd2qH3fMlow0kUMgMoN5tNSUGHbgAAABwQZrsSahBbJlMCG///oywAAAZ5LY6AURrRFLRwm+5hc8oksuv5qUlhbUP/6ZHToyVvKns6ylRxWKWYYqEFKaqvZI1AAkZOeOaa+1/lRu6OjF7ycfPAdhTNR+oZ675rcx/k/TUa73er613CdKQfHYzGwAAAOhBmxBJ4QpSZTAhv/6MsAAARgLT3gIZKj4VCvgHUurMLmpT4ls0ljodu0z2Ht+M1uAqHCp0GwbtGC1nAeqfZEThLMh9GsMgsjH7zxvCsJ7kTOTlJ5/P32GVQxHSrC9cg2cHlJmoS+GAs9Cn/yX1yTH0iEJXeOZ9t1euKiYoPY2/Z8vJzFXkTTn6h8yw2BDNgmKnTJkU4WKaZKGFUnr0KXUmhHmKVlJy+OAy36uFxBuzsxMgAAY+ABWzYqNh5yWWkKUwgJKdYMRnX3JKEZEWLV+dqnCsZPc3TJbj5LVZ267plp9wHCVVMz1uAAAAO0GfLkU0TCv/AAAWtSs0Onl9N8CZYNhYGrLmfb2blt9v6qd9Lhrt6ELRj9g+71DIctqA6reAhdSqgoJtAAAAMwGfTXRCfwAAI8MXUoRQejvwAC560KGSxhodHoC3TEvX0XMisEirQt8ObO8Ld7Pl2OmCbAAAAB4Bn09qQn8AAA2En3jCT93jRJkPSohaG/ASMyJ1Eb0AAACWQZtUSahBaJlMCG///oywAAAaop1ABOwzLbmRVYAKDGGTJjtpkAiFdpe0AoOl90Ywt9ciEJXve0d5MrricHYyoGmfVRvBC4VD69GE7JrP1FyfgPxpsspKYG42dWk/h78zRALpoKx1k/bsI5l8QULWHrmrf961iSigCRRKxyeepxG0S88OYiiFJRvCWaUb733SxZBNNmvvAAAAL0GfckURLCv/AAADAyVg8Sbd856UMkuISyRFNQTwq9D9qeBiM3MBfrS3wxLAl/Q3AAAAIQGfkXRCfwAADYKjQwgMBwDWPAIL8H+zmnMp+98T+RU3oQAAABkBn5NqQn8AAA1/tow2x8uw9NFpLFk1qSUEAAAApEGbmEmoQWyZTAhv//6MsAAARg5pP4A+fRstRsYh3Eu7LrkB7Q5MXp/noXM3qAF+4rPJxMlPWmJEIQg6z/hUmLCfCfMrOu3ZINq7LydCW3gDK6c76cjEnxYRKZH+8NDC7gn0Ou9KFSCtckLVSjylT9Vk6/FGYcMwE+9FEVx9lyyJ/xs4w5zryV+1gUitzxVkFz9COpBnVGtLQftMYq5vSf0zQyGAAAAAK0GftkUVLCv/AAAWtStCVi9Pm/boI9QLwfC0wGDMhlTBmqbWpEuC1uY1/KEAAAAYAZ/VdEJ/AAAjwxd1U4gNO+FXVzv4Pnm9AAAAHQGf12pCfwAABPlAleqJPAgteUC24vmRbhCl4Jb0AAAAdEGb3EmoQWyZTAhv//6MsAAARgLPV3/UnFIdVIAR7iolU4ANgcK5NzgB/Tk27V5kEyxb4MWs7/15lgmhJP/59knK/mR2sl4Bu3LomhI0J7lU/iLfBNd1KRKbpiqFE3xxDdi86NyRgiRX3r0m68exUaSQuAOpAAAAKkGf+kUVLCv/AAAWtSs3cKV6ramUxCnDqoFA7MeLSrT8swUnmSrpGdi8oQAAACABnhl0Qn8AACOr+Ft4Eps6zHva/LNKY9NVrxDu1WPygQAAACYBnhtqQn8AAAT6Ppe80efsY6HsxIx8tqVGeKSo+itANKsCZA5t6AAAAFVBmgBJqEFsmUwIb//+jLAAAEZC8+ov7HVE8MgZPYyFx3MkAVxgKnvMjJ5ZTssCW5TgLhr5SRHp/6ExD49lGA2zOPEBoqOtnoXrQd22ZYqSLEMhuy4QAAAAHEGePkUVLCv/AAAWtSs3a1peuKKDosb/LaH4UnEAAAArAZ5ddEJ/AAAjwxdol0P2JcTX5AmuRFot5H3JeiWFA+//0+L4G876+oI1SQAAAA4Bnl9qQn8AAAMAAAMBqQAAAEtBmkRJqEFsmUwIb//+jLAAAEYmgwSFuRbECryxAhYAoAARmxGVSocLF8buQg1qX2KbO98dYsDFi5nz26tCJ4PkrmRiOC905aXJZ+EAAAAqQZ5iRRUsK/8AABazR/txYK63fW87HCBDkJWmwqMGiYGA6AmMSFoprigsAAAAMQGegXRCfwAAI6v4XDHEKqVF+6xemhNRJiD3wR/ejoFJCiM4BVKNX0zhSr/cWNtFMWEAAAAxAZ6DakJ/AAAjvwQnE4YuOSdiof4uDe7nfNTEthPttCriv8bU5YRggPzuaMEY0ReJ8QAAAFtBmohJqEFsmUwIb//+jLAAAEYB8fk9AjbKdE3tPvoOl77pmAAh39cn8MmldfDxS6/CDFbo5aiz7D9lm7BCgmlujhCK2qJbu0jhEhILArEC4n49BlGLMGPbp0RYAAAAK0GepkUVLCv/AAAWs0e3DbkcL+XQ17LeAAjMW+SHR4UEV7imXH5pVpS3UCEAAAAlAZ7FdEJ/AAAjwxdonQXBqwZZOAqcU5WozkxACXUsdJAM+BtxggAAACEBnsdqQn8AACO++J5nX0PzTe+fmw6hbAlgwzdhZcgkMWEAAABYQZrMSahBbJlMCG///oywAABIem89wlagAg7eo5GaSQBu0RY4ABxm5DRbLddKpPF9bBojUNza25nFPKjmZNzUUjJn5yWiRytoRvx1+vZIhuRWDWGfLzgEOQAAADBBnupFFSwr/wAAFrtbZgZfmuhJF2GED4vrsjDMHltzwCCOUEQlPmqtJGo3L843ALcAAAArAZ8JdEJ/AAAjwJneyE48FjP+UJX8yA2hP2gA21ACWU+SjMtLGK8GCF1kmAAAACUBnwtqQn8AACO/Gs6RjspH35XbirXRggcJ8h1fV3Z+pfBzPdYDAAAAgUGbEEmoQWyZTAhv//6MsAAASBTo1x64S6zrESDagSe6YFo8LRp8LuYe0cnFygFY5zdKPE14nPFTLihhaUbT/c+6JKE0hETRBGTVcpLahEogGopu7RwMBTMcHCHvw/orrTwAsA1CJjkydzY/OzMbJXzVceYaZVrpYJDaVIQ2Vh3NFQAAADdBny5FFSwr/wAAF0w8w2AkSB/uBRtS5VIFQ0ZgirJuqO81gzOmRnwIIqjYjp9UQ+nY+tAI1BQRAAAAMQGfTXRCfwAAI8M7Z7plkqfn/WV2cq8nBAZIz0umyLjnxfp2f16iKnzGpAAZghbiQMAAAAA9AZ9PakJ/AAAkvuaNMso9YALg8LxX38TCCKkzukC5IoXxDcdU9e0MpYOSzS7d9yzpldLi/MZ4bGToa3uLaQAAAKxBm1RJqEFsmUwIb//+jLAAAEgBRRpiAFkC3MyvmI9qAUKXD1TlC6flplE1wpGfQ9IxAteJ+7bI36YVxLVdxiWyIXWpa5b6dr9LN8Ocs3e/1QMWnKRQXXeKw1gAeEB87UVUTAUgpTT5GrpBTACVwOyIDxa7DUu/ip/xE5rF3jMuNukE1DOf3kUYfsxhPqxksrahNvdNTgE8yha1BnxWtyYxigXZBvq38uWkSHUrAAAAM0GfckUVLCv/AAAXQqweoxtgd3s31XM/HZFKMfDOxtQgBsFSHgWd28MbMkTpF5zLsm73AwAAACYBn5F0Qn8AACSp6ccThXVB0m4pvPSWFhdIDJt5JDEVv4DfKiqKgQAAACkBn5NqQn8AACSuXjOBemLJosCunblEBIjIItwLQA8eJB53O9X+97UFsAAAAIhBm5hJqEFsmUwIb//+jLAAAEgBAPls4qBYCUuxqo+qRRZ+3igAdKA3KmwkuFzN6bP5OqjNzDaf4VotlScfviGHP/ir0jeY/HQzPsBYnNr7EaqEo6jhSXQ1df2JN3Mbv/PpOQem1y7XLuVSORNaDuytMzT8hfrsz4m3wU+zr4cn+1vkdc61Dih8AAAAQUGftkUVLCv/AAAXS4p1iNHITft9p0XIeZDv1R0lDizkNipA1qUvV0nynKhygsNqDbpfe08JPP8LwRb3IDlS8ZVtAAAALwGf1XRCfwAAJKv4XtKqPtW1dILRZO6PbJO5YKUAJLxq3LdYoWT07fCcw8h7OOOBAAAAJwGf12pCfwAAJL2DLs9NMlPhv4KdyTP5LlJzRqmyFlKFZF6oOUdTegAAAIRBm9xJqEFsmUwIb//+jLAAAEgBPLSlEiL88vcxC5iAFsZYsDMd4XdH+Z55MH4NiwJPVLBrRxjv+f4dkvxidFRrOiLxT3GX21nH+wywkvXbZiQYB+b4YHoQL69tg8RaYZA4uzv8t1tiNDueA85bmK41Cd4n9adfceyu9qzQVWB/PkW8dpcAAAA3QZ/6RRUsK/8AABdCq+i0PNPRtvo0NMC7R88qMI/62aqTFnn0w9DSPUMFEPfrdHfwzpb6bSJRYQAAACYBnhl0Qn8AACSp6lO7XKN1kvuoCLTWfbhmd0woRYsz+UPTC7FUiwAAADkBnhtqQn8AACSuXjN6+i+pWpDog9HIMokUsmIe1AB+430y2WFtZlmjxWX0Ao4uroFeS3fpq6fge4AAAACSQZoeSahBbJlMFEw3//6MsAAASADtFCeMPRLczOUg0QHh75zrcfEfYhQAUxdttIejtYv9yPhpipCiFpdQyjDYm2d4zusb48fLKxpkhWagNnimEs6/5pxKkkfyo8627k9aP96/JE5kzGjSQgSCV2qb4xMFrmNZZ2lBsCvnWqkyt2NUZbQkfMLGdKl1/Sk/ANtmQ8QAAAA8AZ49akJ/AAAkvSahPxLOkn5PAestsbvRhSLCjeMOEVpm7S3EMaXzMKEh2ePy2mgAhofRluWY8Q6ZqtSBAAAAnEGaIknhClJlMCG//oywAABKATy0GVrRXG9DACna/egbLnVSap4P0N7tisgo62irT2F1SSlPuYnev0ExjHPVPui7ugp6f87hzSWZS8pibRJwrpRVKSBRMulQwyLnLRofagEf57+9BY0eEmZuNDw2V5BWjXChyhP3VwfsGwjzYWFBY1qVlZpnQD8nppwXqOZLLHHhrKRKZKKWQ/dTgAAAAEJBnkBFNEwr/wAAF9/sHqMayN4fPwuzEkqP9ZAPilqQbeQbnYC7Sj4AAW07QAGs9JE3WlLof+FOyez0Q9dLxfbhQ2AAAAAvAZ5/dEJ/AAAlqY7uuTUbqMajrO4/5NP4rTkpWKJR9L/gW70JcFsw9ucWQBskSC0AAAAgAZ5hakJ/AAAlrl4zgXlDs822QGUnIM8Xh/E821KfkGAAAACXQZpmSahBaJlMCG///oywAABKATy0PLaTFQACXQ8x+dZLfOsYsqBkOPKacB0uh3YzTdwM/GTA3SEtKel83vDjUYOvgTZemKSquMlRX5pec6xBlvXgrSmoI9pKE0D+aBWlh+UVOSeXaq3IPFvZZKHK/oTrXNgDR2lxjD9apLVAJDNYQWed/iWjHS7KB4N/sYiWmfIQlqX5UQAAAD1BnoRFESwr/wAAF9/r6LRIAE1Db2uo6p3gAONJizNtqaNVmpQamDWpOx+ndU6yg1AIIeBXA99raNIULkrZAAAAKQGeo3RCfwAAJcCZ2vUrZHLBjKpo2U0AK6N/lnvwCV3DB7lGTRIfo1bcAAAAJQGepWpCfwAAJa5eM4F5RRzEN+ETauiessAGdgReF4jF62CctZ8AAADRQZqqSahBbJlMCG///oywAABKJJWfkuIA3jfhgEZMpzslezJVQW2F9gkUJ7llNfKCdXn75VvjVFd1yB+aM60lgtFtU4DjaLKJsKdAWTojyopPhgqXEyxUBY4/Bv17i4tqx8qJOKvls4WDaL9sppqia+0BQ/yt2rQtIR6Q206+adEJ9U7mdyiI9k2rSfvpjJwn3ku5SA6c2fXjnjmyvlI5DZAn46c9P+mJj/0FlVmkILzETtSeKxEl5iV48UgyBDW1J5IcRHtH/TyuaEQ2PgMoFHQAAABAQZ7IRRUsK/8AABff6+i0Cdp0tkLxegEIAhWYQXVpEyCsEZiRO5o0HX4sCl681jms5h+DL9XVvTpmXHCWzND6wQAAADMBnud0Qn8AACWp6k45pnUlYqjmhaWonCL/hI0PTFtes/SlPx2+XmNQtXDWc6ozxycme6cAAAAsAZ7pakJ/AAAlrl4zgi+0F8dM4gGKXH4P1Y0bBFX/qEJ5Rv8SpRvfITvb+BAAAACkQZruSahBbJlMCG///oywAABMB7pbxpDdhzV3c+TxAxKmEq+BDKeD6cCfmdPoZEhPb4lV3WErLlyRXIb1S20DdRxNrqNAJa3f7wr+Yphg+u0iTOv7ImgLPnz0whF2DEj2y25Ln1zRYW4KHxMAYC15r1RkkuZuTj+EJhhVIkHfQYqLZp/Yg4QnYhxUupxdzTZFjdt0P/qyz91E8nOjScoDx+qHqmAAAAAxQZ8MRRUsK/8AABiJfMMRoaZm/+La9hKK1e5WEbMEuwf9vUtHsnKWjo8V7Xfr7vubgQAAAC0Bnyt0Qn8AACXAmTJ8sz4PZy0TuF1C0PVpZPm4JjNql5/VGeSCTODgQ9t6DPgAAAApAZ8takJ/AAAmvvU+CuMgCO05ss6x6ioAMTB0dGD4yRDOkqdOML+o9SEAAABwQZsySahBbJlMCG///oywAABMVhLOVdjCnDkKHDhRVyq7w3oBaQDwkOdqDkEuYjh6GU4Jbl2HDyNmeTd6WAMpMoXNxBzmYzfGW6n+F5kDweeQvF9drHf0OOkYago/Aqgb1hoieNZb/GvukIXa0r1LdQAAAClBn1BFFSwr/wAAGH/r75SfsJinxKELojeqaDNME1cDttwNtZebHcrhoQAAACUBn290Qn8AACbAmR/PZYrKFrMjMM17LxFJRYSo9K+yIUIwGj/BAAAAIQGfcWpCfwAAJq5eM4F5Q7PNtkBlJyDPFw5tqy5QkPjY+QAAANtBm3ZJqEFsmUwIb//+jLAAAEwpPOXMAT/X0eobY9EJVtaeqHn4tHQM6HjUxiLQBk2p/YW3Xnfc93j2ODtGZHXfLD/wOsT3wQzH1kkQ8wEBuuA8lY0/ccFB86ZNpldmQ3dkhAJTtKr2a98eiH8KeURP/M8JaQW2mtbbF+9qVqZCpFM870nbwNDCE/JQtNtXiilXNlJsSqQSh6QRGfkKMSFgXJ2PNoudttu+w5D/8XJVJIhen3ficxRL6Gt+DBInbM5AOGDOuuyiu3nctchjvUeaqAFczMBtRLlXXIUAAAAxQZ+URRUsK/8AABh/6+i0SPPhwiXCbKObvVvqC68WAh8IDr6oyq46AIT6RabTuEozlQAAACQBn7N0Qn8AACap6VwrK0UsEF7jItdYieWMY0gEJlIMaTEzVMAAAAAlAZ+1akJ/AAAmrl4zgXlDs822QGUnJc1dyWrRyYcfNpxvI5dvhQAAAMNBm7pJqEFsmUwIb//+jLAAAEwkNDKRskrhxtpAFPnf1YhSjnIzvbANxoXDTB5VEzz+sIdAgNYVfHV9uCGH+JuGIf0nOSfMk/3hG1uSA5lkNUKKbwGTZZdfLuMpCoNio9IezIFIzZ/LG2BwZntUVj5+2nJ09vd+oRr48VQaQkIHPxCmoB0wNk81FmYPqqP1xeS0H2ffztfDVZeZ65nFSegbr5d/D+sQydqii9TvEEMf0rAvOoWfZX+XVq+T8HSgI1m4alAAAAAvQZ/YRRUsK/8AABiAh7cN+50yZ9eLhJ2j9rInhr21UGne9CY+yQ61EsmBNHcOPcAAAAAzAZ/3dEJ/AAAmwJkfz2VBHE4bPdEqFYrM5UdafDFIYYY6WOOrg4EgFervhMjxWYp6XD9xAAAALAGf+WpCfwAAJrHL/0T2gS+crx6JHTWm7nsPLk+RulZ0J6OqAPlPg0dBsXlBAAAAxkGb/kmoQWyZTAhv//6MsAAATELjY+7HOAEZA4JywLEV/+lllb2yYM/pmrTfyXbNP6VBOVCfH2ry6EiCOlwNCZ9FPvMjcE8HfSLyvMCrAbn/yLkvORslhzf6Go5W88Xq/P/l67JtisuaChgg9Rokyn0s4uGl+XfSy0jUpE2XZ/M6tTL+VKC3lEaAuWczTCXAIhXSd9qSnEpcYO5zodEQLZcOy4y/ZRSamWokSZqPAw5lx7SW9cVLRge5+kiEcFso2rvHxPKcwQAAAC9BnhxFFSwr/wAAGIibZgSK2ak2Nf7JT9L6NcI4u4cwc8cFtKFKoPtMDkYY4W7LgAAAACUBnjt0Qn8AACbAmQgFT0uj/qs+fP7H6mEJ2niiYoqXL7kMPRtgAAAALAGePWpCfwAAJpkxG6kqRG25Y51AyqYM0NIy0JY4PZCSGSKi/OzqjkGMB+qNAAAAl0GaIkmoQWyZTAhv//6MsAAATgDuYMCo3ve1nCz6YTKY01tGHMI3KR7zyv1ga3Q+g5ZhPpZtTxYB2vQgeNhwrW+FzjlFro9tmFO1GWeHiFpIiswBIKz803aVsZUuz+gSHPuA7P2vONvylUIkob0JYzP77VDxDmokknwTREPp6iIDpC+tvSedZbqFyhM3T0ds6GkIag5SAkAAAAA3QZ5ARRUsK/8AABkpgu2u3fsRbYPosqc2LMybKT+sFe4ev9UlP9YKeNQUTgF2SxAD4EqYrXrTgAAAACUBnn90Qn8AACa3zCd9CtfMmZBBQkmJwjokhlm3Aosu+Q34t2qBAAAAJwGeYWpCfwAAJ8mAcQAt2OC+nSsrVCfJMyIamnG8qsvK2/Dll6qNoAAAAFhBmmRJqEFsmUwUTDf//oywAABN8pStbzSEK5vZOABGedID3tCrIOmYhy4LhmPhLGlNfgrMQS9GhstqsZAbyEo0B0Hpo2YRXA/55xP88a/vv/mnIRNRYDS3AAAAKgGeg2pCfwAAJ8mAeU2QjaMEmrexpdCcSxapEP87ZGDsfYgLcOxOPDI9YQAAALZBmohJ4QpSZTAhv/6MsAAAThRKn/cBQNvwuvSLsnRNip+zonX3Lv9V2KO/L+Y2nHEkEEwNb2DRJI4vaPo/CGcIXGQ8ZApV/mw78RzliLwpi81v4+Z5f1TBda7M/r3wpYhy5bRkBRF8Ki9oMG4pavmoQfAptw+O609sc1k9Z7Nf8j19Po7EWtOh3uVo3YzLzHezCfLIBrAPC+q+WN9r5z8cBa+IdudR9O0LKVWDsHoksLJKY1G/WAAAACNBnqZFNEwr/wAAGSCHtw25Dy0SMkAo5Ix0N5AHCR9iHclG2QAAADQBnsV0Qn8AACfbVyYscBJssKmsjQcL/jGLXbZ6lLp0TbCweRDzM7a+wBGJAKW1h2YQptDaAAAALgGex2pCfwAAJ+M793ShsUwABZGRCZKO84wUj/f+8oE8oAIIsnTYeHfKbDgOj60AAAB3QZrMSahBaJlMCG///oywAABOAfGo79gC6AAsYE7U508JiroZv//v2zv0cDlueI8meIpvrNNaO0wxxnkdnBck8hvdw4lRYqxKptfWMBjN4+W1f93TuV7ofPDdxfi5gYlYhSPazFqVtF0KlO2u+Cvrew/xKVWMYDUAAAAoQZ7qRREsK/8AABkgh7cNuRwwC3SXIgYWd8q7DGjBo6NbVyPf4i1YsAAAADIBnwl0Qn8AACfCk07VJuu3zIOl+Nosnr1ejwWcpLvXRQu07bVhcXQANp4Xh+ddwV9YsAAAACkBnwtqQn8AACfZhLQ02p8YVC0WoWKJu0fkMCj80jjgm1hI68SidDERcQAAAIhBmxBJqEFsmUwIb//+jLAAAE4plakAQiq/T49KhofAJMfZ2Wgt8SgFkVTP+1rCSC0j01ysHv7j1AFWGr+Q8OGQKhrZ0M6M5/YZKOezpE/08yE2d2gwFD1KmDla6/h03njpo/BOKyuCMc/yuAX1DEoboL5uHlms078ucqk63EAPh6wC9T/G2o2AAAAAJUGfLkUVLCv/AAAZIms3a18Sc++CAIWQkYLXyP7KakMAGtH4MWEAAAAiAZ9NdEJ/AAAn3l9onQXsNZv4AXJamOhIeVR2LAQFhRvtwAAAABABn09qQn8AAAMABDfje3NBAAAAUUGbVEmoQWyZTAhv//6MsAAATfKUrqgAKIxr7fVM4283dsAmF0AYR2fXj87shVSIBG02xodRCKicTiNmLvDF5bo8knH1GnD6u3Q4Nv1ol0a1ZQAAACxBn3JFFSwr/wAAGSJrOI9LYuGzYCQGpFvKz31/Fk/C98Me6wXdgiwbV2v0fQAAADEBn5F0Qn8AACfeX2ivd0V9kRIk4AL30pHUxmDNaIhMJ6BC1L2MgmwAEIHPV8LuCSLhAAAAJAGfk2pCfwAADn5vh16ieBBKq/WsuGHZiH0r1mOMjf1Z97dDFgAAAFRBm5hJqEFsmUwIb//+jLAAAAMAFtrwh3Cfa0EnVwykvbcAJT+51ncg+7zM1RRnDIKGcbOb+oQKsjhxMrtwba/16gacSF4kqDw826GiXjNEePwJBkAAAAAZQZ+2RRUsK/8AAAMAB0AULFlpXLSDNJrsoQAAABcBn9V0Qn8AAAMAC6DIgznN2SVXo1QORgAAABMBn9dqQn8AACfQ++Z8A3OCIBOwAAAAZkGb3EmoQWyZTAhv//6MsAAAHRh+8S99uPDNkLNsOEgAERU+arkLWfYvzUujWKIrSdDP2pxb7wOpurV7r9M/xh8p1d7zy3vzC0xx6bkIYjnyag7BeIOknyobF7ccLAHYWqLNpjnWgQAAACFBn/pFFSwr/wAACS8oW3pqMiXYDIEs1bAo7epqhZe+HDcAAAAYAZ4ZdEJ/AAADAAugyIM59PR09LDoz+bbAAAAIgGeG2pCfwAAJq4zB81pSU5ONnGJOehJVzVo/XOijockaj4AAABuQZoASahBbJlMCG///oywAAAccsf0AtrGmffd6KgJaZ9TxSlwNK+ytQzzzKqxLp/KpgbivgBFwe8sFY+pMLo7ha4DBr8urxbUC/RXcnHJl6l8nrSxanONoRK/mWGpiNqdZI3tQl6qhrKh2j3jH8wAAAAoQZ4+RRUsK/8AAAksDLTKGY5ZrZRz7cT2bk6K3/C077crOx8OvYyjWwAAAC8Bnl10Qn8AACbAmqUmlhITsBapb8JUm8tzdQCmLlrq5w9iDvHSYEfbRbf1vmoDaAAAABcBnl9qQn8AAAMAC6KZSZHTa1ncYo08wAAAAIhBmkRJqEFsmUwIb//+jLAAAB0YuqOr4pJIIgRxWHpZ9512TiFHvBH9NBrwIl6AL7gZaLFm3DHueKebKuWWD4A7O2FQTL67/g0Echq/HLF1hHdPp8rNWH9BrJtORgZAJhBzv4HcqDGKC5d8du1vwtdX08CzMSTTmNu2Zuz6PAy4ryaLy0C1nQqhAAAANUGeYkUVLCv/AAAJbYHA+nCPweltzlR+G9/hFT/BemvJ6CRVwr7WJQ9IT+1UMKZJZ0907MWAAAAAGQGegXRCfwAADtRO55EsV4jdWEzG93RBRW0AAAAcAZ6DakJ/AAAOfmo2Zlh+3+yzoL1MtA1D/1ur1QAAADxBmohJqEFsmUwIb//+jLAAAE4C9vJ6KlwWsdkcKK0AHwySdpJL5+7qbiqWNRVsEH6H3CfaHyJzvNo8gQsAAAAlQZ6mRRUsK/8AABkiayjjPAaGCzEbovtGFIAomAD/42pftiDxiwAAABoBnsV0Qn8AACfCk02EKcvIpAiuvjaDp9gB0wAAAB0BnsdqQn8AAA5+b4deond3GcqhlmPzYy0hCqxLgQAAAH9BmsxJqEFsmUwIb//+jLAAAE4UXUxr+f4IMPplQOQhcQAWloNrpIbq8GSk/AiRX/W67OB39MaSrCa3J1eK0ggyv6K5z28xH4KkIwepcquEvYtuL9/xb8Elu4BlbefETAF27e3qMDbHpC8tDoiVUVhAeV0nkH0yBOg+lAnrdqtlAAAANUGe6kUVLCv/AAAZIms3a1/l+3QlUFXE4AIOcEjerykbcjA95BptWIXw9wsq59IYNIM27M5cAAAAHQGfCXRCfwAAJ8KTTYQpy++GXJUzk+ccbG8o0GnAAAAAHAGfC2pCfwAABa8wl0AGeJmvsgxr+gOs0TPBYsEAAABdQZsQSahBbJlMCG///oywAABOAgV5PQJOqykSGBmW5agt8myxJ3Uo1xrC413jYAEVDUnnU02347ROqhHGyFJ7M+dIT4BPk6PlEcTYhXIT6ojgo0mGvrv6ch5uk9tmAAAALEGfLkUVLCv/AAAZIGu1BbE7JSSc+4gGGHpFMII8Bv0g3A+06RArx7k4cqjBAAAAHAGfTXRCfwAAJ8KTTYQpy8ikCBGeuRoD3QvzKxYAAAAiAZ9PakJ/AAAn2YSz3ElpmrhWUx8qPTD207ZPtIsSsKkzlwAAAGRBm1JJqEFsmUwUTDf//oywAAAdT0cH0dGfqLWHuyTUIEAc25y5Au4cVNPx0s0D4MrdXoQ82H9/NlOAmzTF9IJenZTb7amg/K3y1j2CTkP/qQzc5QiLwIlYwEbsOfPXVVDJUzPJAAAAJAGfcWpCfwAABYlAl77G1OY6BUndvVP+mMtlA+LWF9EGBIxRcQAAAFRBm3ZJ4QpSZTAhv/6MsAAATgL21Q5c1c1LlOJN3oPw6EAMu31vDXHe7CehHRiE0xkhj2vEjkKy9BMt2CoKOHA84Rur0xJnFz1g/QgA/F7+Swx3HLEAAAAoQZ+URTRMK/8AABkiazdrWv+RAb99NGab/zQfwxcgHGuHFzRpDzQggAAAACUBn7N0Qn8AACfeX2iQ8O6ypVNBTQaX5/hHN4wPmBOBFhG0M8dYAAAAHAGftWpCfwAAAwIL8azzg3I1Qoi30JbCMqh6QXEAAABLQZu5SahBaJlMCE///IQAABHMFb4jFWnikEFCXwBp3YnERP0Zb4ALDpeEqY/+YmiYco6d4NsEqTI+qWYOSXS0zSVpeD5OJlaI4mpwAAAALkGf10URLCf/AAAnyYBw3JlX7btU8Qthz7SoBrNrlIoo1nhXL5BKg8oANvPV0NsAAAAZAZ/4akJ/AAADAhvsqj1vaKt5Iw6cqc51HwAAAhlliIIABD/+906/AptFl2oDklcK9sqkJlm5UmsB8qYAAAMAAAMAAAMC2vR4kzvk1PE2AAADAQcAKGFTESEgFLG8KgTVx/gdZ5AftwxoCj2pvyMas9O1X+/H/pqe9QpW9MDCvhrB3nsYZGv4whJQRDh3ba+SvqCABEdLa1qDvsaA+WCKV3snfCvgt1ym7eUHJKaJ52fU0s9AWFvsI3+xAbwlLvUF4nc7skT73zBiEat7N/wCVf8niVrmuKkYn/zNHUNedTVeTeFXoP4eAHuEHdrZMpR8Gi3ErI82gBlQzMBUNHeITJl1pwllgXyKW41FYJ5caBFjKsczbYIugjt+b6jyvHBslhYH+/mnp3Dikyu6t3ADfXcuT+vGTU0OtHj7ddDvGfLcyTVUPEH60wStwSa/tyMbwGt3cbsSi+w4u4qscnuH6cihkM7/82/fWPOwciElxXC5LnKRRaEloCgrA+bhcHT4HbdShFbhAi8OyrvciTsQ1Afda5wGwa6c+vJITXae/+NMn6P1OV0p+DuCfYkKPUFZnkoPYuTCwA9uAzm+1TKPAm61NcohYAqWwAAgSztjZ6AjBZUP83ZMjtlY6RZyL5V1KfM5OutvoGIkQZAHzbWlX8FaXMN2CYAG/88vF0jIw+Nj2HNUv39MCaKu83ub7bOpRheBeiLhDLFqolsBVuTW877kj+ZAZiZ7zjgvQhLq8AAAAwAABgUAAABZQZokbEN//oywAABOf74G0j1Fegz3wfyJdDDVZeCCCEFaiuTK0ZLQUHJrs3mYj7jq0S/WgNO6a/7wMXjJF08NjUwVkfqpsHbp0PQwt/6CdKncfUjNlbD9KqkAAAAfQZ5CeIV/AAAZG3R63fPofDtuQAxCzeriEcO0VXcLKAAAABcBnmF0Qn8AACfeX2ippVPU+8J2xxDFgAAAACEBnmNqQn8AACa/Gs6R/3j3zbj2cULR8zRyBMxsUIIP4IEAAABaQZpoSahBaJlMCG///oywAABMEMGAIfE5aoDk/Jgzq7+eFlB8HgLV7J6YLMXOusqxzMF6dLqANM6l0XtvMyjEHtwe0NxK2crxmeeLi+dheOurrKcjUfCbrSSpAAAAH0GehkURLCv/AAAYiY5swthLC0qeNKUoYQPgRACSvcAAAAAOAZ6ldEJ/AAADAAADAakAAAAmAZ6nakJ/AAAmsisCA56ONojexMFH7YDQ6xJ7L1GbmuwrZ83MX3cAAAB/QZqsSahBbJlMCG///oywAABMEMF/LGkOfOCzp0/PtZR5vDADdPspi7XQVVdxF+ilsTfAUcUmSlRMJkJkw6v+hWIyG0qeAO5Wcl2Vpl10HU4Q4LTi5NrTxLM/+6RTbDpLJhfEG5hVM5Qbmh1HI0c6simjdWXJgJ17r6bXksNkJwAAADJBnspFFSwr/wAAGImNqNpiumKABxT9Du/uRZB+y1seU7zzhs2gCUwkuZJ/Ojr95CyWywAAAB0Bnul0Qn8AAAWIVx2zpUJm6Vreqe6Yi5atJjDmVAAAABcBnutqQn8AACayKwcTONj7OR42gTMtqQAAAGFBmvBJqEFsmUwIb//+jLAAAE56bz9vq9Y2pLX58keO9WwQGBXRU4Zte5jkIplUgzfzBmT4hVigN97xk/4RLdmVqEfklUirmGIBtn204eQHpA1RKtjgCZmgnnyIRBElFnfAAAAAH0GfDkUVLCv/AAAYgphN6JU5CUw/E5LKVZJ/vK6KL7kAAAAzAZ8tdEJ/AAAmwxdgwwG4PDABLFPiN4VzGuhWkilrWHFabD/dsLpmIxr45kg2Lag2Uo15AAAADgGfL2pCfwAAAwAAAwGpAAAAUUGbNEmoQWyZTAhv//6MsAAATAIFebvGCtfTO/RJiQ08eFidlviRwviPs84n3i8QeWPWzFoUkdtZ+XrlAxl078CKigf1r/mFu4oFk4ys/zTGxAAAACpBn1JFFSwr/wAAGIBrtQW3LhQq9WsmdBiMJV0qBXgMyCLJGFehtjygKPcAAAAcAZ9xdEJ/AAAmq/hbeBKdaCOIEZ65GgPdC/MrKgAAACUBn3NqQn8AACa/BCcKSkTN0bXGxqc/bL4RN3EeksLm8LF+FdwhAAAAOUGbeEmoQWyZTAhv//6MsAAATCXhtVTcJO3FhcjXuKXsw+6yFAF/5obXPm7Q9vWK9v0WzgztoorpUAAAACFBn5ZFFSwr/wAAGImDzbf6rwMbhZ6dwFWUBhIwmypIWVEAAAAOAZ+1dEJ/AAADAAADAakAAAAnAZ+3akJ/AAAmvwQnEe+yVOABdQB6GbN1wg/XgwcqUdCQ0d+o5VWBAAAAQUGbvEmoQWyZTAhv//6MsAAATBDCJGAfCrY9UC1N6zCj64iQ5mzYZKThzyWZShsuKgWBmyno9qBHgz54+b2oRhiJAAAALUGf2kUVLCv/AAAYgGwDnj2koA9/K9VUUemysm63vrWhla9YFG7s3WdZAeNcIAAAACoBn/l0Qn8AAAMCCr+Ft4EtfKE2Ss9aLUNO/NYADvxABaXu+mqX9+/PbaAAAAAXAZ/7akJ/AAAmscwJb6lv/kbZVMMI2YEAAAAzQZvgSahBbJlMCG///oywAABMAvbyegSdVg3nudhnP1YMRnRPMVAFCJ+9sMMXPf5Swk0gAAAAM0GeHkUVLCv/AAAYiYPNtVJWSBwAIvuVVBzIIlcrnC3CTqVjaGfZS/STMIxqsPEgg3+LKgAAABwBnj10Qn8AAAWIUmmwhTl5bY7SWf4HakjMrE15AAAAGAGeP2pCfwAAJr8EJxLJaZq5Dy6rxJ6pJwAAAHdBmiRJqEFsmUwIb//+jLAAAEwQwUgLWPpCQkOM11CVDQhZD1GCZhI0ypImDkWhH7KHe9dRfuDG9hMCXQDyuNtp1CAuqmJc6ODiRR6TOwctGdU7D7KJRkT8tZFoGQmTfL9HqaHU2TBAwW2of6fcdAeW0oYSoYYigQAAADVBnkJFFSwr/wAAGImDzbbZdVtNvXfQgAxaRH8VpMZJzwsHq3ys7wZoSvBIeCTAkKLTkIDXgAAAABsBnmF0Qn8AAAWIUmmwhTl5FIE01NGWmYIuPcAAAAApAZ5jakJ/AAAmvwQnEsnDBogA8W2lwupdGv6GIwn5W8CjuQIJgDH54ykAAABoQZpoSahBbJlMCG///oywAAAccLqkkHBPmz7FKjOtPYH0aMjon76Wf0FdjNCa3m9MzH5Y79WOUVfjVLo0B1kfK10dfoZ/gZnx0gO1erYpHOWRakxmGEkZDdfZFIwHUJdr2XhsCqs+U+MAAAAjQZ6GRRUsK/8AAAMDdTB596NmKP43FKbYCu9BAv2KGDCjY+AAAAAQAZ6ldEJ/AAADAMPhPsCigQAAABwBnqdqQn8AAAWKZvE4BWZnHcp2APOxh/YY8lRYAAAAeUGarEmoQWyZTAhv//6MsAAAHHK5FSVMxGATVac7nh/fF7rXZpzGxojQdeRwU255wbx2P7RUojY1p4zgODApCujlCyEubgXX8SuLJeT0Gaez/b1c92xG60Sj/1jounfLbg46Zh5jmrheyaqCKe4UBdQTwfDx+baQllsAAAAfQZ7KRRUsK/8AAAkr+ucbzS9cUUHoVXhVNR0hIoOJIQAAABwBnul0Qn8AAA58UPDNQ8Vayy39ftvAsd/pxKLAAAAADgGe62pCfwAAAwAAAwGpAAAAtkGa8EmoQWyZTAhv//6MsAAAHHK4OYgBB6mInterBab//SYI1c6yrxBtoeMlA2ZBeM/HFqTVwKhgYstbHw5z0N0JjJuPoA4Pc6mkEDLHRgBPBVq/T4fIBW/80lkTseHST+9R6Iav2ReEoxLzu7mn2fhcMOEenOTWpHdDMUQMYEAe52b1auohnsLxte4EoG6lLT1glpJyr1nPY23YtDX+/T/MlBfwy7b+67T87/SNrgHtyzp/MgaAAAAAMkGfDkUVLCv/AAAJLY9hO7PKuJPX+JoWfJeYOy4vx4qaNjG+lqnlzvAtj2Zlduh/WWhNAAAAHAGfLXRCfwAADnw+2EUBj0zAAY0V8gFMb5uia8EAAAAuAZ8vakJ/AAAOfmouqoi+o3m5U6bf4gem6Zta5fACKz5Lo++9yAU751Eh5z4IMAAAAGhBmzRJqEFsmUwIb//+jLAAAByXROfE/2kekCPiGPp3cwgBc09ji1cbnTibz38cnqjA7l5+sCLX4S1NMrkNq3zbkVNqzryTMrJPLT5dut4wOyOaH3/ermUs9TzwkmKGY35XH9sJVFb1gAAAAB1Bn1JFFSwr/wAAAwN0TWbta0vXFFPuGAgQ2XubbQAAABsBn3F0Qn8AAAVkXOE6AkYkoUIZgWAI6kL56wEAAAAOAZ9zakJ/AAADAAADAakAAADtQZt4SahBbJlMCG///oywAABMficnPKsdhzDGoQwFHAPEzFyp2P+NsZJi9xwKMhvP+yA6hDCenH7GQISZTH7Y4CpBWNlg37/6c4GtJIDTuEbLAkDfRFe44QE3srriy2wKkML1N1HWveIYb8wJzbuSzW8TQhNjhzwUwGSwpKAXlWtXgt0LzIG9TrO138Oo/5mHcUvkDTFRxPANO7dXKxdh01TuZM9T800Ar1NuGa6QP0JvnvkLn6Q00CAE7JfweEVyj6/pP0fTc+72MFyu4lKrwEdIXGLy7yVcx7DPSQaNuzRalfgcHn4wHUuG/0uMAAAAI0GflkUVLCv/AAAYgmuyJS4y6ohIKtp2kiWtUJ/iMf/Frz2xAAAAIQGftXRCfwAAJsMYBPjMokCsqvcjsJH7oEGoh3XkxReWRwAAAA4Bn7dqQn8AAAMAAAMBqQAAAG5Bm7xJqEFsmUwIb//+jLAAABqJRXAhgZvGq8TpRrDqgGESH8UMU254LbQAxewBlITAHphxqxiC5s4X87apYY3m2oX5rKI/zQAU58xwP0vH+jgDH6P2oEBHrbP3o03HSH7570LZJFztDQNzf2hPewAAAB1Bn9pFFSwr/wAACGwKG0zL5gxWhIo34XH1NFdbZgAAABsBn/l0Qn8AAA2F64SlSidvgTe5NozUnTIKSYAAAAAQAZ/7akJ/AAADAAkvxvZrQQAAAKFBm+BJqEFsmUwIb//+jLAAAEYl3ODRLgKBB6A2MmDXEIPaT/Gk/Iis8qifDTuUEVJEvK81S55Iz6fo5wObc8yyJhyiLxiM3jx6YPsfrZIYz0Un1/1BTjFK5NxuHnkw7iIL4zBW+0IAEttnKFiBE3cV513NcH0buBfIOTXzI9ZQyfZ8vZL5mZU1hagHlPlOkPcKR7DIzjnrf46jSzWiWKcBLwAAADVBnh5FFSwr/wAAFrUrN2taXriig8IwucvvzfFzJ2bc4X8lwA4hKxMmBzzxbP0uqxcSJFAb0AAAADgBnj10Qn8AACPDF2nrsSzKxhbYGqYdSJWgQjJyghRL18CrqqYT7QqotmK7iHESgA2shGQMgAhvQQAAABcBnj9qQn8AAAMACj55DIrEtKhw6UMPTQAAAEpBmiRJqEFsmUwIb//+jLAAAEYCz5u9vyNayBjLh5xu9ec466J1SQBEgB4SDatYa02vO8xzoF0RBiKynnKs9YFrr3819bBkyyuMfQAAACxBnkJFFSwr/wAAFrxDzbdV3wtqEoyU5rOerch1Rd04E8c+zRY5UqsgBgf4OAAAABcBnmF0Qn8AAAUf0MEBEonb4E3rJk1QQAAAABgBnmNqQn8AACOxzAlvqW+yFUj7zsij1JEAAABEQZpoSahBbJlMCG///oywAABGELxoC1ilz8JPe6OFju2A4ad0s2+EPjy8tCAE//f8WWD3Zfog2u+3Bhq2sMrf6Q5wlfMAAAAiQZ6GRRUsK/8AABa8Q823FcysmUk+B0KLZj0TVsG09hB8GAAAABYBnqV0Qn8AAAMACj+0PYM7B68p9nqhAAAAKgGep2pCfwAAI7HMDbiLlTGDDws4TTl5PvHfhvUjde1H/ohExuGGBcB/BwAAAG1BmqxJqEFsmUwIb//+jLAAAEYB8ad5CjIre8R6pL2LRRMCeiUHaX07t9si7glSeh+lUZHqUlPoACE9ocBDJw1OSjjbB72nAjSQsw399vDX1OkKB0nm6Fp8lZEyFMzJ0TvvF7gC/CdsvSORvsTtAAAAJ0GeykUVLCv/AAAWs0f7cWCut3vBVZrb9941TW2DNsUd6xb7h+7NtwAAABsBnul0Qn8AACOr+Ft4Ep1oI4gRnpQaW+E83oAAAAAjAZ7rakJ/AAAjscwJb6izrQPrrOHxTkO+T2iN+mQAmLLO2YEAAABKQZrwSahBbJlMCG///oywAABIB/tocXb84Fn26wV5owbNZy4blvHZI87OQEXtISXgBruCJW+1zbJrW6jRud/lh1iwWr77iofXQbAAAAArQZ8ORRUsK/8AABdMPMNmyC8YsbvL/T2yj154ExiUY3d28tnAy2ANexL+DQAAACEBny10Qn8AACOsOWXe2+tKCULsY9T2kERgApJ9XgTs9s0AAAAnAZ8vakJ/AAAkvvU+QYGDT94cewAC2EXjRrbqxQlnGekFW3qDdqckAAAAmkGbNEmoQWyZTAhv//6MsAAASBCPLEGsJ4k+CsJ5HEpZ8H/JvXcPAsgbb+RPri1Rs2G1E4VylkmnvgUkqG8Z8GPIjvDNqxs9ccpoW64jgFFroi03m22zUFzziDFBdns6/dx2A9uhHtfncQz/UobaD3ybhWTVXfqJ7DBHB+Wo78FN/VVQRhgYvcNPB+Ps7yWolmfBCzKtiDyPWcAAAAA2QZ9SRRUsK/8AABdDFMYOf00Ud4SQAAAiGdZet5KCV6ux/aDXe8RRu55zaUNPRldSYTs+jkSTAAAAOwGfcXRCfwAAJMMXaK9V6jT1F71ZADKbjxyIgx6IAMwrEOGx5AuB16MMP9/tZxghP9D+Fr2YPOIfIiVAAAAALgGfc2pCfwAAJLHMD268jyhHn6FFbD2pK0SD9sn8BDJMp1jdxRzX46Z9M2Bh2zEAAACSQZt4SahBbJlMCG///oywAABIAUUaYgBAs2K8MHzEX3BusCsiGYxCZ85Yz6fBe8y7M5EEXPfyU5FqWN8BwwyIhXhZF8wqAAzXXnnWP9V+4WDJD5oB0KDP/C0KsJI7u4s7ZtYf5ZeJsjhVS/wMU+6SWKVtQjmzQ08XYhq6v1M+FiAuOhcD7xZ34hJEAHo719Z234gAAAApQZ+WRRUsK/8AABdCrB6jG0cL+XDL5MiPHlN3oGUpSzQYA1rfMHbVYqEAAABBAZ+1dEJ/AAAkwJnd6YYYZsdl/5t3ryXQ2G73lGuY+rwXaenVTMP0TrdtDXAejohGvJp4AIVbC8rFsJfyWmvd24EAAAArAZ+3akJ/AAAkrl4zgbGjZRUz+jjKCLuz3Meau5NF/YbvFq1MYardp1H2YQAAAJtBm7xJqEFsmUwIb//+jLAAAEgA7Nief6K1FPCl7oInFTm+nfURYtAukDhYM6yvdU/SB0ZBhc+yzkV5x/43gvZYAOMdN07NcHFNOBDqWte40mM6n/SGf5Q1LOF6gNs6RB/1lZUnngcMJsx/mUQr68zDFP1Ae6olPoMDYTVo7yaidyhs/SD4PPDKDKfa9Edbxg9pPbj+LfahCmlDwQAAAFBBn9pFFSwr/wAAF0KsRck00cTmF+DblpM2XdRMmLUwvbYkgRdBATxaPoiHI6ZCkc9m5mZ6aDTQJfau1hNU5yMgBaHoMp6Lrxeop0/vN6suAQAAADYBn/l0Qn8AACTC8HrF9btYEdbBwayM4y7WxgUCotYOqnHWGA5lc50LBvT9DeLIphbXUOfjsBgAAAAkAZ/7akJ/AAAkrl4zgi+0F8c/Wy+QuvryEUlYEiIzCEVAFxsxAAAAWUGb4EmoQWyZTAhn//44QAABFPL1OxcRznvp0mxZsG3/8u57zF59RubQIFHvb4BQPzNw78pdCS9UjcCpEnEpOhF7bpdV18SEqtb7QJanpxt1Z5xlQs/QowJgAAAAKkGeHkUVLCv/AAAXQqvotDzfZoAFIWIKtAtLAMCgCjTBwUa6tl23Wq1yoAAAADgBnj10Qn8AACTAmR/OzSuQGfijXMH6cNeETMjIT1TRCZ2X0RrpBh3etvzADkYABCb7ATB+x9nC2QAAACgBnj9qQn8AACSuXmkeBgidaUJfSJSjjYO0AJYCKm6HyCj+qN8vYpwRAAAAWUGaIUmoQWyZTAhv//6MsAAASALQ+jD7IJNQJ/MVHlHbDQ+q5C/YQAl7tg7zO1qhIjiQEsYajSnAVX+iUR3XmXlTOKnNLbEJjQg5YbjsvVfBvMM32FNPHO/BAAAAnkGaQ0nhClJlMFFSw3/+jLAAAEoHult8AaPbkoyADIaAd/ODjwv1KII70Qr7xYuf8XT28t+mj8B4/79IVbV4VcGgnLzofTlhnT89I3FuJbgXVSvgS+oq+L+RqygfMky2G6hWW/bRysIcYkFDoTtYxyBYhwi1y4JPIqXop2omplFZM5hUOMfVh715dxrodK5pJpyDjY2NkjledLToaqOAAAAAKgGeYmpCfwAAJb71Phnz7/VtqKzN7QSm5b3jBjoOSn2IrgnSr0NHwmIK8AAAAH1BmmdJ4Q6JlMCG//6MsAAASgE8+nNGooOStABL/au4gCtI687tXoEzC/2qLjfcV8eCAlW2x4+WEtTARxPdzc9PD9NU7WhedPjBCr/8DcnaxaaagCgpq+Po68Xvho0WpATDqEksGmyQgOGW33ZtkEFhkDA0vDcfqOImeRMyfwAAAEJBnoVFFTwr/wAAF9/sHqMasvSrNDTl772UEFVyrvP5uiYaa9qMOzNBq/NWDzQhG1NLDXExmtQaUPOgl94ToyIRsYIAAABAAZ6kdEJ/AAAlwNst8UxI3g59VDydAKjBZhvilrephKI2UgMEOyS8bjIeGH5YAAzsfpRL78RAatPADZ5AvdF7gAAAACwBnqZqQn8AACWuXjOBeTyhzVSuMgREkyPkcOfKi1WYQXjoWIUV82XIWd4NgQAAAI1BmqtJqEFomUwIb//+jLAAAEokkYA3Nb/UARcWu7D/og8/hcbNrtpBW16hpbkG94WY7CnnSmPfviicAIXSEd3uiXKPy1rygrjmRhGJTSAe6rBjoctzPA6z6YrxgfYvBKO/EAWu2p9sGlfAg7wVI+w5CHoAd93ILYkH3lgmYbfuMNZCstsr/qRAmanQy+AAAAAxQZ7JRREsK/8AABfoYyUWxq4zPEbLkoXjUhXZc/GINSjMR1RPn9Y3qZ2gZfKEeRYNgQAAAC4Bnuh0Qn8AACW/74z5WuWaJVsngb8FCwZFN7blMiVwlGySA5cIp3Lot0oHg1e7AAAALQGe6mpCfwAAJa5eM4IwTaAEsJ+YSHEYjkPKJ+ZqCnlvmhd48v3eVZluqn8h2gAAAMJBmu9JqEFsmUwIb//+jLAAAEoBUEXyxt7BmtXyGvORPOWlzaHCfuHRf75/gTqUAF+6AmFWHARhPTWHGlWR4dUvSa8isgXNQa1fBFNqZRaf+kyij7fz8Uu2JFM/a5KAKKouwYL38LN0SfdJ7OOCFFnR8mU2vWSuWTr5uSj7j7MPMswcz1ckuzaG5Zq/4tOT+ePkDHlBW66McJ686/92s3rsyamAjHUfLuqIEVkv7YHD21u1z6SnFla4M2aUlLZwZx7JqQAAAEBBnw1FFSwr/wAAF98e4Yg5MNgQ39qO6qbsImBA4zlBsarzQF0F7xkBNG0dGnC86vfG1TQcVybtW2oSpxx67FOAAAAALQGfLHRCfwAAJapEJjSz4ED74MVUPo3W5o34SDojhxb2WR17UcsLsUqihEHTgQAAAD0Bny5qQn8AACWuDPu7Q3QAku5I+JzC90UL/5th6q/xSKZ5TYI9hSTeHtATSb6q4vjzMWOBkdgdjuytIM+BAAAAuUGbMUmoQWyZTBRMN//+jLAAAEoB8oB6BSN2DILo3p++AQaYNFku20ImpRbApjOVsferF/Z4MzqHaG/Ko//joHbLg47S34gBeivZ2/NTCWPGwpkf1vBcaKIo2mmM4mZlLMwjlzKhECqk/e8MQuJPQGWhm5J98xEtjl7/6zVkavbpjsFu9ixSPD1mAvcsJXo9vvAQJgIQ3qew/mPUhHqWrm7Wowss3fsnmh6TqCSV/uyTz13vv8UJws7JAAAANAGfUGpCfwAAJa5gQv5F8ylLOGRRMZlGTRabqvDlZr5iyyvtgNcPIcCdj6pddTURurkDPnwAAACRQZtVSeEKUmUwIb/+jLAAAEwBXy0WNa631gDZ1z0xffJfbFg6ii/BOZCfME/mXQ5E3uLmeLX1PFgzuZjtseG1iFxsMUtEtZ+Ua55PNO70XyYRZAgFMyDO0quEXmCiZKMaRUeliHai1Smf//nAD1cZtjPpjbDrfJt13oyDNnH3kFcpacBey2vnrnTzhV/My+dZ9QAAACpBn3NFNEwr/wAAGIibTfUIwMGBpGZ8NrE4GYfvo6OZ0T+ywt/TDHOuGvAAAAAhAZ+SdEJ/AAAmwxHm1cMX6asapqc6FCYhOADTshuMCx7hAAAAJwGflGpCfwAAJq1bw4krxSrkI+uNy/uaWuC+9fIxvvO5p4+DeZprwAAAALNBm5lJqEFomUwIb//+jLAAAEwpNAqniD4qEgALDCUKCZ4IFCqaxNtbprpZ5/cf5v0NNFFBu5HTTKnQ+VpJkXJo44WDMIopP0j+ugVGNTY2cTMpIpbRCRZ1sVqoVtNzk3Ip1NVIupelKEz8VTtnUL+MDvZU237XHP1b+zdVTfpILkbA1hMqfAjZgsBOUFzolpneRob5VJ0OkNAgAj6ICit/ko5/56ncNC/QHRqqUTB1MFHWwQAAAChBn7dFESwr/wAAGH/r6LQ808GL5sKnnJiZ5IR09roiVsTc94fRO6uDAAAAJAGf1nRCfwAAJsCZ3elekdyKXQ4RYLKzKQJlqOHgmnUPprPZrwAAADwBn9hqQn8AACauXjN+6LSdJujSGq/EmkiI80l+0Ou7MBNAMlF3Ua8KpHYkh6nsMgwgAipTq2vYnhO4U5UAAAC2QZvdSahBbJlMCG///oywAABL8o2Uy4/h96zbEqF6AFUs4w+LQUUXf1Jz7ZfSWdJPkZwKUAtDh3A85uWcnZ2u1rUWtwA69baNOwccA41Ke3VByF8ErnxKsT68GnzWhcy48EqGL0cMGrFswe9029D7fLEtKKPoQVislmCD13tRPq7CHWSSDAbIZue77PCg1u4Cn6yVJFHGzISdLGHzKB5KbIy1DoRzlpziQAoALNNsCJlQ51WzCa0AAABGQZ/7RRUsK/8AABh/7B6jz482doiMy2myhB9DVFMwyJj8GmYXzQgKY/UgjDBgcXZcTEkjofe9qovhlV1lgqDoj1kjNhp7uAAAACgBnhp0Qn8AACbAmR/OzDDrevW+FLQib4DUSoXw6bgL/luVeMpxpL4JAAAANAGeHGpCfwAAJq5ePZCIyI2X0DARaWSycCSJjzM7ULyFH4x+hR9iHCNngCtFRG0yekFp93AAAACTQZofSahBbJlMFEw3//6MsAAATALRAQ6b1KO180VIASQF9q3r36vxhcoTXAb3SVt/6DunJMKimaFzcTTCsbeCVvhkOdFMf3hw20KXfwzcfI18EnaIXpJfSkBsKk4cXOBVq1fgFMPy327P4QSOF96r9idtmSLzWTUxHe7AhwfFD0l1BpAB3DFaFkYN9ZQLsvJ1SMMgAAAALAGePmpCfwAAJrI8rwYntWU2EH3sbh/1JeCPrL9uo84OmKgzvMrNTCkGI9ixAAAAyUGaI0nhClJlMCG//oywAABOAT5gwKjvnTOOR1VM5BkGYRwiWTv9Le54ritWnr46Hij5QG8CkSNJSEohr0EP+VtDvu+j0XaEGdT8ewOi7p+ExwmF9nqK9kh3GTkCDJ/tqKF/IBuc60mq6n6n07OqUXacGUVSOONMeQhx2DMyVq++SK9/yMtJGBF6ta8UNrB9OV8h2MLyMQykggushKsqSBFlSNwBz8Ehhqz3tfkNs5OdaaGsiEcpZgJMqRS2DJmRSJp0fl9SAWpmsQAAAC5BnkFFNEwr/wAAGSl8wxGVJNZEZ8zuq9xVmesvChphz5RMMwgGFC5kwdA4O3hBAAAAJwGeYHRCfwAAJsCZMriLMYpcugHJVcIZGyX+muBsJ8+VERDfevdqgAAAACEBnmJqQn8AACfZbjiYixTjYI8lg5OoxGSLpfS2nQvqcCwAAADWQZpnSahBaJlMCG///oywAABOEI8sqYPQAtFVmA2r8OkzSdnZJWyENWKTe2XJ2ifj+Bd4vqLWO8GT19lKIYSyOmQPmqeHhPEJ4X8N8ltTCUwWDOZYIsrkRXymadBgrazEZoGt0Lu51G7MbAjyZEvdxxhq1M2x6DTRvai3nMaKg6juRf4/SADB0S0Je7GQMtZc6LmlyLiJRhjci+skXzCbKRkQTMb2n1j2ihgypQ+nwFj7Hiza07TepTW8T2hwL8pD8VAjEV21QjZQ74z//pyabzI5N+1HIQAAACdBnoVFESwr/wAAGSCHtw25Dy0SMj/7SXiMKGRwiM1XvFssgYBhsggAAAAjAZ6kdEJ/AAAn3jThiMK5JeKvwwjTvkY4UDyne4gmccowA9wAAAAlAZ6makJ/AAAnyYB/Ty+xXcbYE7Nx3if4FlQiW8AAP09VF7fa2QAAAJ1BmqtJqEFsmUwIb//+jLAAAE4A7LOFIgDEaRLD7Xar6xHRDZ4O0LYyUn9WDPER/I9AmJzQFd0JrJocFdEkLnm0i17I6PnxyGGfD1mK+YUGcihuISQ1M/xEsMWT381iov43IMp0MC+3CQ3ifBm3WFvXOf8QO1g1UAn8/Kqtb//nwX2pdhrIk75Av/JTTOiYEe1wUObavK1gWMPovDKAAAAALkGeyUUVLCv/AAAZKJti5KK0VU56oQNkIRVlFD0ESbWOuYljxvOCZ+v2GQddzp0AAAAnAZ7odEJ/AAAn21Y41A7myv1GBs4DkSrEhAqdWjazRWUkuxNFGeCBAAAANAGe6mpCfwAAJ8mAdt9kqZph0eEPLoiiAJ2OlY/6/1fTuFeoMxESQEKDcgBCk5axTryUxYAAAACOQZrvSahBbJlMCG///oywAABOL79GCis5A1tX2ARAB+gc+Og+T1xhfEFenJMUSV7cWKsLx0L26zyWkqa/PH7rm/5Qi/szu/nHZGKKPoOwCsJ56tchIrZD0U2IxCpzRtov2M4MS2HHr0jza5UNWHq0cCbgthlen1q7SdN5/mDBH7riL8LAb3tKG6zzJ4CE9QAAACtBnw1FFSwr/wAAGSCHtw25HC/l0NBzHoUAdEDHzATPwcSJblRjN+yfNZ3WAAAALwGfLHRCfwAAJ8KTTtUnOsydhnnmFclZT9o82EcoVpw1LlT0Y3edKJFcBbvgWxlxAAAAKQGfLmpCfwAAJ8mAcNyg1xcfZERTBK8ZPu8xOEAAG0AKPeVlh3HaKYYtAAAAaEGbMkmoQWyZTAhv//6MsAAATlZUsvEkqNICW4AE6uqGbjhAw4xlJIYXpoJbj1TQPuV3/uwLJ3WYq+D6lT3J2ATt4oVdmJMiXKGB0jmr6gyWE8vptnKha3Am7VpHEQdy7yjZraryEEswAAAAMUGfUEUVLCv/AAAZKYPNiigF2ddiG9jwckVuubDoU6bnTFtF3iE8Qb30qDqN0/5Ve3AAAAAlAZ9xakJ/AAAnyYBxBJEJDLAtbDAySt7l9ZrfqZOLh6bK2i+2gQAAAHFBm3RJqEFsmUwUTDf//oywAABOELxoC1uD4J0hTlYIgDekWUxAnOPn7LL0H6J2RerR8b5wbAYHvArkboJcToPZ2XdWLQf17zj05baIXEoLxBIWX1S3kI2b/L25sfu7j3JO/xF4u4ZuRRxkxrLYchtmQAAAACsBn5NqQn8AACdDaZ0rGNx2MFkvWQr/7f5oAMfSBgV9tuTea1iMjU9iyz8rAAAAckGbmEnhClJlMCG//oywAABOJbzCtUgDlAQ8Kh5++uM71j9FHItdvX5Nas3e396Gtq8L/xosgFuEu+Us3Ww2ON3Uk1Y7sKd3a055QGTw9IiUzWuJ+dmcNgVDZll4NW+AtOhk9IDkT2unG+k8hDP0An5/RgAAACNBn7ZFNEwr/wAAGSJrN2uYNI1kZI5XQ1xHB6/r7HdAyrkygQAAACwBn9V0Qn8AACfCk02EJsZwBSns1JGdowSzUac0RiEbBVvrGmWnx0p54e0Z8QAAABABn9dqQn8AAAXTNNW6gEXBAAAAYkGb3EmoQWiZTAhv//6MsAAAThRbiYAE2qqOASKF53IiAz8qznsHeEZeei03IQsdldOyZJyTV+rlZ2CTpcO5R23xNPJXZSlqiQ8qfuvObXyA8tz6RD3dS43jYy7vjZ4qc+5NAAAAL0Gf+kURLCv/AAAZKYPNzaX8kWbLep568DclIFwx/aCqrvoL7hKt05QxkabZuCNMAAAAGwGeGXRCfwAADt18glu8FdBftrBKuUSv0D5SqgAAACMBnhtqQn8AACfXqJ5V6PFLoidLpY+mnxD5gIicHisH7j5xwQAAAGNBmgBJqEFsmUwIb//+jLAAAE5c0TN5RQNhxd8zFNiP4c/4MKBmUltExd3u7OMuBeKB/CwAWwkBHYkpv/ArqjPd+0j6CC/8TKnKxa8M2qrAuyGMulaXtxN5Cy/ammNsG2ASzoAAAAApQZ4+RRUsK/8AABkimU68PGdsyEf5VcEtTYPQwrK3GVABsK6YmVaqCPcAAAAcAZ5ddEJ/AAAn3oppuNFz1FA7czjVx5u+aGa2gQAAABcBnl9qQn8AAAXTLmZkCKSQPRpP2zA90wAAAF5BmkRJqEFsmUwIb//+jLAAAB0o5NOHkMrRH3RT7UifiXVhY9FRw188AWMOijmzWxeSIAv9HgAkC3tgIzSIhf0D46kuSH1ZpspmEulfps6uHTGj2cIMcjIIeEBxRKVBAAAAH0GeYkUVLCv/AAAJbAy4UMzENrTTlCO5YeE8O8phPcAAAAAeAZ6BdEJ/AAAO3ZEpnQkVqNTSyKVHXwMxKuKJ6p7gAAAADwGeg2pCfwAABdM1CgCHgQAAAIFBmohJqEFsmUwIb//+jLAAAEwHG5iwP8q8+sjLFD7bbEvvJAsFazFymvXfoURhg4/SFvH4m2c/IUkzOj02rhdcHrjE+RL7NVFsVVLRtKO+NakV8Cu0IfsYe/vFwoe5o5d1AHGgO2YYyRhoNSZ1odhVzqbUSN/JbKqges1+lXktpUAAAAAgQZ6mRRUsK/8AAAlsDLhSh86X1njCidlz5AlKxfwQay8AAAAcAZ7FdEJ/AAAO3ZEps0OKoRjpyLD7p4RMPEv4sQAAABABnsdqQn8AAAXTNNW6gEXAAAAAeEGazEmoQWyZTAhv//6MsAAATgL3eepEqvXWLkO/Qw9LyES2Yxp8EkSTmyDQl83/yBKD+2usF1sMRYA4mgzErs0FqxBHG1YTjbJbKEg4PnljFQN2Tx9cTN63voenmursne6u0u3W1J/pec0dyR85FYThzwgieBUggQAAADRBnupFFSwr/wAAGSmDzgZ9F0WkQsgZPU7+LqUS+Xjp+gZihz/86WqOTe2YY0lle9Wb1y1tAAAAHgGfCXRCfwAABdBXHbFrX81pyB/wRtleTPKuLEz22gAAACIBnwtqQn8AACfJgHDdsxCAUmbHLiyY5zhHy8hpPZa+AEPBAAAAV0GbEEmoQWyZTAhv//6MsAAAThDBdYzbpliERRoH7mBK6hAELJFds6sJ9aVuWpjLc+GbO1nHtnXRUj3EwzuRo4M1Yq0y9kH66Y+3D08MJ2eR99Rd64CPiwAAAC1Bny5FFSwr/wAAGSmDzIXUs/H6lJtm6KOKHAdAiS9dW2Sa9ZTFAWQrbtmCWLEAAAAYAZ9NdEJ/AAAF0FcdsWtS3RitlbHf/KqhAAAAHQGfT2pCfwAAJ8mAcNyg1xcy9uxGNO1Ip1HgFBdoAAAAjEGbVEmoQWyZTAhv//6MsAAATiXh4L3jAVI6MdU+hDPCtDpeXnKUpQDqXVakD6bj142EhBbL5SzRvOQjX0gWOHV2JQrSFbzsmbFC2S7kBUKsKFbX+bB3hRaJpoFd8kobROMKKoCBC0nucuswCc9TE3cF5T12SvZ4NOC3sixVTZPPQG/c7xITVA6NZNdAAAAALUGfckUVLCv/AAAZImsy9FWSINtn3W30ATo/EXly9ALmm55YaADFeHYLjmG04QAAABgBn5F0Qn8AACfeX2ippVPU+8IJjWVYXmYAAAAiAZ+TakJ/AAAO1kqMNyg1xcemb7aZ9ZxnCPZNLW+Hf911lQAAAIBBm5hJqEFsmUwIb//+jLAAAE5EJOktIOXRL+9wRwT13zSx+Sp/SBY8xxoRxzb/5Sa69loglPEFAH3yVOhY21zXOMHgsdzqkg1BeEFDDfXoRjYnbK+LWGO/JvJMvsW85hf54RrqTR1NJKf13Ije16oB0jTcP78c7aB6Su7owJaUAQAAADNBn7ZFFSwr/wAAGSJrMvN6hSq1If+GVRbF9HMFmPHoB9JpK3taPFuBYPkNFgXpOk/WfF0AAAAnAZ/VdEJ/AAAn3l9lsJYzpy3zqdakfeL2OYpLXpjF+dPiuqNXdMxZAAAAJAGf12pCfwAAAwIUrNXPfm1kYXO1Grd9Gjg3h8SmZrQv2omo2wAAAFFBm9xJqEFsmUwIb//+jLAAAE4C9vLWgGdZmxeimUnIV2A/Qi09XjdH8zRcSkJs1JkcRvEWyu6/1TdPhbaibSSyYnVxQ6NRmv7/4y3aGH+eE4EAAAApQZ/6RRUsK/8AABkpg823a5wImfAcTXJXiC2QOzHwVdlRQ3Us5tRe7rYAAAAbAZ4ZdEJ/AAAFiFt56+jYWi8lcE5v1bcl2mdbAAAAJAGeG2pCfwAAJ8mAcNycsNCvUbWvTLQXU/8JZ4y9y9cX0tYhtwAAAEBBmgBJqEFsmUwIb//+jLAAAE4CBXk9Ak6rBvPc7CgrrnCVNvHbeALbVAEawPu+XbINRTUVa/oCyic6eDee5PsgAAAAKEGePkUVLCv/AAAZIGu1BbfP9PJlJw6SUOh9mliEXbPEuXelJV31cWAAAAAcAZ5ddEJ/AAAnwpNNhCnLyKQIEZ65GgPdC/MrFwAAAB0Bnl9qQn8AACfZhLPcSWmauFZTHyo7fi+tjQSOsQAAAHhBmkRJqEFsmUwIb//+jLAAAE4C9tZLmrl130hOpYEirf/5IRVBI+yE7ZcwAAZ+eouhXjZcg9Aukfy0StHNm9/u17eTo/VLlSyQFSe1opRtESnHn0jUrgSzUtTuPgGRnlZfey6Hbo+rjDKphubIBNkMp2V4WFikftkAAAAvQZ5iRRUsK/8AABkiazd4hWPrNOMRB34W8rDGqfEH5XkBl+Y+a+m+1RTm7raCQkgAAAAaAZ6BdEJ/AAAn3l9osjpU/L0B0qUhYeMET3oAAAAkAZ6DakJ/AAAFrzCWfDTSrRrHlEZ3A0sOLuGLI6ymF1UDx2XBAAAAR0Gah0moQWyZTAhv//6MsAAAThRdT5jeJEt/sHzjqU715tdP+YamGk38/DRT3VDpKApO0Zw5E1GfSUrLhDZNUG83SrYvendAAAAAIEGepUUVLCv/AAAZIms3a1peuKKET0WuBWXGH4fvlpTgAAAADgGexmpCfwAAAwAAAwGpAAAAWUGay0moQWyZTAhv//6MsAAATgIIviAj2UKNannt+xF3J7Zo9LIGP5J+uQXoNayUdnspjpPVPQOw/mGwufpxK9Z2eTf+Y0P5ZgZpEk0GtqP2l5GrnVXzvHbMAAAAMUGe6UUVLCv/AAAZKNQ3IwnG/uepI6HCAIV80e6X0xSS1FCjY4kQQSKL3tCY3T96HHEAAAAdAZ8IdEJ/AAAnwpNNhCnLyKQIEZ65GgIgkCK4Vi0AAAAZAZ8KakJ/AAAn2YSz3ElpmrhWVRbzgh1ETAAAAHhBmw9JqEFsmUwIb//+jLAAAE56sDr+YSYFhC6A73AmVUVOCUM7AfkGv8JtHgxj5PsLTepG4lVKtOa8+iJU1Bqy13sDdCxRjU1zYaHf3hn/ViqXvqpzdDvsE8aw7spzWxWMSlf5/vVTFbFS1GQ19WVKsGBM0x3fw+cAAAA0QZ8tRRUsK/8AABkgbAOjIIUjW1QA3WsW35UQGD173sFcpFcWJvuLcDziQ9Q2YgK2R+BvggAAACABn0x0Qn8AAAMCHDPLnz3tFb9FdrmPwD0SUGPSzkAnwQAAABgBn05qQn8AACfJgHDcoNa5ODPxFdVUJOEAAABcQZtTSahBbJlMCG///oywAABOf7BAND7rTgiYkJNPaitwa4Z0rSxDIogFZ/9yHvz0wQkItHcVYGuqqAiEazw8mY3PKnTfEcd2Zowqxu7IbQQndgxq0LVIXZUY+oAAAAAgQZ9xRRUsK/8AABkiazdrWl64opY9c+PF/QOfQmz9IIAAAAAmAZ+QdEJ/AAAmw0ccA2+cfPcs5Mp/IuSAT8tPWfmqV4ypvOx74rcAAAAQAZ+SakJ/AAADAAQX43t1wAAAAGVBm5dJqEFsmUwIb//+jLAAAE56bZ5eFH7g00nxFR3D2UPRZ42K2EXb5lVWR96N6cFmpptmhwgdYbkAKjp3yVNZJ7aBBuSIhzayJWw9ctIKtxLH+mQwUSRZMoRftaNDAgfkPddkgQAAAC9Bn7VFFSwr/wAAGIBsiHvCfwAEQ/n9kEDc/87nwG11Y5RRfbMw5atAyZcoYzEcEAAAAB0Bn9R0Qn8AACasOQWuTx7Z5zMngMjJUpZWngctlQAAACoBn9ZqQn8AACa/Gs85hTDC5MCiNBNuN4bN9kT3G4JExM3fJGOeWOUBv+EAAAB7QZvbSahBbJlMCG///oywAABL8o69ccW5TNvnyR3yTfft8/MmYq2JGra/Iwi/7H7GWt+c9SL0mczA3AOhk4NNs0VHym+vmTvNhWguVTle2FxWL4k2LPrzSa0d346fyCTCt9Ez7s3A9Vtj9snZ8eqzpu76pYXZYdqUBKxnAAAALkGf+UUVLCv/AAAYiYPNHL5COlACxUMpPfhjj1J9ZZ6L2gAC0F2PkFwgGxzqz90AAAAxAZ4YdEJ/AAAOfFPJ0OOMnawMJw242q5YWqnxFz3QJmFXa53cg/o/RHOinN2hltoD9wAAAB4BnhpqQn8AACaxzAjOPMfTE/XiW6VnXqnYa6XxAqYAAABmQZofSahBbJlMCG///oywAABMEMFVya077FfYD/OU5Ruje4IDGWpX/r+FfW2cFFq4Zx90NhBLfN2otw5ebudgfQ/RGRjC/uS5ZuUd9XY1yrP6VqHRptj+9oe3H0Iqa65YFPOJZeLdAAAAJUGePUUVLCv/AAAYgms3M4QjgX00X2rlF3/elrOSlyB5rPfJUyoAAAAiAZ5cdEJ/AAAmwxdosDpdOVVqYPs28MrjX659HyE3NqXVlQAAABQBnl5qQn8AAA4r/qtjWWBRDRQ9oQAAAFBBmkNJqEFsmUwIb//+jLAAAEwC9pvPvx/wojV1nPKrRTX4VBOWAFh3JYxiegxHOk5seVA1G0kve/kwuY6B7womw4WTMSn4kH9UNlTHnRpTkQAAACVBnmFFFSwr/wAAGIJrN2tbIK0ZQdcROx3OuvvEJNTlfcCS4+1BAAAAIQGegHRCfwAAJsMXaIsoGexeWl+iQhvuaT77IBUsxbdA5QAAABsBnoJqQn8AAAMB/H/Vd7biGqFEW+i8/jYJ6yoAAABVQZqHSahBbJlMCG///oywAABMJaTAvjMAcoDi3+qqCBErk+/S+ZNkIYUQOvQKdfO7CDPMr7Tdc4OZtvuh5G9XZbitfB/Glsfsh/akqUcvzJgb4YH3QQAAAB1BnqVFFSwr/wAAGIJrN2taXriig8IwsDncx5qGvAAAACUBnsR0Qn8AACbDF2iNH1X0/plsHTR5O7lgCxJxuJiPgcU0Bos+AAAADgGexmpCfwAAAwAAAwGpAAAARkGay0moQWyZTAhv//6MsAAATCVvddhNZoBFlKbwHyl7BIruir/EL0cdDC80SZhqi868zXmNvHMoOQhSqYFziAGIpKIL6IgAAAAfQZ7pRRUsK/8AABiCazdrWl64ooPCMLA53NO3xrpUwQAAACcBnwh0Qn8AACbDF2iyOEOAy5Tel7UFqetaw3wC6abz3xppIN/TCKEAAAAQAZ8KakJ/AAADAAGck8L6QAAAADlBmw9JqEFsmUwIb//+jLAAAEwUXUkfzx26OdDGQIaTp1SXIQTiN2qzQAaorzKTmZ3X/PFGvy3ATe0AAAAjQZ8tRRUsK/8AABiCazdrWl64ooPCSdQBduI30wOpv4pZkqYAAAAoAZ9MdEJ/AAAmwxdoqaAN7FOACu9oCiBx+O9G68znaiOa1+GdCGFagQAAABABn05qQn8AAAMAAZyTwvpBAAAAS0GbU0moQWyZTAhv//6MsAAATBRdRSNs8IquM/qAAOFujADGTA7WmLKNib7r2+irYcetT6TDMU6z96iGIdwYQjk/Y6uAbgE4IkUhQAAAACNBn3FFFSwr/wAAGIJrN2taXriig/yAALrQ93tpR6gHik5SpgAAACsBn5B0Qn8AACbDF2iNH2c/AAW1S0xior0JHWMgiQ7ec2ZK5yePkFMbPDJ/AAAAEAGfkmpCfwAAAwABnJPC+kAAAABNQZuXSahBbJlMCGf//jhAAAElTy+n4Goqzcyz2gSBnghCCNyq1iia+Ui0ZYj9pCdmDTP/XGL9u0LTZPlrko0bGrBIY+S9QAqbS/G2g9EAAAA2QZ+1RRUsK/8AABiJg823FoK38AC1sM9WHQnMqT3K3HnxJQBE8q5v4mcd8VK7RCW7yXiOugWwAAAAHgGf1HRCfwAABYhSabCDh6SwsmdZR86CSXEiA8AnwQAAABwBn9ZqQn8AACaxy+jB+/QjtFsCY52iUzbGFiHhAAAANUGb2UmoQWyZTBRMK//94QAAAwCjAosnRG/lVZ+iQGKNi+ZRngAHHxEkZlcInvpNOdFROiKBAAAAGgGf+GpCfwAABWVAleqJPAmBVsHeSApiD+NfAAAB+2WIhAA///728P4FNjuY0JcRzeidMx+/Fbi6NDe9zgAAAwAAAwAACNCLwW1jsC2M+AAABagA5AeIYoYAiYqxUCZGB4LR8pAFYBFqR5SJBCHOeyGH62XyhL3jSe5gaQEdu/HGj+CQoieShhJBgbAIAFupmE0fJ3nmmPhfkQk4ZTM6XbghBNoNxwmrxYgwyrfnP3f+G8ZktxyQB3PqK0LJ24vnwQBmA+Voo4D3NsmDgrduyWcj9OAnU2YMCmCwjI2o5kc5h8ksQG4thqhqS7oJx7Xpkw13oucpvztwd9iOgd5L5tvEVhlXCKZx5Pq9942wIsCSrTrmWYoLO1jLv6SUhWpokNClCCgkg9Hxo++x3hr7yFxuHe4IPjg3bSqj0Bm0sKbRdlJqD9VgFCxTXs1Pi3iqmVHbs3wAt20DatLQ3SMJjVkOXRxJ1ONvFI2EFO6OWOH3xaUGV3VWZsMjcaYIQ/XB8vWBuRkoMO6qrfk+vpk8oeHTyDG0vjbLvm/yJafEoWTmIa/ApIKE73sleYKBdqAa0kjqEZz27B+L6mQjs9jgeIpLYNkWE5LRJugAkDJEzo4/ODZ4AAcbDicVoT/+hgNyfwWvr2k6k5AB2pfJPAKWVmTv8O2P0IHRmuDw3bRPXKt2liAKo3p8EqVl9YvgeITFQAAAAwAAAwAr4AAAAE5BmiNsQr/94QAABHQVZdMEigE7S9oI53RCsAnWZCOVFuKkvQWgSShMftcmZXgjiVgjmBrFmERHNPawnbYpjizAoAwICVKz/j0TkkeBpbAAAAApQZ5BeIV/AAAYi4uwQnP2jkuFEa3SCqkYPe2+6uU8vnjY1YCBxSvCBn0AAAAhAZ5iakJ/AAAmvwQnEslpn56YBJ/wcPxd0BNLpWtwullQAAAAMUGaZEmoQWiZTAhP//yEAAADAnuW91vcxvmGLC3n4RE4pkwUzk4EMTfhv6hiTspFB3QAADHdbW9vdgAAAGxtdmhkAAAAAAAAAAAAAAAAAAAD6AAAgtwAAQAAAQAAAAAAAAAAAAAAAAEAAAAAAAAAAAAAAAAAAAABAAAAAAAAAAAAAAAAAABAAAAAAAAAAAAAAAAAAAAAAAAAAAAAAAAAAAAAAAAAAgAAMQd0cmFrAAAAXHRraGQAAAADAAAAAAAAAAAAAAABAAAAAAAAgtwAAAAAAAAAAAAAAAAAAAAAAAEAAAAAAAAAAAAAAAAAAAABAAAAAAAAAAAAAAAAAABAAAAAAmAAAAGQAAAAAAAkZWR0cwAAABxlbHN0AAAAAAAAAAEAAILcAAAEAAABAAAAADB/bWRpYQAAACBtZGhkAAAAAAAAAAAAAAAAAAA8AAAH2gBVxAAAAAAALWhkbHIAAAAAAAAAAHZpZGUAAAAAAAAAAAAAAABWaWRlb0hhbmRsZXIAAAAwKm1pbmYAAAAUdm1oZAAAAAEAAAAAAAAAAAAAACRkaW5mAAAAHGRyZWYAAAAAAAAAAQAAAAx1cmwgAAAAAQAAL+pzdGJsAAAArnN0c2QAAAAAAAAAAQAAAJ5hdmMxAAAAAAAAAAEAAAAAAAAAAAAAAAAAAAAAAmABkABIAAAASAAAAAAAAAABAAAAAAAAAAAAAAAAAAAAAAAAAAAAAAAAAAAAAAAAAAAAGP//AAAANGF2Y0MBZAAe/+EAGGdkAB6s2UCYM6EAAAMAAQAAAwA8DxYtlgEABWjr5yyL/fj4AAAAABRidHJ0AAAAAAAAQIsAAECLAAAAGHN0dHMAAAAAAAAAAQAAA+0AAAIAAAAAJHN0c3MAAAAAAAAABQAAAAEAAAD7AAAB9QAAAu8AAAPpAAAfAGN0dHMAAAAAAAAD3gAAAAEAAAQAAAAAAQAACAAAAAACAAACAAAAAAEAAAoAAAAAAQAABAAAAAABAAAAAAAAAAEAAAIAAAAAAQAACgAAAAABAAAEAAAAAAEAAAAAAAAAAQAAAgAAAAABAAAKAAAAAAEAAAQAAAAAAQAAAAAAAAABAAACAAAAAAEAAAoAAAAAAQAABAAAAAABAAAAAAAAAAEAAAIAAAAAAQAACgAAAAABAAAEAAAAAAEAAAAAAAAAAQAAAgAAAAABAAAKAAAAAAEAAAQAAAAAAQAAAAAAAAABAAACAAAAAAEAAAoAAAAAAQAABAAAAAABAAAAAAAAAAEAAAIAAAAAAQAACgAAAAABAAAEAAAAAAEAAAAAAAAAAQAAAgAAAAABAAAKAAAAAAEAAAQAAAAAAQAAAAAAAAABAAACAAAAAAEAAAQAAAAAAQAACgAAAAABAAAEAAAAAAEAAAAAAAAAAQAAAgAAAAABAAAKAAAAAAEAAAQAAAAAAQAAAAAAAAABAAACAAAAAAMAAAQAAAAAAQAACgAAAAABAAAEAAAAAAEAAAAAAAAAAQAAAgAAAAABAAAKAAAAAAEAAAQAAAAAAQAAAAAAAAABAAACAAAAAAEAAAoAAAAAAQAABAAAAAABAAAAAAAAAAEAAAIAAAAAAQAACgAAAAABAAAEAAAAAAEAAAAAAAAAAQAAAgAAAAABAAAKAAAAAAEAAAQAAAAAAQAAAAAAAAABAAACAAAAAAEAAAoAAAAAAQAABAAAAAABAAAAAAAAAAEAAAIAAAAAAQAACgAAAAABAAAEAAAAAAEAAAAAAAAAAQAAAgAAAAABAAAKAAAAAAEAAAQAAAAAAQAAAAAAAAABAAACAAAAAAEAAAoAAAAAAQAABAAAAAABAAAAAAAAAAEAAAIAAAAAAQAABgAAAAABAAACAAAAAAEAAAYAAAAAAQAAAgAAAAABAAAKAAAAAAEAAAQAAAAAAQAAAAAAAAABAAACAAAAAAEAAAoAAAAAAQAABAAAAAABAAAAAAAAAAEAAAIAAAAAAQAACgAAAAABAAAEAAAAAAEAAAAAAAAAAQAAAgAAAAABAAAKAAAAAAEAAAQAAAAAAQAAAAAAAAABAAACAAAAAAEAAAoAAAAAAQAABAAAAAABAAAAAAAAAAEAAAIAAAAAAQAACgAAAAABAAAEAAAAAAEAAAAAAAAAAQAAAgAAAAABAAAKAAAAAAEAAAQAAAAAAQAAAAAAAAABAAACAAAAAAEAAAoAAAAAAQAABAAAAAABAAAAAAAAAAEAAAIAAAAAAQAACgAAAAABAAAEAAAAAAEAAAAAAAAAAQAAAgAAAAABAAAGAAAAAAEAAAIAAAAAAQAACgAAAAABAAAEAAAAAAEAAAAAAAAAAQAAAgAAAAABAAAKAAAAAAEAAAQAAAAAAQAAAAAAAAABAAACAAAAAAEAAAoAAAAAAQAABAAAAAABAAAAAAAAAAEAAAIAAAAAAQAACgAAAAABAAAEAAAAAAEAAAAAAAAAAQAAAgAAAAABAAAKAAAAAAEAAAQAAAAAAQAAAAAAAAABAAACAAAAAAEAAAoAAAAAAQAABAAAAAABAAAAAAAAAAEAAAIAAAAAAQAACgAAAAABAAAEAAAAAAEAAAAAAAAAAQAAAgAAAAABAAAKAAAAAAEAAAQAAAAAAQAAAAAAAAABAAACAAAAAAEAAAoAAAAAAQAABAAAAAABAAAAAAAAAAEAAAIAAAAAAQAACgAAAAABAAAEAAAAAAEAAAAAAAAAAQAAAgAAAAABAAAKAAAAAAEAAAQAAAAAAQAAAAAAAAABAAACAAAAAAEAAAoAAAAAAQAABAAAAAABAAAAAAAAAAEAAAIAAAAAAQAACgAAAAABAAAEAAAAAAEAAAAAAAAAAQAAAgAAAAABAAAKAAAAAAEAAAQAAAAAAQAAAAAAAAABAAACAAAAAAEAAAoAAAAAAQAABAAAAAABAAAAAAAAAAEAAAIAAAAAAQAACgAAAAABAAAEAAAAAAEAAAAAAAAAAQAAAgAAAAABAAAKAAAAAAEAAAQAAAAAAQAAAAAAAAABAAACAAAAAAEAAAoAAAAAAQAABAAAAAABAAAAAAAAAAEAAAIAAAAAAQAACgAAAAABAAAEAAAAAAEAAAAAAAAAAQAAAgAAAAABAAAKAAAAAAEAAAQAAAAAAQAAAAAAAAABAAACAAAAAAEAAAoAAAAAAQAABAAAAAABAAAAAAAAAAEAAAIAAAAAAQAACAAAAAACAAACAAAAAAEAAAoAAAAAAQAABAAAAAABAAAAAAAAAAEAAAIAAAAAAQAABgAAAAABAAACAAAAAAEAAAoAAAAAAQAABAAAAAABAAAAAAAAAAEAAAIAAAAAAQAACgAAAAABAAAEAAAAAAEAAAAAAAAAAQAAAgAAAAABAAAEAAAAAAEAAAoAAAAAAQAABAAAAAABAAAAAAAAAAEAAAIAAAAAAQAABAAAAAABAAAIAAAAAAIAAAIAAAAAAQAACgAAAAABAAAEAAAAAAEAAAAAAAAAAQAAAgAAAAABAAAEAAAAAAEAAAoAAAAAAQAABAAAAAABAAAAAAAAAAEAAAIAAAAAAgAABAAAAAABAAAKAAAAAAEAAAQAAAAAAQAAAAAAAAABAAACAAAAAAEAAAgAAAAAAgAAAgAAAAABAAAKAAAAAAEAAAQAAAAAAQAAAAAAAAABAAACAAAAAAEAAAoAAAAAAQAABAAAAAABAAAAAAAAAAEAAAIAAAAAAQAACgAAAAABAAAEAAAAAAEAAAAAAAAAAQAAAgAAAAABAAAKAAAAAAEAAAQAAAAAAQAAAAAAAAABAAACAAAAAAEAAAoAAAAAAQAABAAAAAABAAAAAAAAAAEAAAIAAAAAAQAACgAAAAABAAAEAAAAAAEAAAAAAAAAAQAAAgAAAAABAAAKAAAAAAEAAAQAAAAAAQAAAAAAAAABAAACAAAAAAEAAAoAAAAAAQAABAAAAAABAAAAAAAAAAEAAAIAAAAAAQAACgAAAAABAAAEAAAAAAEAAAAAAAAAAQAAAgAAAAABAAAKAAAAAAEAAAQAAAAAAQAAAAAAAAABAAACAAAAAAEAAAoAAAAAAQAABAAAAAABAAAAAAAAAAEAAAIAAAAAAQAACgAAAAABAAAEAAAAAAEAAAAAAAAAAQAAAgAAAAABAAAKAAAAAAEAAAQAAAAAAQAAAAAAAAABAAACAAAAAAEAAAoAAAAAAQAABAAAAAABAAAAAAAAAAEAAAIAAAAAAQAACgAAAAABAAAEAAAAAAEAAAAAAAAAAQAAAgAAAAABAAAKAAAAAAEAAAQAAAAAAQAAAAAAAAABAAACAAAAAAEAAAoAAAAAAQAABAAAAAABAAAAAAAAAAEAAAIAAAAAAQAACgAAAAABAAAEAAAAAAEAAAAAAAAAAQAAAgAAAAABAAAKAAAAAAEAAAQAAAAAAQAAAAAAAAABAAACAAAAAAEAAAoAAAAAAQAABAAAAAABAAAAAAAAAAEAAAIAAAAAAQAACgAAAAABAAAEAAAAAAEAAAAAAAAAAQAAAgAAAAABAAAKAAAAAAEAAAQAAAAAAQAAAAAAAAABAAACAAAAAAEAAAoAAAAAAQAABAAAAAABAAAAAAAAAAEAAAIAAAAAAQAACgAAAAABAAAEAAAAAAEAAAAAAAAAAQAAAgAAAAABAAAKAAAAAAEAAAQAAAAAAQAAAAAAAAABAAACAAAAAAEAAAoAAAAAAQAABAAAAAABAAAAAAAAAAEAAAIAAAAAAQAACgAAAAABAAAEAAAAAAEAAAAAAAAAAQAAAgAAAAABAAAKAAAAAAEAAAQAAAAAAQAAAAAAAAABAAACAAAAAAEAAAYAAAAAAQAAAgAAAAABAAAGAAAAAAEAAAIAAAAAAQAACgAAAAABAAAEAAAAAAEAAAAAAAAAAQAAAgAAAAABAAAKAAAAAAEAAAQAAAAAAQAAAAAAAAABAAACAAAAAAEAAAgAAAAAAgAAAgAAAAABAAAKAAAAAAEAAAQAAAAAAQAAAAAAAAABAAACAAAAAAEAAAoAAAAAAQAABAAAAAABAAAAAAAAAAEAAAIAAAAAAQAACgAAAAABAAAEAAAAAAEAAAAAAAAAAQAAAgAAAAABAAAKAAAAAAEAAAQAAAAAAQAAAAAAAAABAAACAAAAAAEAAAYAAAAAAQAAAgAAAAABAAAKAAAAAAEAAAQAAAAAAQAAAAAAAAABAAACAAAAAAEAAAoAAAAAAQAABAAAAAABAAAAAAAAAAEAAAIAAAAAAQAACgAAAAABAAAEAAAAAAEAAAAAAAAAAQAAAgAAAAABAAAKAAAAAAEAAAQAAAAAAQAAAAAAAAABAAACAAAAAAEAAAoAAAAAAQAABAAAAAABAAAAAAAAAAEAAAIAAAAAAQAACgAAAAABAAAEAAAAAAEAAAAAAAAAAQAAAgAAAAABAAAKAAAAAAEAAAQAAAAAAQAAAAAAAAABAAACAAAAAAEAAAgAAAAAAgAAAgAAAAABAAAEAAAAAAEAAAoAAAAAAQAABAAAAAABAAAAAAAAAAEAAAIAAAAAAQAACgAAAAABAAAEAAAAAAEAAAAAAAAAAQAAAgAAAAABAAAKAAAAAAEAAAQAAAAAAQAAAAAAAAABAAACAAAAAAEAAAoAAAAAAQAABAAAAAABAAAAAAAAAAEAAAIAAAAAAQAACAAAAAACAAACAAAAAAEAAAoAAAAAAQAABAAAAAABAAAAAAAAAAEAAAIAAAAAAQAACgAAAAABAAAEAAAAAAEAAAAAAAAAAQAAAgAAAAABAAAKAAAAAAEAAAQAAAAAAQAAAAAAAAABAAACAAAAAAEAAAoAAAAAAQAABAAAAAABAAAAAAAAAAEAAAIAAAAAAQAACgAAAAABAAAEAAAAAAEAAAAAAAAAAQAAAgAAAAABAAAKAAAAAAEAAAQAAAAAAQAAAAAAAAABAAACAAAAAAEAAAoAAAAAAQAABAAAAAABAAAAAAAAAAEAAAIAAAAAAQAACgAAAAABAAAEAAAAAAEAAAAAAAAAAQAAAgAAAAABAAAKAAAAAAEAAAQAAAAAAQAAAAAAAAABAAACAAAAAAEAAAoAAAAAAQAABAAAAAABAAAAAAAAAAEAAAIAAAAAAQAABgAAAAABAAACAAAAAAEAAAoAAAAAAQAABAAAAAABAAAAAAAAAAEAAAIAAAAAAQAABAAAAAABAAAKAAAAAAEAAAQAAAAAAQAAAAAAAAABAAACAAAAAAEAAAoAAAAAAQAABAAAAAABAAAAAAAAAAEAAAIAAAAAAQAACgAAAAABAAAEAAAAAAEAAAAAAAAAAQAAAgAAAAABAAAKAAAAAAEAAAQAAAAAAQAAAAAAAAABAAACAAAAAAEAAAoAAAAAAQAABAAAAAABAAAAAAAAAAEAAAIAAAAAAQAACgAAAAABAAAEAAAAAAEAAAAAAAAAAQAAAgAAAAABAAAKAAAAAAEAAAQAAAAAAQAAAAAAAAABAAACAAAAAAEAAAoAAAAAAQAABAAAAAABAAAAAAAAAAEAAAIAAAAAAQAACgAAAAABAAAEAAAAAAEAAAAAAAAAAQAAAgAAAAABAAAKAAAAAAEAAAQAAAAAAQAAAAAAAAABAAACAAAAAAEAAAoAAAAAAQAABAAAAAABAAAAAAAAAAEAAAIAAAAAAQAACgAAAAABAAAEAAAAAAEAAAAAAAAAAQAAAgAAAAABAAAKAAAAAAEAAAQAAAAAAQAAAAAAAAABAAACAAAAAAEAAAoAAAAAAQAABAAAAAABAAAAAAAAAAEAAAIAAAAAAQAACgAAAAABAAAEAAAAAAEAAAAAAAAAAQAAAgAAAAABAAAKAAAAAAEAAAQAAAAAAQAAAAAAAAABAAACAAAAAAEAAAoAAAAAAQAABAAAAAABAAAAAAAAAAEAAAIAAAAAAQAACgAAAAABAAAEAAAAAAEAAAAAAAAAAQAAAgAAAAABAAAKAAAAAAEAAAQAAAAAAQAAAAAAAAABAAACAAAAAAEAAAoAAAAAAQAABAAAAAABAAAAAAAAAAEAAAIAAAAAAQAACgAAAAABAAAEAAAAAAEAAAAAAAAAAQAAAgAAAAABAAAKAAAAAAEAAAQAAAAAAQAAAAAAAAABAAACAAAAAAEAAAoAAAAAAQAABAAAAAABAAAAAAAAAAEAAAIAAAAAAQAACgAAAAABAAAEAAAAAAEAAAAAAAAAAQAAAgAAAAABAAAKAAAAAAEAAAQAAAAAAQAAAAAAAAABAAACAAAAAAEAAAoAAAAAAQAABAAAAAABAAAAAAAAAAEAAAIAAAAAAQAACAAAAAACAAACAAAAAAEAAAQAAAAAAQAACgAAAAABAAAEAAAAAAEAAAAAAAAAAQAAAgAAAAABAAAKAAAAAAEAAAQAAAAAAQAAAAAAAAABAAACAAAAAAEAAAoAAAAAAQAABAAAAAABAAAAAAAAAAEAAAIAAAAAAQAACgAAAAABAAAEAAAAAAEAAAAAAAAAAQAAAgAAAAABAAAKAAAAAAEAAAQAAAAAAQAAAAAAAAABAAACAAAAAAEAAAoAAAAAAQAABAAAAAABAAAAAAAAAAEAAAIAAAAAAQAACgAAAAABAAAEAAAAAAEAAAAAAAAAAQAAAgAAAAABAAAKAAAAAAEAAAQAAAAAAQAAAAAAAAABAAACAAAAAAEAAAoAAAAAAQAABAAAAAABAAAAAAAAAAEAAAIAAAAAAQAACgAAAAABAAAEAAAAAAEAAAAAAAAAAQAAAgAAAAABAAAKAAAAAAEAAAQAAAAAAQAAAAAAAAABAAACAAAAAAEAAAoAAAAAAQAABAAAAAABAAAAAAAAAAEAAAIAAAAAAQAABgAAAAABAAACAAAAAAEAAAoAAAAAAQAABAAAAAABAAAAAAAAAAEAAAIAAAAAAQAACgAAAAABAAAEAAAAAAEAAAAAAAAAAQAAAgAAAAABAAAKAAAAAAEAAAQAAAAAAQAAAAAAAAABAAACAAAAAAEAAAoAAAAAAQAABAAAAAABAAAAAAAAAAEAAAIAAAAAAQAACgAAAAABAAAEAAAAAAEAAAAAAAAAAQAAAgAAAAABAAAKAAAAAAEAAAQAAAAAAQAAAAAAAAABAAACAAAAAAEAAAoAAAAAAQAABAAAAAABAAAAAAAAAAEAAAIAAAAAAQAACgAAAAABAAAEAAAAAAEAAAAAAAAAAQAAAgAAAAABAAAKAAAAAAEAAAQAAAAAAQAAAAAAAAABAAACAAAAAAEAAAYAAAAAAQAAAgAAAAABAAAKAAAAAAEAAAQAAAAAAQAAAAAAAAABAAACAAAAAAEAAAoAAAAAAQAABAAAAAABAAAAAAAAAAEAAAIAAAAAAQAACgAAAAABAAAEAAAAAAEAAAAAAAAAAQAAAgAAAAABAAAKAAAAAAEAAAQAAAAAAQAAAAAAAAABAAACAAAAAAEAAAoAAAAAAQAABAAAAAABAAAAAAAAAAEAAAIAAAAAAQAACgAAAAABAAAEAAAAAAEAAAAAAAAAAQAAAgAAAAABAAAKAAAAAAEAAAQAAAAAAQAAAAAAAAABAAACAAAAAAEAAAoAAAAAAQAABAAAAAABAAAAAAAAAAEAAAIAAAAAAQAACgAAAAABAAAEAAAAAAEAAAAAAAAAAQAAAgAAAAABAAAKAAAAAAEAAAQAAAAAAQAAAAAAAAABAAACAAAAAAEAAAoAAAAAAQAABAAAAAABAAAAAAAAAAEAAAIAAAAAAQAABgAAAAABAAACAAAAAAEAAAoAAAAAAQAABAAAAAABAAAAAAAAAAEAAAIAAAAAAQAACAAAAAACAAACAAAAAAEAAAQAAAAAAQAACgAAAAABAAAEAAAAAAEAAAAAAAAAAQAAAgAAAAABAAAKAAAAAAEAAAQAAAAAAQAAAAAAAAABAAACAAAAAAEAAAoAAAAAAQAABAAAAAABAAAAAAAAAAEAAAIAAAAAAQAACgAAAAABAAAEAAAAAAEAAAAAAAAAAQAAAgAAAAABAAAKAAAAAAEAAAQAAAAAAQAAAAAAAAABAAACAAAAAAEAAAoAAAAAAQAABAAAAAABAAAAAAAAAAEAAAIAAAAAAQAACgAAAAABAAAEAAAAAAEAAAAAAAAAAQAAAgAAAAABAAAKAAAAAAEAAAQAAAAAAQAAAAAAAAABAAACAAAAAAEAAAoAAAAAAQAABAAAAAABAAAAAAAAAAEAAAIAAAAAAQAACgAAAAABAAAEAAAAAAEAAAAAAAAAAQAAAgAAAAABAAAKAAAAAAEAAAQAAAAAAQAAAAAAAAABAAACAAAAAAEAAAoAAAAAAQAABAAAAAABAAAAAAAAAAEAAAIAAAAAAQAACgAAAAABAAAEAAAAAAEAAAAAAAAAAQAAAgAAAAABAAAKAAAAAAEAAAQAAAAAAQAAAAAAAAABAAACAAAAAAEAAAoAAAAAAQAABAAAAAABAAAAAAAAAAEAAAIAAAAAAQAACgAAAAABAAAEAAAAAAEAAAAAAAAAAQAAAgAAAAABAAAKAAAAAAEAAAQAAAAAAQAAAAAAAAABAAACAAAAAAEAAAoAAAAAAQAABAAAAAABAAAAAAAAAAEAAAIAAAAAAQAACgAAAAABAAAEAAAAAAEAAAAAAAAAAQAAAgAAAAABAAAKAAAAAAEAAAQAAAAAAQAAAAAAAAABAAACAAAAAAEAAAoAAAAAAQAABAAAAAABAAAAAAAAAAEAAAIAAAAAAQAACgAAAAABAAAEAAAAAAEAAAAAAAAAAQAAAgAAAAABAAAKAAAAAAEAAAQAAAAAAQAAAAAAAAABAAACAAAAAAEAAAoAAAAAAQAABAAAAAABAAAAAAAAAAEAAAIAAAAAAQAABAAAAAABAAAGAAAAAAEAAAIAAAAAAQAACgAAAAABAAAEAAAAAAEAAAAAAAAAAQAAAgAAAAABAAAKAAAAAAEAAAQAAAAAAQAAAAAAAAABAAACAAAAAAEAAAoAAAAAAQAABAAAAAABAAAAAAAAAAEAAAIAAAAAAQAABgAAAAABAAACAAAAAAEAAAoAAAAAAQAABAAAAAABAAAAAAAAAAEAAAIAAAAAAQAACgAAAAABAAAEAAAAAAEAAAAAAAAAAQAAAgAAAAABAAAKAAAAAAEAAAQAAAAAAQAAAAAAAAABAAACAAAAAAEAAAYAAAAAAQAAAgAAAAABAAAKAAAAAAEAAAQAAAAAAQAAAAAAAAABAAACAAAAAAEAAAoAAAAAAQAABAAAAAABAAAAAAAAAAEAAAIAAAAAAQAACgAAAAABAAAEAAAAAAEAAAAAAAAAAQAAAgAAAAABAAAKAAAAAAEAAAQAAAAAAQAAAAAAAAABAAACAAAAAAEAAAgAAAAAAgAAAgAAAAABAAAGAAAAAAEAAAIAAAAAAQAACgAAAAABAAAEAAAAAAEAAAAAAAAAAQAAAgAAAAABAAAKAAAAAAEAAAQAAAAAAQAAAAAAAAABAAACAAAAAAEAAAoAAAAAAQAABAAAAAABAAAAAAAAAAEAAAIAAAAAAQAACgAAAAABAAAEAAAAAAEAAAAAAAAAAQAAAgAAAAABAAAKAAAAAAEAAAQAAAAAAQAAAAAAAAABAAACAAAAAAEAAAoAAAAAAQAABAAAAAABAAAAAAAAAAEAAAIAAAAAAQAACgAAAAABAAAEAAAAAAEAAAAAAAAAAQAAAgAAAAABAAAKAAAAAAEAAAQAAAAAAQAAAAAAAAABAAACAAAAAAEAAAoAAAAAAQAABAAAAAABAAAAAAAAAAEAAAIAAAAAAQAACgAAAAABAAAEAAAAAAEAAAAAAAAAAQAAAgAAAAABAAAKAAAAAAEAAAQAAAAAAQAAAAAAAAABAAACAAAAAAEAAAoAAAAAAQAABAAAAAABAAAAAAAAAAEAAAIAAAAAAQAACAAAAAACAAACAAAAAAEAAAoAAAAAAQAABAAAAAABAAAAAAAAAAEAAAIAAAAAAQAACgAAAAABAAAEAAAAAAEAAAAAAAAAAQAAAgAAAAABAAAKAAAAAAEAAAQAAAAAAQAAAAAAAAABAAACAAAAAAEAAAoAAAAAAQAABAAAAAABAAAAAAAAAAEAAAIAAAAAAQAACgAAAAABAAAEAAAAAAEAAAAAAAAAAQAAAgAAAAABAAAKAAAAAAEAAAQAAAAAAQAAAAAAAAABAAACAAAAAAEAAAoAAAAAAQAABAAAAAABAAAAAAAAAAEAAAIAAAAAAQAACgAAAAABAAAEAAAAAAEAAAAAAAAAAQAAAgAAAAABAAAKAAAAAAEAAAQAAAAAAQAAAAAAAAABAAACAAAAAAEAAAoAAAAAAQAABAAAAAABAAAAAAAAAAEAAAIAAAAAAQAACgAAAAABAAAEAAAAAAEAAAAAAAAAAQAAAgAAAAABAAAKAAAAAAEAAAQAAAAAAQAAAAAAAAABAAACAAAAAAEAAAYAAAAAAQAAAgAAAAABAAAEAAAAAAEAAAgAAAAAAgAAAgAAAAABAAAEAAAAABxzdHNjAAAAAAAAAAEAAAABAAAD7QAAAAEAAA/Ic3RzegAAAAAAAAAAAAAD7QAABKUAAABuAAAAKgAAACAAAACjAAAAPwAAACgAAAAwAAAAigAAADIAAAAdAAAAHwAAAOQAAAA1AAAAIQAAACIAAABcAAAAOAAAACMAAAAaAAAARQAAAB8AAAAcAAAAHgAAAEYAAABGAAAAJQAAACUAAABbAAAAKQAAACAAAAAoAAAAYAAAAC8AAAAzAAAALAAAAHwAAAAuAAAAMQAAADoAAACAAAAAkwAAADsAAAA1AAAAKgAAAIIAAAA3AAAALgAAACcAAABpAAAASwAAAIUAAACVAAAATwAAADIAAAAuAAAAigAAADsAAAA6AAAAKwAAAIAAAAAwAAAALgAAADEAAADNAAAAUAAAADEAAAAuAAAAvgAAADwAAAAwAAAAMgAAAHMAAAArAAAANAAAADwAAADhAAAAPgAAAD0AAABAAAAA0gAAADIAAAAwAAAAKgAAAMQAAAA7AAAALQAAACUAAABZAAAAMAAAAJcAAAApAAAApgAAACgAAAA2AAAAKgAAALUAAAAvAAAAJgAAACsAAACIAAAAMAAAACcAAAAdAAAAZAAAADIAAAAwAAAAHwAAAGUAAAArAAAAJwAAACAAAABKAAAAJAAAACQAAAAgAAAAhwAAADQAAAAeAAAAJgAAAFsAAAAlAAAAMQAAABQAAACSAAAAMgAAACgAAAAhAAAASAAAACQAAAB4AAAAMwAAADIAAAAkAAAAOQAAACcAAAAkAAAAJAAAAFQAAAA0AAAAKQAAABwAAABcAAAALAAAAC0AAAAnAAAAkgAAACgAAAAhAAAAJAAAAGUAAAA3AAAAMwAAABwAAACMAAAALgAAACgAAAAsAAAAgQAAADQAAAAdAAAAMAAAAEAAAAAhAAAANAAAABIAAACNAAAALgAAACUAAAAvAAAATwAAACoAAAAcAAAAHQAAAEYAAAAlAAAAIAAAABIAAACbAAAALAAAACUAAAAgAAAAbwAAACkAAAASAAAAMwAAAJkAAAAyAAAAIQAAABsAAAA/AAAAHAAAABoAAAASAAAALQAAAB0AAAASAAAAKwAAARsAAABHAAAAHgAAACwAAADCAAAAJAAAADsAAAASAAAAlwAAACcAAAASAAAAMQAAAFwAAAAmAAAANgAAABoAAABhAAAAJwAAABsAAABGAAAAJwAAAB0AAAAzAAAAWgAAACQAAABUAAAAMQAAACoAAAAqAAAAmQAAADkAAAAqAAAAJgAAAFQAAACoAAAAPgAAACkAAAArAAAAYgAAAJUAAABDAAAAMAAAAGUAAAA1AAAALQAAACkAAABXAAAAnwAAAF8AAAAsAAAALwAAAEkAAAH6AAAAWQAAADAAAAAnAAAALwAAAL4AAAA5AAAAMgAAAJkAAABIAAAAMQAAADUAAACKAAAAPQAAAC8AAAAsAAAAlQAAADoAAAAmAAAAMAAAAOMAAAA6AAAAMwAAAC4AAACsAAAANgAAACwAAAAsAAAAvgAAAE0AAAAqAAAAMgAAAN4AAABZAAAAJwAAADQAAAB9AAAAQAAAADAAAAArAAAAvgAAADkAAAAsAAAAKgAAAG8AAAAyAAAAJgAAACUAAACMAAAAMgAAACQAAAApAAAAXQAAACgAAAAdAAAAJQAAAF8AAAAfAAAAIgAAABQAAAA6AAAALgAAAB0AAAAnAAAAewAAADoAAAA+AAAAIgAAAIgAAAA4AAAAIgAAACoAAACjAAAAPQAAAC4AAAAgAAAAaQAAADAAAAAgAAAAOgAAALMAAABCAAAALAAAAC4AAABGAAAAKQAAADYAAAAhAAAAcgAAADEAAAAtAAAAKAAAAFUAAAA1AAAAJgAAACoAAACTAAAAKwAAACsAAAAhAAAAcAAAADEAAAAvAAAAKAAAAJgAAAA1AAAAJQAAAC8AAAA9AAAALQAAACUAAAArAAAAWAAAADEAAAAkAAAAJAAAAIEAAAAvAAAAIAAAAC0AAABaAAAAKwAAAE0AAAApAAAAeAAAACcAAAAlAAAALAAAAOQAAAA/AAAAMAAAADQAAACcAAAALgAAAC0AAACRAAAAOwAAACEAAAAjAAAAdgAAADEAAAAmAAAAKQAAAG0AAAAnAAAAIgAAABcAAABhAAAAKwAAACEAAAAeAAAAyAAAADsAAACMAAAANQAAADMAAAApAAAApwAAAEMAAAAfAAAAJAAAAKIAAAAzAAAAIwAAAB8AAACjAAAAJgAAACYAAAA/AAAAagAAACkAAAAeAAAAKgAAAE4AAAAsAAAAIwAAAC0AAABpAAAAMwAAACAAAAAtAAAAbgAAACwAAAAvAAAAWgAAAI0AAAA6AAAALwAAACsAAACgAAAANwAAADEAAAAnAAAAkgAAACoAAAAnAAAALgAAAIkAAAA4AAAALAAAAEEAAAC2AAAANgAAAEEAAACdAAAAOgAAAC4AAAAuAAAAhwAAADsAAAAsAAAALAAAALAAAAA3AAAAMwAAAC0AAABVAAAALAAAACsAAAAlAAAAWwAAACcAAAAsAAAARAAAALMAAABBAAAAMQAAADcAAACvAAAAOgAAAC4AAAAsAAAAigAAACgAAAAtAAAAJAAAAKwAAAAwAAAAJwAAACsAAADfAAAAQgAAAD0AAAAqAAAArwAAADAAAAD7AAAASAAAAC4AAAAuAAAC8gAAAHQAAAAkAAAAJQAAACUAAABXAAAAKAAAACYAAAA0AAAATAAAACMAAAASAAAALQAAADYAAAAeAAAAGgAAABwAAAApAAAAOAAAABsAAAAgAAAAaAAAADgAAAAcAAAAHwAAAFIAAAAwAAAAGwAAADAAAABqAAAANAAAACUAAAAeAAAAjQAAADUAAAAlAAAANAAAAKwAAAA+AAAALQAAADEAAACZAAAAOAAAACcAAAArAAAAbAAAADQAAAAqAAAAKwAAAFMAAAAzAAAAJwAAACUAAABlAAAALAAAAC4AAAAoAAAAnQAAAD4AAAAzAAAALgAAAKAAAAA2AAAAOAAAACoAAACXAAAALwAAACcAAAAlAAAAfAAAADIAAAAgAAAAKgAAAHwAAABGAAAAKgAAADcAAADBAAAANQAAADMAAAAsAAAAlgAAAC8AAAAlAAAAIgAAAG8AAAArAAAAEgAAADUAAACLAAAAKAAAACEAAAAaAAAALgAAABsAAAArAAAAFQAAAF8AAAAuAAAAHQAAABwAAADFAAAAKgAAABUAAAAlAAAAWQAAACcAAAAkAAAAdAAAAOwAAAA/AAAANwAAACIAAACaAAAAMwAAACUAAAAdAAAAqAAAAC8AAAAcAAAAIQAAAHgAAAAuAAAAJAAAACoAAABZAAAAIAAAAC8AAAASAAAATwAAAC4AAAA1AAAANQAAAF8AAAAvAAAAKQAAACUAAABcAAAANAAAAC8AAAApAAAAhQAAADsAAAA1AAAAQQAAALAAAAA3AAAAKgAAAC0AAACMAAAARQAAADMAAAArAAAAiAAAADsAAAAqAAAAPQAAAJYAAABAAAAAoAAAAEYAAAAzAAAAJAAAAJsAAABBAAAALQAAACkAAADVAAAARAAAADcAAAAwAAAAqAAAADUAAAAxAAAALQAAAHQAAAAtAAAAKQAAACUAAADfAAAANQAAACgAAAApAAAAxwAAADMAAAA3AAAAMAAAAMoAAAAzAAAAKQAAADAAAACbAAAAOwAAACkAAAArAAAAXAAAAC4AAAC6AAAAJwAAADgAAAAyAAAAewAAACwAAAA2AAAALQAAAIwAAAApAAAAJgAAABQAAABVAAAAMAAAADUAAAAoAAAAWAAAAB0AAAAbAAAAFwAAAGoAAAAlAAAAHAAAACYAAAByAAAALAAAADMAAAAbAAAAjAAAADkAAAAdAAAAIAAAAEAAAAApAAAAHgAAACEAAACDAAAAOQAAACEAAAAgAAAAYQAAADAAAAAgAAAAJgAAAGgAAAAoAAAAWAAAACwAAAApAAAAIAAAAE8AAAAyAAAAHQAAAh0AAABdAAAAIwAAABsAAAAlAAAAXgAAACMAAAASAAAAKgAAAIMAAAA2AAAAIQAAABsAAABlAAAAIwAAADcAAAASAAAAVQAAAC4AAAAgAAAAKQAAAD0AAAAlAAAAEgAAACsAAABFAAAAMQAAAC4AAAAbAAAANwAAADcAAAAgAAAAHAAAAHsAAAA5AAAAHwAAAC0AAABsAAAAJwAAABQAAAAgAAAAfQAAACMAAAAgAAAAEgAAALoAAAA2AAAAIAAAADIAAABsAAAAIQAAAB8AAAASAAAA8QAAACcAAAAlAAAAEgAAAHIAAAAhAAAAHwAAABQAAAClAAAAOQAAADwAAAAbAAAATgAAADAAAAAbAAAAHAAAAEgAAAAmAAAAGgAAAC4AAABxAAAAKwAAAB8AAAAnAAAATgAAAC8AAAAlAAAAKwAAAJ4AAAA6AAAAPwAAADIAAACWAAAALQAAAEUAAAAvAAAAnwAAAFQAAAA6AAAAKAAAAF0AAAAuAAAAPAAAACwAAABdAAAAogAAAC4AAACBAAAARgAAAEQAAAAwAAAAkQAAADUAAAAyAAAAMQAAAMYAAABEAAAAMQAAAEEAAAC9AAAAOAAAAJUAAAAuAAAAJQAAACsAAAC3AAAALAAAACgAAABAAAAAugAAAEoAAAAsAAAAOAAAAJcAAAAwAAAAzQAAADIAAAArAAAAJQAAANoAAAArAAAAJwAAACkAAAChAAAAMgAAACsAAAA4AAAAkgAAAC8AAAAzAAAALQAAAGwAAAA1AAAAKQAAAHUAAAAvAAAAdgAAACcAAAAwAAAAFAAAAGYAAAAzAAAAHwAAACcAAABnAAAALQAAACAAAAAbAAAAYgAAACMAAAAiAAAAEwAAAIUAAAAkAAAAIAAAABQAAAB8AAAAOAAAACIAAAAmAAAAWwAAADEAAAAcAAAAIQAAAJAAAAAxAAAAHAAAACYAAACEAAAANwAAACsAAAAoAAAAVQAAAC0AAAAfAAAAKAAAAEQAAAAsAAAAIAAAACEAAAB8AAAAMwAAAB4AAAAoAAAASwAAACQAAAASAAAAXQAAADUAAAAhAAAAHQAAAHwAAAA4AAAAJAAAABwAAABgAAAAJAAAACoAAAAUAAAAaQAAADMAAAAhAAAALgAAAH8AAAAyAAAANQAAACIAAABqAAAAKQAAACYAAAAYAAAAVAAAACkAAAAlAAAAHwAAAFkAAAAhAAAAKQAAABIAAABKAAAAIwAAACsAAAAUAAAAPQAAACcAAAAsAAAAFAAAAE8AAAAnAAAALwAAABQAAABRAAAAOgAAACIAAAAgAAAAOQAAAB4AAAH/AAAAUgAAAC0AAAAlAAAANQAAABRzdGNvAAAAAAAAAAEAAAAwAAAAYnVkdGEAAABabWV0YQAAAAAAAAAhaGRscgAAAAAAAAAAbWRpcmFwcGwAAAAAAAAAAAAAAAAtaWxzdAAAACWpdG9vAAAAHWRhdGEAAAABAAAAAExhdmY1OC43Ni4xMDA=\" type=\"video/mp4\">\n",
       "  Your browser does not support the video tag.\n",
       "  </video>"
      ],
      "text/plain": [
       "<IPython.core.display.HTML object>"
      ]
     },
     "execution_count": 33,
     "metadata": {},
     "output_type": "execute_result"
    }
   ],
   "source": [
    "def create_policy_eval_video(policy, filename, num_episodes=5, fps=30):\n",
    "    filename = filename + \".mp4\"\n",
    "    with imageio.get_writer(filename, fps=fps) as video:\n",
    "        for _ in range(num_episodes):\n",
    "            time_step = eval_env.reset()\n",
    "            video.append_data(eval_py_env.render())\n",
    "            while not time_step.is_last():\n",
    "                action_step = policy.action(time_step)\n",
    "                time_step = eval_env.step(action_step.action)\n",
    "                video.append_data(eval_py_env.render())\n",
    "    return embed_mp4(filename)\n",
    "\n",
    "\n",
    "create_policy_eval_video(agent.policy, \"trained-agent\")"
   ]
  },
  {
   "cell_type": "code",
   "execution_count": 34,
   "id": "a281ac95",
   "metadata": {
    "collapsed": false,
    "is_executing": true,
    "jupyter": {
     "outputs_hidden": false
    }
   },
   "outputs": [
    {
     "name": "stderr",
     "output_type": "stream",
     "text": [
      "WARNING:root:IMAGEIO FFMPEG_WRITER WARNING: input image is not divisible by macro_block_size=16, resizing from (400, 600) to (400, 608) to ensure video compatibility with most codecs and players. To prevent resizing, make your input image divisible by the macro_block_size or set the macro_block_size to None (risking incompatibility). You may also see a FFMPEG warning concerning speedloss due to data not being aligned.\n"
     ]
    },
    {
     "data": {
      "text/html": [
       "\n",
       "  <video width=\"640\" height=\"480\" controls>\n",
       "    <source src=\"data:video/mp4;base64,AAAAIGZ0eXBpc29tAAACAGlzb21pc28yYXZjMW1wNDEAAAAIZnJlZQAAI8JtZGF0AAACrgYF//+q3EXpvebZSLeWLNgg2SPu73gyNjQgLSBjb3JlIDE2MyByMzA2MCA1ZGI2YWE2IC0gSC4yNjQvTVBFRy00IEFWQyBjb2RlYyAtIENvcHlsZWZ0IDIwMDMtMjAyMSAtIGh0dHA6Ly93d3cudmlkZW9sYW4ub3JnL3gyNjQuaHRtbCAtIG9wdGlvbnM6IGNhYmFjPTEgcmVmPTMgZGVibG9jaz0xOjA6MCBhbmFseXNlPTB4MzoweDExMyBtZT1oZXggc3VibWU9NyBwc3k9MSBwc3lfcmQ9MS4wMDowLjAwIG1peGVkX3JlZj0xIG1lX3JhbmdlPTE2IGNocm9tYV9tZT0xIHRyZWxsaXM9MSA4eDhkY3Q9MSBjcW09MCBkZWFkem9uZT0yMSwxMSBmYXN0X3Bza2lwPTEgY2hyb21hX3FwX29mZnNldD0tMiB0aHJlYWRzPTcgbG9va2FoZWFkX3RocmVhZHM9MSBzbGljZWRfdGhyZWFkcz0wIG5yPTAgZGVjaW1hdGU9MSBpbnRlcmxhY2VkPTAgYmx1cmF5X2NvbXBhdD0wIGNvbnN0cmFpbmVkX2ludHJhPTAgYmZyYW1lcz0zIGJfcHlyYW1pZD0yIGJfYWRhcHQ9MSBiX2JpYXM9MCBkaXJlY3Q9MSB3ZWlnaHRiPTEgb3Blbl9nb3A9MCB3ZWlnaHRwPTIga2V5aW50PTI1MCBrZXlpbnRfbWluPTI1IHNjZW5lY3V0PTQwIGludHJhX3JlZnJlc2g9MCByY19sb29rYWhlYWQ9NDAgcmM9Y3JmIG1idHJlZT0xIGNyZj0yNS4wIHFjb21wPTAuNjAgcXBtaW49MCBxcG1heD02OSBxcHN0ZXA9NCBpcF9yYXRpbz0xLjQwIGFxPTE6MS4wMACAAAACDmWIhAA3//72rvzLK0cLlS4dWXuzUfLoSXL9iDB9aAAAAwAAAwAAJuKiZ0WFMeJsgAAALmAIWElDyDzETFWKgSqZaK+WKMrAPNEwAJ4T/pOMIJImDVtCKwxDCd34c0LBxh/Hp9rf7pkU8BgHtJLpa72BqV7T3Xv5zA6eQic4BGMECm0uXNiAWkHMaDoHp5DtomKijpNY0kP8V/IQ/gwygi9o9fmVgM798yquJ3gXYsDMftQlCcRiv8fMsgQ2dSuBcKwODA/pU49qBLO/+Wzj/cOgd7iHXUR2UY1eqWxdxzLsp9BcoShAM5A/ZhSr9wfvWp5pqwHfleyh2+mXQ1ppsVaVYMnZsK2IoNehawnQK6sF2eaQMkT7M6S/r/yGyz2kx4Gx13UtiJg9aRSusohugV9V2Oxg4eMhgRXX87SasLkKNUPUh5fiorcO4gXhipxhljdK2dCvmhV8Qo2s2tJW16vCVzN+3XLRsk/BQa/XmkSn61F3Kad8JYAIR9SCdlhQUSp6tOfm2sduLWifWk1PTp9p1bkYR0XL6Sl52CvDSW2fpzR/LbYO6jBG3NE5xzElUaQsPbyqN3lsSK4TOxD6N4bIDWeU7Pe3YylAHy8JYVpWw8L3LN3CCE93mwIjGwtpV2o6+IjKsjyYm/1NLPuwqV3NXD6Fl9YMGrxnJ1Cmk3YkEB2fonyAAAADAAADArsAAACYQZokbEN//oywAABECq/4G5bwNqdq4c9gwA3v58GcbN6+flTP6DP6rvSGmM6Kc7GU+YxFXmn9WCxBTAotLsURxBlxnUI6+SYckibvtuwQo0tSO8Yxihirilpax+lw1ioYQ8XmIqq5OrpUeGFtZdCc/e9b+eEUFKwOQm2n6/+zXPIrRDtGdUmIT4bKQx0pUgIQM88Nx90QdPAAAABJQZ5CeIV/AAAWJVisx2e8cSXIk1Fzxy/RrcKFWY/KtHqM6Xf0vN6IIT2WnFJt+DD4Hj5cKdo59SyBq7xOy8hxZdotfONGzwgYEQAAACcBnmF0Qn8AACLDPg557TJAWbkrKf0Hl9cnEeLvONkx4AAAKdTwgyoAAAAnAZ5jakJ/AAAE+zXL44G8Ns6DCZDbcPcR4KxdLa8AAAMABEn3CBgRAAAAmUGaaEmoQWiZTAhv//6MsAAARCUdmmJHAFaLYdwpi7CGFG+c2dIknZc88y9EiIuS1CpRhEFKLt+aAOe1Jihs7qg0+2ZJPMuBTZqRDNHSBQwTieZjI6plulBSU7Zxch//3+9pF78uoxwD2UCfD8s07csoObhlXSlqNUqUVYwMWgMld6bhyEKBD76PxAAAAwAAAwBFh5KqdENiwQAAAEFBnoZFESwr/wAAFiMsiNBYa0VJwFeqUZmx6l+wymJN0vDSSx4+mZ3WuQbgiJuxWRUbrqDRBj8WzAAAAwAvtHhBBwAAACsBnqV0Qn8AACLAuZbmKqfOpxHaboMHRqEVqonjrzfyUHgAAAMAAT98ZYKTAAAAGgGep2pCfwAAIr8azzg3A9vgmESX6/JC2NFBAAAAmUGarEmoQWyZTAhv//6MsAAARAD22J576atqCTjSkaGTAAjUV9ahGyQ1HR5XjRjKXBo5mGoVAz978DqjGkAw7GSwK23HCWN4wRtu5nrsSiAiDUJj3z6anUevw9oiaZMIqXW9Z1xn998By/t9s8yOFDX6DGrpiGcRr+NtwfhKbysXVidH494Aiudjh+3ex3fXohLxzekozUiAwAAAAEpBnspFFSwr/wAAFiKeqSXHMtChMOoadImNrKXooKRUV1/16ue5Ka6MwRyiQzNNrcR21Hn/drgx8QAtT5j2z/+uR5WM4ZXt91+tswAAACABnul0Qn8AACLDF2ipz16HuRS3SKNQZSbuqeYAcyAZAQAAADYBnutqQn8AACKuMS/P6XDnf66DKB7PA0vGph3n+UZ7zWCbTQh7SzWWGveT3nh0WKQpFB6W524AAADGQZrvSahBbJlMCG///oywAABEFE6upu4ArdWuWIvEyp+Y0X/uRkcvYWdAIjnbJ8zdnmmD1KIip8cnZBViWmyMDxgzCf3PtKvk7nLV3mtn06AO9/aXrtKtBObw3bXh0Mk8QjyTYAjFh/l7J4ft5ArbWjwrMeIU2NYDA3q4tfI1q5r7Gv+UI5RuaWitjJBGHZ//0Mh+Gre5dkbestD2DK9WY3peOWpJv1ynKctT0lXBaSRPpdMf4vRmPzXaFl9PP+9NXUFcyR9XAAAAR0GfDUUVLCv/AAAWK5RUsY/OAnwVQV/LUh5Ty0VJTZ25QSXm2BsZ5VRg/I2qJk2Rd7b2lc/bXtO5qfZtFalmV3Mgfvi/RtuBAAAAOgGfLmpCfwAAIq5JDNg2lECce2/Un9UCCogMfcLA3L1fw5XrPOPvEil7XVdMBi4VAqoJhJmxDMKQgIEAAAEBQZszSahBbJlMCG///oywAABF8yHeEbH5ABHa0yIxExOaWEgoMxeggOr/R/xY6Xd5haGzQedER4X550qdexBv0a1FCjnFmQMhqILC0vFiEWwI5xZUnm9hDvyvyzeFPkvDdTEkVDB8p4jGjiBV5kDO+DVgw0KzatYAekDOxwM/Knir4ojx400CRha5F+exRrZHJ0zkoKliFSslsnlwb44ggv5Goe4JW8cG8ObQqq4+kiPvVo7JixQZIi6VtJeT1M+b07YNUQTcEAjjnbxHRRnHOSkbzmnw/xy/AgRuFPG43IXrnaKnuVNgDFTBxdhhX6ODSevMrwiqCvst9j8WqQKL36MAAAB8QZ9RRRUsK/8AABa8QtDkKmfR/oX9mtjqAUDHmW2KejOgjmWGtLEUIWutgIU0Ofd+OAE7YMcwLAa5kk4uER1Un7ux1ywnHIaPEGwAmmEB9WNhlOfvGLELarIPJgWhdIeUU+gRdKbXtnl1D1JxqcmJBlItxTMolufXJynvJgAAAEYBn3B0Qn8AACLAIhVwYwSvMBqq40WiRfH4ZLDGI5OUzG11/nA2UENHheqT3M+NKjmoqQ6mQ4aLTPb6jpmHC3GzIz2fh3AhAAAAIQGfcmpCfwAAI7HK7n1Lz2Yoq1B0BUxal/hrAXUhQqcSoAAAAONBm3ZJqEFsmUwIb//+jLAAAEYCBagioD5AAJ1zMjlFDb8t4oPEry5NrMWmHgp6Hs7a7jO/M5dXhxys/Qof6pp+Wwfx1xVhdQRvQ3N3yTOxXmDfCZk/KWvlX1+Skce/e8LqY8yUa9nVH8J5Nbuk2NTujjeZa4v3+JpY7r4BqebITrRta6nSxh/nWu+GjX5gSHRgcQdWZLCD22XuTX/bwWvpT84NZ53vzFAR9xHF6MpY+ey0VxOuGpFdGZdoPy8zk0uSe3LtteEKqx1vrPqjt3gyokDvegkbmZfBQ1wq3sZM2OyvQAAAADpBn5RFFSwr/wAAFrxDyl2A6VN7aLzdRkGN3H35fbVgTKYnUgerqorBj0LG3GNSj59WI9R4b+8Zx6/TAAAAPAGftWpCfwAAI72VZwRjx38wAiepL/QZV5/p7J/USHoOYbxHS4jLHHI7rEgDDgjOXVABtfCG5VkGbM6u2AAAAQdBm7pJqEFsmUwIb//+jLAAAEZ6bz3MeHMoAV9X7J3RJAHQ2Gvyeu+DxWtpMT3JBe+OI45PIhMQvhiZHi1PSu7tg8UNIsG0zhVPWvNptKtPpQp3iH/rte4xi/c8E4GmWZ2RptWpR9mIhm1RlyoYM9ahuMds7/M6TJKhz3zMCNPYwWcGZXX290XiYpfe0gpXakPB1lcMZUbBaNenekvXV2/mwq56VQUXhn3+hMdLU/PIKQvnul+7puSf3XuMKNzeRma1MzERKfU8sVyFcyuUNOuJi8Xv+E1KtrZKtanSgOFmdvfDcv8s9QJGXylI7lRPvoLp0GCb8F7jLZHhqZUfYUaVEoEvVwwgQQAAAGRBn9hFFSwr/wAAFrtfYfAQixaz0JXPpNP68sjGqKyYQ/O8SkosIXJHTO4l5NXiMXdcGhAWbtZZGT/jsJHXqLlpPQWnggnFNp46GjHcFMgCNPJbqYOfISzD+l9Cgvv9KWzo1QbNAAAARwGf93RCfwAAI8MXYSDhAjCGS9uT8sRkxC4kRtfnbyawX4n5a7y3JPSR5rRtIrOo8oET5GBxk8y7ugn7TXCWZUk5aHcUWQmAAAAAQAGf+WpCfwAAI9UhAY2lb+Zcv7J7zgeZgpt4u3jUogSTXt/7h6rRGgV/tD6yxGEGZcb+WjZYDxVRWPym9cxBDs0AAADmQZv+SahBbJlMCG///oywAABF8o3swVhkA4MgBXwllGFceV/N4pJ7Mcd/RwM8QWCy0VAMriMke8H0jW4eQUdjHur1GJrMbyMiPzM+1eUfdB/hciS3KVAeldtkBh2JGwR1b6rxrgbuWiF3gb7gDAukL2juMKmzBZJspveo+K/HFQjtdGdAmSQL4aHeOJuTcCUqOzOerAMQuPzVlzLOhnrAFTaWdKX3083Auvpzj9wo7FdOg5cKHxBTcRlCjgsEtmQQIhzyau1uL/hVC4A4tA0LY+GCeMgX2TNvCPizQvkLzx1iRqf0CiAAAABfQZ4cRRUsK/8AABZ3lIulSCUpi33PcPRzAoRKGlbKADER9Pfi9zkRURRU1MUGSMFUlbJZqkUie/cNwkXLrm1sKVrb539Mp7aJbUiACsIIgGzlaceVZhFvNageA/aL9CcAAAA9AZ47dEJ/AAAjq+btGh8fQEAlOXry5S5/2sHkiGHeH1Le0OLgRHjIR64rc7TMPORRfS3atiAEtdDdmWVrwQAAADsBnj1qQn8AACO/Anboktg30xnT1IJcW1VBBn6+Ecq/kTrkefkqWmdJaTEfwq980ewF/GZ974DSL7AMCAAAAJFBmiJJqEFsmUwIb//+jLAAAEXyjr67aNpmnQxGAA9hBRKblBB2gRDvoPi6fK32UAtggLXTPBEAMm1XICek18ZfF1csROFumjH70Tdx8tgi13Kgv4yMPizJkVD+q/BxHDUR2EJgh9fX9qh6NHhCFqLBgkM83cymm3d0QtVhsmqW1xfSbvckQ4//fbovG5kZ+0HAAAAANkGeQEUVLCv/AAAWvE5rYftcXWnja+n/F2QZ2ebDV0IqKv1SVwV9gA4y59ENr7t6DG77TD0zswAAAB4Bnn90Qn8AAA0uFeqAI2TTlwYnpxqrHnRTENw+hMAAAAAxAZ5hakJ/AAAjrjL6/ERkAkDgAlNdI7FAEQlSKJJsc80JiXY28gB9jAi31UHNQtjZgQAAALtBmmZJqEFsmUwIb//+jLAAAEYlQoJQApBbdOgAL1L8tHTfGM2WCo/HDOYp2PMj1pMuCcYpsF/2BavfXcGi+vwLWW3WHI63SLMrkE6+EuXUvnCLfUBSY9TC/3imxQL9GivSKaliubaLVnB+1HINRe4ZEIUVIKC6oJ1KrlViOaZ64dJZkfvf/F/m0I0bqJmhVJOkNBR6KKLfn+iDu17Yer0wq4J8/cewc55QCGNAGyG7h4epzGF1EAYGlaLAAAAAQkGehEUVLCv/AAAWu5SelNpkROt6CNmAPQHLckKeWDSQxByDgA6tl0yDgoxxG/IqkCn7kt8oqQ5cWE9kOBEV2cc2YQAAADABnqN0Qn8AACPDOkq7Xk9ERrbM4Q2Kj5eBneW20wVz7iRw47VASocvcrtFeBHyXAMAAAA3AZ6lakJ/AAAjsiZWHcvDho65/bdMvzAoTxdWJI151LM40V/wA4KesrGvk3eEZbTy6ZDNTr0vBQAAAOtBmqlJqEFsmUwIb//+jLAAAEYQjsKBaZarGSXUpubqCyqTM4p3klV36qwAlR0+zQsWX761PC7aXjmhxuHBuJnT0JiuokjYNPenbk4PY0CXeCeRZS1T+QtgflTrYKX76uw/Rv19xHz0N5fyW9C0nwaACZ2nWnM5eHouKmzQulF8wpz/6KEktQ7/TKWxRU6JUCjzC5BKE3/+IZM38B8u5SKMXGYnv/6mJVsdRNpNCAMQeQJ6wdvjap1gD6DKGacE/tDOX2oGPcYd8eNIc2R5NDKTYPdXWqCj5AK3DEPCctvYyO9W45itEPq6MSf9AAAAWkGex0UVLCv/AAAWmViP9H7db8Nx3yzqeoCjNAEElqvUJQlKhzLdB/sUI/fCYme7rVK2SwW6c5sk+GxWm7NVrVu6xyOZJgQQQz2jvcNdPQkPpfy7ttDgFazWpAAAAEABnuhqQn8AACO9oZVqDxBgtS+7WShlZ3kC6nTDII7F/o+OxfbrcDn2uUvZUt9BaTTrLdxepDMLVp+O8jbeomdSAAAAqUGa7UmoQWyZTAhv//6MsAAARhCTtA5ACCMO4k7/67FMUbtEQ9FtLhOy/q3SntiUr7U84kNCuNMFLy/9vSnZyx1LPwQUzHW++TSRq/nHOkSsmBiUfYGHOm+eH2LtKpgBY9lBvQzNtG9BlaVNMX9Gv8f1AeCss9lS5DFKeicjMCvIsChEUiMS/2Wgzs4+vu1iamCjK2DkL9m8Pg3R5oU00uk3uNf3im06FoEAAABSQZ8LRRUsK/8AABazQo2JElF8bRfWdmMdodnDkWLfEQ6NL6MixPhbrunNS2BBoq9EHZYNfVm/CwrezPokhlFOTAlZndpxoFSCuxHCmx7S/+JcQAAAAEIBnyp0Qn8AACOpz4M9FapO8mQGBEgbfHAPpOSRspk6RpLwdztDzoq88mMNN/KHVyLHiQNyNbB4JU5a2f+qiYuBZeAAAAAyAZ8sakJ/AAAjscIcTlZrfkJwDBCJzyJvI8LtruBFqyAAIB77zS0d7uqKxdJpBGDqrMEAAADqQZsxSahBbJlMCG///oywAABGAVmyXtgGq8iNo9G9E2ZFa7VAooYD2D9WXv7LlTC5nSnD29mTtyiaE714kM2A7VP8T7wnEQ2wYCROVZax+x7ayFR0/0crsQ0uXV2xtpU0jmbSkMUdFAl4w1QN/NEpKPrAInyimpghDA6ScVQe/gU3o3DzTLHeIoJe4zTPgU5Z1LcZ+Rdt4GTfOw76x6Bbc4TSSMNYeq/lYxrDZjrXyRfJNKc9XvceKrHCjSK+dhlVtDnbfOTBQpUaW6yPIav+PjBXF6iG+aSjB0U5IKd5/21V60oUlHX4dTL5AAAAIUGfT0UVLCv/AAAWtSs3a5fAHAN6PZUwRmpDHpYqWnr0wQAAAB8Bn250Qn8AACOr+Ft4J5JcZmfJ8V743pDXTGaoMLZgAAAAEAGfcGpCfwAAAwABUM1DF4AAAADGQZt1SahBbJlMCG///oywAABGKR1KabAHMO+pxS7EWL6TIl5fvarXFP1OI2NOb2wrAqty/NIRsjRaupJZRTLTkLNFgUGfXXMIISmVnAAdFI6/a9yiwUH8/62RIMkPwhZfoicX/ZyZNnYQY2Rzxl6TzyKX84QBXg0nS6TiPKzDvcaZ90n/94l+YhFsCzm2JyacRBGQoVhj0jU2bZYnzTPE5aB9L98CpiBYR6hb12hlf4aeRbMutbF7rDW9P7cbnZ22gXlooQWPAAAAMUGfk0UVLCv/AAAWu4pJA92Dfv+Grkgb6ONypfRATE7kDRMrYGSJaq5g2veKZKkf3oAAAAAlAZ+ydEJ/AAAjq/hbduvGWK2jlXZdVmUxflKtX6eYBCE28bnxvQAAADUBn7RqQn8AACO9g4HJ4Ht6vINx3G+iaI5UKR6QcCBEPJDfSb/c0NkC6dI/2OQBmr/GVSg3oQAAAPdBm7lJqEFsmUwIb//+jLAAAEYBUkk/GEtTsn3x2PXYAIbw/qFkrRxvLZZ591zRjTgXDc/4YdL8JlHt0MoJgS2S3PJ5rEyWxEelWDL6Tkswnz6x+R5PjBF1SwIKxdBST6rDx7z3S6va6jisXvz1A0Vgo8CZS64A8L4BMC5lHD/N6R6Sy35SxSUaqdUGVw68Pyd74PXqN4OenwcRNBujPTkFfTC3ZRe/UTr1Hl7AT4tUq0pLs05SOrYJ79bwT0cqhg+9VrVt6A40WMjp5R2gcDrDC2iB0Hy9JtKSA+y3gI+KHW2eN2WSh0Si+fHz1bWcB9SE3CZVcyZQAAAAYkGf10UVLCv/AAAWu1tuptvmOn23WYT8qQVNon8CSQftIYIJf2fFYcM7Ee5QIguygBpCCaa8+n3gc7fUKNVQFC69U5gjTUnrbHcXETQsODGWp+YfqrH3JtjmWxtwDYrNei59AAAASwGf9nRCfwAAI8CZ3efAdi1QCUAWYbrlzP/RLh8ffbFW6FFGjxNf7/tqDQ8kqSD/eWbNfQ28j1ub7rwAhTS9lVfo5CzDUG9ORRUz4QAAAEUBn/hqQn8AACOudihs0S3xqhyxOWi+FOtRXJQiiG884nk9/Vu3cD2fYr0M7Y5U9ZYHTSEwLBR4SciIGav3pFyVJ38mFVgAAAC8QZv9SahBbJlMCG///oywAABF84mGYpSkAnnmZAVjQNp2zQyYy2MfG4FBO1I8Ymxx8CTryUDvgHIp9WoEbOPA6/i6MxOERriyhnkUUPX/HsLewH0RMgTlioFRV602eCwnePnrldDeNAl0xJtutoer5XEawtNH35zQDV3kigZ4Zm7XbY0hMLuYU7m0iuxM6zHSVvsg8HF7AAjxIn16ZW58uE2+9oemMJOY8ALKcRNVPlygge2sC48IPATU+6UAAAB/QZ4bRRUsK/8AABZsOqEwYAX6ee+TsdOm8vjh4vLKcTilh3OJuQ/g8Zp20EHGU6TZ1aYu4unBzPUfnY2VNlYgW+sKu2wKN8//Du7XJP1y3Nsp5lFufFOuetrnbv3+s+dmfsiioS7QEK2KXo74geEnoSwFoaDPk8b+///g2JBj4AAAAEoBnjp0Qn8AACOp/3+0YRHJGLIt9bHwH3GS6+Ew/rtTeshf03I4MNmuWKBfXhun9vQBbnzV6jRUzYl0ZSFBhuR8if5M7elOVPN/wQAAAB8BnjxqQn8AACOxzDWKX1kinXy8zvOoFSESoFQJARsxAAAAZUGaIUmoQWyZTAhv//6MsAAARiXBNTpcWALHRihKcIUXQzuMwIAaO6GaafcSnptSzaLFIOvHrlocux3p84jfI5sRJk4eeHKRFZhsAkGNa8ciorvodRQEXfTrr5vY4AHGbE09Q2mDAAAAIUGeX0UVLCv/AAAWvEPNtxXMrJlJPgdCi2sgp0X23pbyQAAAABYBnn50Qn8AAAMACjjKBp8kz2RO0PWXAAAAGAGeYGpCfwAAI7HMCW+pb8EqkRrM33RIwAAAAF5BmmVJqEFsmUwIb//+jLAAAEYlwTrZwT0VOiSQonNsrx1FGp7NDQ9aMhFsNMx4RtTYASSB97qgfdEB2Q2Wm27+F2akryNtWRPTcwU3MuFR6O2WFnlPNt8tG1D64vARAAAAMEGeg0UVLCv/AAAWvD0uZZiy8rLaAHHYzfa61LhHnc1LX24/9gJ/5MxNdGlcAArbcAAAAB4BnqJ0Qn8AAA0uFbBB1cFkezlWp0J0crh/bZAwCAkAAAAiAZ6kakJ/AAAjvwQn7gcmGQv06x6Q7257xQZY4vn5ikR/jwAAAHpBmqlJqEFsmUwIb//+jLAAAEYRrBEAE6vzRRagl5ubz/tDkCEW3gh1OI70yzY8264+XHmig2UBz7qL2Cv2ed747RSz8MYu5Yg3oU6qz2IsOMjhd+Zf59BpVXSOu7BEjZdm4gs5KdS/VPJJZ3a9InBIyspQDH4TQxK74QAAAC5BnsdFFSwr/wAAFrxDzHIT47if4UHJG3cWbYABxm32qhCn6jSQAUZcdRk/LraBAAAAKgGe5nRCfwAABRz2DabzbRFWb7E01BH5d22e6tNEuUwtmdkt2Az528CtuAAAAC8BnuhqQn8AACOxzAlXGGiGog1KiB0WUTY9OVnJS3sCkY+K7qd5TPZM5h8Jp7VYmAAAAM9Bmu1JqEFsmUwIZ//+OEAAAQ2W4JogCt53qqybMMTPJKhMkdNfRSFUs+2quCcSZniNA6x4Ot/elpZlc1Ncw4pGR91TjGYIHjUkyrNLqlBkhy5BSrbTtg5tQ2PWKfgLEyj4DTfJFL/eeWynmDJZo1qjkuppqGEOdFIXZdvaK4+n7HeBAps0oRoCZBzMRwLazOIrkaXBMOKCuhPEh/ga2R0iZ2uSw7WQcp0PHCy5T0CrJxAsiWJJs+EttJqrMELxhtoB+hl524putLijyqw+/xEAAABnQZ8LRRUsK/8AABa7lFSxWHIUAAXDdsszBbJLEH5u7zLQSmJRvg7pV0/9FxnwqytDlt1GAEmvv1iXdEGs4ch/mYaUv3BX2wLysFV5r6GcwgvqOwDv5sPXjRw1yJ1FfesPkA/pT6VwCAAAAD8Bnyp0Qn8AACPDF2CDR2Dh7RJgcvcOOrCCD5JBWtrl6uzGcUkmraoYoANr4NbYhW3nEvOGzwBoq3P8342Fc7MAAABLAZ8sakJ/AAAjvwQsXGO9J/rAPBV9Dp/w7kXG1k2//B4Ddd+fg+hy5Nk0L2e2TrwlgQLfJFZ1wHUflnHEuMToJQNTiQn1oZ3wVuARAAAAu0GbMEmoQWyZTAhf//3xAAADAp7pxRjluE77qAFjDGaJl6I8wxt53ur/Sge2/AvrmeWiKI82oMTl+rGFIA/En3eiZBPFpGv+MN2WbYRAptdTj6PxGWg+V4OrGOyaY2cBhGy5/9NTcY3E5MCYv0y2aZ5eMDFOun+TR7jECYqkL9v6ZEQdO5Bezn9b489qdealZuuf++nehiY34tXp9OCAId6fZfVlbcR2MTKiSnJfrYheXNoNr9vs6YH9hMEAAABvQZ9ORRUsK/8AABa7lFSxj6GywgBNWsx9tqughth4QYECB2a1RF6rMptSKFGzt79KudTu2JE2wObDGI0P3c9T4zld0/UzF3z8W6N4pqIENlIDNi+AZUGJNGu2ttc+qhVNZ7RROUKXmx0FGpfPVPsxAAAASgGfb2pCfwAAI72VrbjZW3ecfr2MxKZrtbeAbbL07ljQDdMYy2AB/gHkUHGhYRUavWzxQlRr4rqgUsoaloEMGBxUYdKFZ72RiB4QAAAAWUGbcUmoQWyZTAhX//3hAAAEE3hd6P7BZriVHRRsCkXk3XrGao0/KSaMsAWVDcrpP9zl9yDaFODKcexnneoATOPZin9xJciglPdSE9g6UKq5o9feilBgd6vWAAAAXkGbkknhClJlMCE//IQAAA/UP9h7U6OO1rawCWHQAs+vmD60KxB/6k633GHL+wPKskDLrvsOcRt+c9YLeqsSuEpuMg135f6jrBOcGJOWDrom+SgkoKfbTJ9Cpho14v8AAAblbW9vdgAAAGxtdmhkAAAAAAAAAAAAAAAAAAAD6AAACs8AAQAAAQAAAAAAAAAAAAAAAAEAAAAAAAAAAAAAAAAAAAABAAAAAAAAAAAAAAAAAABAAAAAAAAAAAAAAAAAAAAAAAAAAAAAAAAAAAAAAAAAAgAABg90cmFrAAAAXHRraGQAAAADAAAAAAAAAAAAAAABAAAAAAAACs8AAAAAAAAAAAAAAAAAAAAAAAEAAAAAAAAAAAAAAAAAAAABAAAAAAAAAAAAAAAAAABAAAAAAmAAAAGQAAAAAAAkZWR0cwAAABxlbHN0AAAAAAAAAAEAAArPAAAEAAABAAAAAAWHbWRpYQAAACBtZGhkAAAAAAAAAAAAAAAAAAA8AAAApgBVxAAAAAAALWhkbHIAAAAAAAAAAHZpZGUAAAAAAAAAAAAAAABWaWRlb0hhbmRsZXIAAAAFMm1pbmYAAAAUdm1oZAAAAAEAAAAAAAAAAAAAACRkaW5mAAAAHGRyZWYAAAAAAAAAAQAAAAx1cmwgAAAAAQAABPJzdGJsAAAArnN0c2QAAAAAAAAAAQAAAJ5hdmMxAAAAAAAAAAEAAAAAAAAAAAAAAAAAAAAAAmABkABIAAAASAAAAAAAAAABAAAAAAAAAAAAAAAAAAAAAAAAAAAAAAAAAAAAAAAAAAAAGP//AAAANGF2Y0MBZAAe/+EAGGdkAB6s2UCYM6EAAAMAAQAAAwA8DxYtlgEABWjr5yyL/fj4AAAAABRidHJ0AAAAAAAAZ04AAGdOAAAAGHN0dHMAAAAAAAAAAQAAAFMAAAIAAAAAFHN0c3MAAAAAAAAAAQAAAAEAAAKAY3R0cwAAAAAAAABOAAAAAQAABAAAAAABAAAKAAAAAAEAAAQAAAAAAQAAAAAAAAABAAACAAAAAAEAAAoAAAAAAQAABAAAAAABAAAAAAAAAAEAAAIAAAAAAQAACgAAAAABAAAEAAAAAAEAAAAAAAAAAQAAAgAAAAABAAAIAAAAAAIAAAIAAAAAAQAACgAAAAABAAAEAAAAAAEAAAAAAAAAAQAAAgAAAAABAAAIAAAAAAIAAAIAAAAAAQAACgAAAAABAAAEAAAAAAEAAAAAAAAAAQAAAgAAAAABAAAKAAAAAAEAAAQAAAAAAQAAAAAAAAABAAACAAAAAAEAAAoAAAAAAQAABAAAAAABAAAAAAAAAAEAAAIAAAAAAQAACgAAAAABAAAEAAAAAAEAAAAAAAAAAQAAAgAAAAABAAAIAAAAAAIAAAIAAAAAAQAACgAAAAABAAAEAAAAAAEAAAAAAAAAAQAAAgAAAAABAAAKAAAAAAEAAAQAAAAAAQAAAAAAAAABAAACAAAAAAEAAAoAAAAAAQAABAAAAAABAAAAAAAAAAEAAAIAAAAAAQAACgAAAAABAAAEAAAAAAEAAAAAAAAAAQAAAgAAAAABAAAKAAAAAAEAAAQAAAAAAQAAAAAAAAABAAACAAAAAAEAAAoAAAAAAQAABAAAAAABAAAAAAAAAAEAAAIAAAAAAQAACgAAAAABAAAEAAAAAAEAAAAAAAAAAQAAAgAAAAABAAAKAAAAAAEAAAQAAAAAAQAAAAAAAAABAAACAAAAAAEAAAoAAAAAAQAABAAAAAABAAAAAAAAAAEAAAIAAAAAAQAACAAAAAACAAACAAAAAAIAAAQAAAAAHHN0c2MAAAAAAAAAAQAAAAEAAABTAAAAAQAAAWBzdHN6AAAAAAAAAAAAAABTAAAExAAAAJwAAABNAAAAKwAAACsAAACdAAAARQAAAC8AAAAeAAAAnQAAAE4AAAAkAAAAOgAAAMoAAABLAAAAPgAAAQUAAACAAAAASgAAACUAAADnAAAAPgAAAEAAAAELAAAAaAAAAEsAAABEAAAA6gAAAGMAAABBAAAAPwAAAJUAAAA6AAAAIgAAADUAAAC/AAAARgAAADQAAAA7AAAA7wAAAF4AAABEAAAArQAAAFYAAABGAAAANgAAAO4AAAAlAAAAIwAAABQAAADKAAAANQAAACkAAAA5AAAA+wAAAGYAAABPAAAASQAAAMAAAACDAAAATgAAACMAAABpAAAAJQAAABoAAAAcAAAAYgAAADQAAAAiAAAAJgAAAH4AAAAyAAAALgAAADMAAADTAAAAawAAAEMAAABPAAAAvwAAAHMAAABOAAAAXQAAAGIAAAAUc3RjbwAAAAAAAAABAAAAMAAAAGJ1ZHRhAAAAWm1ldGEAAAAAAAAAIWhkbHIAAAAAAAAAAG1kaXJhcHBsAAAAAAAAAAAAAAAALWlsc3QAAAAlqXRvbwAAAB1kYXRhAAAAAQAAAABMYXZmNTguNzYuMTAw\" type=\"video/mp4\">\n",
       "  Your browser does not support the video tag.\n",
       "  </video>"
      ],
      "text/plain": [
       "<IPython.core.display.HTML object>"
      ]
     },
     "execution_count": 34,
     "metadata": {},
     "output_type": "execute_result"
    }
   ],
   "source": [
    "create_policy_eval_video(random_policy, \"random-agent\")"
   ]
  },
  {
   "cell_type": "code",
   "execution_count": null,
   "id": "634b270c",
   "metadata": {
    "collapsed": false,
    "is_executing": true,
    "jupyter": {
     "outputs_hidden": false
    }
   },
   "outputs": [],
   "source": []
  }
 ],
 "metadata": {
  "kernelspec": {
   "display_name": "Python 3 (ipykernel)",
   "language": "python",
   "name": "python3"
  },
  "language_info": {
   "codemirror_mode": {
    "name": "ipython",
    "version": 3
   },
   "file_extension": ".py",
   "mimetype": "text/x-python",
   "name": "python",
   "nbconvert_exporter": "python",
   "pygments_lexer": "ipython3",
   "version": "3.11.4"
  }
 },
 "nbformat": 4,
 "nbformat_minor": 5
}
